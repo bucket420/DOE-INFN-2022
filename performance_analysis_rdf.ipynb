{
 "cells": [
  {
   "cell_type": "code",
   "execution_count": 3,
   "id": "d38528f5",
   "metadata": {},
   "outputs": [
    {
     "name": "stdout",
     "output_type": "stream",
     "text": [
      "Welcome to JupyROOT 6.24/06\n"
     ]
    }
   ],
   "source": [
    "import ROOT\n",
    "import os\n",
    "import time\n",
    "import matplotlib.pyplot as plt\n",
    "import csv"
   ]
  },
  {
   "cell_type": "code",
   "execution_count": 4,
   "id": "bad90056",
   "metadata": {},
   "outputs": [],
   "source": [
    "path = \"../merged/\""
   ]
  },
  {
   "cell_type": "code",
   "execution_count": 5,
   "id": "67dc85f4",
   "metadata": {},
   "outputs": [],
   "source": [
    "def get_total_size(path, n_files):\n",
    "    filenames = sorted(os.listdir(path))\n",
    "    total_size = sum([os.path.getsize(path + filenames[i]) for i in range(n_files)])\n",
    "    return total_size / (2**30)"
   ]
  },
  {
   "cell_type": "code",
   "execution_count": 6,
   "id": "2cfffe25",
   "metadata": {},
   "outputs": [],
   "source": [
    "def col_average(data):\n",
    "    n_rows = len(data)\n",
    "    n_cols = len(data[0])\n",
    "    return [sum([data[i][j] for i in range(1, n_rows)]) / (n_rows - 1) for j in range(n_cols)]"
   ]
  },
  {
   "cell_type": "code",
   "execution_count": 7,
   "id": "4e440b8b",
   "metadata": {},
   "outputs": [],
   "source": [
    "def col_standard_deviation(data):\n",
    "    n_rows = len(data)\n",
    "    n_cols = len(data[0])\n",
    "    mean = col_average(data)\n",
    "    return [(sum([(data[i][j] - mean[j])**2 for i in range(1, n_rows)]) / (n_rows - 1))**0.5 for j in range(n_cols)]\n",
    "    "
   ]
  },
  {
   "cell_type": "code",
   "execution_count": 8,
   "id": "cb79e438",
   "metadata": {},
   "outputs": [],
   "source": [
    "def runtime_measure(path, n_files):\n",
    "    # Specify the number of threads\n",
    "    ROOT.ROOT.EnableImplicitMT()\n",
    "    \n",
    "    # Get paths to all the files to be read \n",
    "    filenames = sorted(os.listdir(path))\n",
    "    files_to_read = ROOT.std.vector('string')()\n",
    "    for i in range(n_files):\n",
    "        files_to_read.push_back(path + filenames[i])\n",
    "    \n",
    "    # Measure runtime\n",
    "    start_time = time.time()\n",
    "    data = ROOT.RDataFrame(\"rootuple/CandidateTree\", files_to_read)\n",
    "    cut = data.Filter(\"candidate_charge == 0\")\\\n",
    "          .Filter(\"candidate_cosAlpha > 0.99\")\\\n",
    "          .Filter(\"candidate_vProb > 0.05\")\\\n",
    "          .Filter(\"candidate_lxy / candidate_lxyErr > 3.0\")\\\n",
    "          .Filter(\"ditrack_mass > 1.014\")\\\n",
    "          .Filter(\"ditrack_mass < 1.024\")\\\n",
    "          .Filter(\"candidate_vMass > 5.33\")\\\n",
    "          .Filter(\"candidate_vMass < 5.40\")\n",
    "    np_array = cut.AsNumpy([\"candidate_vMass\"])\n",
    "    runtime = time.time() - start_time\n",
    "    \n",
    "    return runtime\n",
    "    "
   ]
  },
  {
   "cell_type": "code",
   "execution_count": 9,
   "id": "ebf9b9cc",
   "metadata": {},
   "outputs": [],
   "source": [
    "import multiprocessing\n",
    "import numpy as np\n",
    "import concurrent.futures"
   ]
  },
  {
   "cell_type": "code",
   "execution_count": 10,
   "id": "6562c804",
   "metadata": {},
   "outputs": [],
   "source": [
    "def to_numpy(files, result):\n",
    "    if files.empty(): return\n",
    "#     ROOT.ROOT.DisableImplicitMT()\n",
    "    data = ROOT.RDataFrame(\"rootuple/CandidateTree\", files)\n",
    "    cut = data.Filter(\"candidate_charge == 0\")\\\n",
    "          .Filter(\"candidate_cosAlpha > 0.99\")\\\n",
    "          .Filter(\"candidate_vProb > 0.05\")\\\n",
    "          .Filter(\"candidate_lxy / candidate_lxyErr > 3.0\")\\\n",
    "          .Filter(\"ditrack_mass > 1.014\")\\\n",
    "          .Filter(\"ditrack_mass < 1.024\")\\\n",
    "          .Filter(\"candidate_vMass > 5.33\")\\\n",
    "          .Filter(\"candidate_vMass < 5.40\")\n",
    "    result.append(cut.AsNumpy([\"candidate_vMass\"])[\"candidate_vMass\"])\n"
   ]
  },
  {
   "cell_type": "code",
   "execution_count": 178,
   "id": "a2b9e0ba",
   "metadata": {},
   "outputs": [],
   "source": [
    "def partition_files(path, n_files, n_processes):\n",
    "    filenames = sorted(os.listdir(path))\n",
    "    partitions = []\n",
    "    sizes = []\n",
    "    temp = 0\n",
    "    for i in range(n_processes):\n",
    "        if i >= n_files: break\n",
    "        n_files_in_partition = n_files // n_processes if i >= n_files % n_processes else n_files // n_processes + 1\n",
    "        files_to_read = ROOT.std.vector('string')()\n",
    "        partition_size = 0\n",
    "        for j in range(n_files_in_partition):\n",
    "            files_to_read.push_back(path + filenames[temp + j])\n",
    "            partition_size += os.path.getsize(path + filenames[temp + j]) / 2**30\n",
    "        temp += n_files_in_partition\n",
    "        partitions.append(files_to_read)\n",
    "        sizes.append(partition_size)\n",
    "    return partitions, sizes"
   ]
  },
  {
   "cell_type": "code",
   "execution_count": 28,
   "id": "24329e14",
   "metadata": {},
   "outputs": [
    {
     "data": {
      "text/plain": [
       "([<cppyy.gbl.std.vector<string> object at 0x561c1c778410>,\n",
       "  <cppyy.gbl.std.vector<string> object at 0x561c1c7a7c90>,\n",
       "  <cppyy.gbl.std.vector<string> object at 0x561c1c7a7da0>,\n",
       "  <cppyy.gbl.std.vector<string> object at 0x561c1a8c6310>,\n",
       "  <cppyy.gbl.std.vector<string> object at 0x561c1ab2bef0>],\n",
       " [3.2835384970530868,\n",
       "  4.541670988313854,\n",
       "  4.207963943481445,\n",
       "  3.867865301668644,\n",
       "  3.6777110574766994])"
      ]
     },
     "execution_count": 28,
     "metadata": {},
     "output_type": "execute_result"
    }
   ],
   "source": [
    "partition_files(path, 10, 5)"
   ]
  },
  {
   "cell_type": "code",
   "execution_count": 29,
   "id": "b00b9e85",
   "metadata": {},
   "outputs": [],
   "source": [
    "def runtime_measure_mp(path, n_files, n_processes):\n",
    "    # Measure runtime\n",
    "    partitions, _ = partition_files(path, n_files, n_processes)\n",
    "    start_time = time.time()\n",
    "    processes = []\n",
    "    result = multiprocessing.Manager().list()\n",
    "    for partition in partitions:\n",
    "        p = multiprocessing.Process(target=to_numpy, args=[partition, result])\n",
    "        p.start()\n",
    "        processes.append(p)\n",
    "        \n",
    "    for p in processes:\n",
    "        p.join()\n",
    "     \n",
    "    np.concatenate(tuple(result))\n",
    "    runtime = time.time() - start_time\n",
    "    \n",
    "    return runtime\n"
   ]
  },
  {
   "cell_type": "code",
   "execution_count": 13,
   "id": "bd3aebbe",
   "metadata": {},
   "outputs": [],
   "source": [
    "def to_numpy1(rdf, result):\n",
    "    cut = rdf.Filter(\"candidate_charge == 0\")\\\n",
    "          .Filter(\"candidate_cosAlpha > 0.99\")\\\n",
    "          .Filter(\"candidate_vProb > 0.05\")\\\n",
    "          .Filter(\"candidate_lxy / candidate_lxyErr > 3.0\")\\\n",
    "          .Filter(\"ditrack_mass > 1.014\")\\\n",
    "          .Filter(\"ditrack_mass < 1.024\")\\\n",
    "          .Filter(\"candidate_vMass > 5.33\")\\\n",
    "          .Filter(\"candidate_vMass < 5.40\")\n",
    "    result.append(cut.AsNumpy([\"candidate_vMass\"])[\"candidate_vMass\"])"
   ]
  },
  {
   "cell_type": "code",
   "execution_count": 14,
   "id": "20e9ceec",
   "metadata": {},
   "outputs": [],
   "source": [
    "def runtime_measure_mp1(path, n_files, n_processes):\n",
    "    filenames = sorted(os.listdir(path))\n",
    "    files_to_read = ROOT.std.vector('string')()\n",
    "    for i in range(n_files):\n",
    "        files_to_read.push_back(path + filenames[i])\n",
    "        \n",
    "    start_time = time.time()\n",
    "    processes = []\n",
    "    result = multiprocessing.Manager().list()\n",
    "    for i in range(n_processes):\n",
    "        rdf = ROOT.RDataFrame(\"rootuple/CandidateTree\", files_to_read).Range(i, 0, n_processes)\n",
    "        p = multiprocessing.Process(target=to_numpy1, args=[rdf, result])\n",
    "        p.start()\n",
    "        processes.append(p)\n",
    "        \n",
    "    for p in processes:\n",
    "        p.join()\n",
    "     \n",
    "    np.concatenate(tuple(result))\n",
    "    runtime = time.time() - start_time\n",
    "    \n",
    "    return runtime\n",
    "# , np.concatenate(tuple(result))"
   ]
  },
  {
   "cell_type": "code",
   "execution_count": 163,
   "id": "cf5abb5d",
   "metadata": {},
   "outputs": [
    {
     "data": {
      "text/plain": [
       "53.129727363586426"
      ]
     },
     "execution_count": 163,
     "metadata": {},
     "output_type": "execute_result"
    }
   ],
   "source": [
    "runtime_measure_mp1(path, 4, 4)"
   ]
  },
  {
   "cell_type": "code",
   "execution_count": 173,
   "id": "bc1167c0",
   "metadata": {},
   "outputs": [
    {
     "data": {
      "text/plain": [
       "42.70807123184204"
      ]
     },
     "execution_count": 173,
     "metadata": {},
     "output_type": "execute_result"
    }
   ],
   "source": [
    "runtime_measure_mp(path, 60, 60)"
   ]
  },
  {
   "cell_type": "code",
   "execution_count": 15,
   "id": "fb4eda7b",
   "metadata": {},
   "outputs": [],
   "source": [
    "def runtime_vs_size(path, n_threads, max_files, step, n_loops, target_dir):\n",
    "    result_path = (\"runtime_tests_rdf/%s/runtime_vs_size_%d_%d_%d_%d.csv\" % (target_dir, n_threads, max_files, step, n_loops))\n",
    "    x = [get_total_size(path, a) for a in range(step, max_files + step, step)]\n",
    "    with open(result_path, \"w+\", newline=\"\") as f:\n",
    "        csv.writer(f).writerow(x)\n",
    "    for n in range(n_loops):\n",
    "        y = [runtime_measure(path, i, n_threads) for i in range(step, max_files + step, step)]\n",
    "        with open(result_path, \"a+\", newline=\"\") as f:\n",
    "            csv.writer(f).writerow(y)\n"
   ]
  },
  {
   "cell_type": "code",
   "execution_count": 16,
   "id": "9fe595e6",
   "metadata": {},
   "outputs": [],
   "source": [
    "def runtime_vs_size_plot(path, n_threads, max_files, step, n_loops, target_dir):\n",
    "    if not os.path.exists(\"runtime_tests_rdf/%s\" % (target_dir)):\n",
    "        os.mkdir(\"runtime_tests_rdf/%s\" % (target_dir))\n",
    "    if not os.path.exists(\"figures/rdf/%s\" % (target_dir)):\n",
    "        os.mkdir(\"figures/rdf/%s\" % (target_dir))\n",
    "    result_path = (\"runtime_tests_rdf/%s/runtime_vs_size_%d_%d_%d_%d.csv\" % (target_dir, n_threads, max_files, step, n_loops))\n",
    "    if not os.path.exists(result_path):\n",
    "        runtime_vs_size(path, n_threads, max_files, step, n_loops, target_dir)\n",
    "    with open(result_path, \"r\") as f:\n",
    "        data = [[float(a) for a in row] for row in csv.reader(f)]\n",
    "        plt.figure(figsize = (15, 5))\n",
    "        plt.title('Runtime vs Size (%d threads)' % (n_threads))\n",
    "        plt.xlabel('Size (GB)')\n",
    "        plt.ylabel('Runtime (s)')\n",
    "        #plt.scatter(data[0], col_average(data))\n",
    "        #for r in range(1, len(data)):\n",
    "            #plt.scatter(data[0], data[r])\n",
    "        plt.errorbar(data[0], col_average(data), yerr=col_standard_deviation(data), fmt=\"o\", ecolor=\"orange\")\n",
    "        plt.savefig('figures/rdf/%s/runtime_vs_size_%d_%d_%d_%d.png' % (target_dir, n_threads, max_files, step, n_loops), bbox_inches='tight')\n"
   ]
  },
  {
   "cell_type": "code",
   "execution_count": 17,
   "id": "eafecb48",
   "metadata": {},
   "outputs": [],
   "source": [
    "def runtime_vs_threads(path, n_files, max_threads, step, n_loops, target_dir):\n",
    "    parent_dir = path.split('/')[-2]\n",
    "    result_path = (\"runtime_tests_rdf/%s/runtime_vs_threads_%d_%d_%d_%d.csv\" % (target_dir, n_files, max_threads, step, n_loops))\n",
    "    x = [a for a in range(step, max_threads + step, step)]\n",
    "    with open(result_path, \"w+\", newline=\"\") as f:\n",
    "        csv.writer(f).writerow(x)\n",
    "    for n in range(n_loops):\n",
    "        y = [runtime_measure(path, n_files, i) for i in range(step, max_threads + step, step)]\n",
    "        with open(result_path, \"a+\", newline=\"\") as f:\n",
    "            csv.writer(f).writerow(y)\n",
    "        "
   ]
  },
  {
   "cell_type": "code",
   "execution_count": 18,
   "id": "3ac680c0",
   "metadata": {},
   "outputs": [],
   "source": [
    "def runtime_vs_threads_plot(path, n_files, max_threads, step, n_loops, target_dir):\n",
    "    parent_dir = path.split('/')[-2]\n",
    "    if not os.path.exists(\"runtime_tests_rdf/%s\" % (target_dir)):\n",
    "        os.mkdir(\"runtime_tests_rdf/%s\" % (target_dir))\n",
    "    if not os.path.exists(\"figures/rdf/%s\" % (target_dir)):\n",
    "        os.mkdir(\"figures/rdf/%s\" % (target_dir))\n",
    "    result_path = (\"runtime_tests_rdf/%s/runtime_vs_threads_%d_%d_%d_%d.csv\" % (target_dir, n_files, max_threads, step, n_loops))\n",
    "    if not os.path.exists(result_path):\n",
    "        runtime_vs_threads(path, n_files, max_threads, step, n_loops, target_dir)\n",
    "    with open(result_path, \"r\") as f:\n",
    "        data = [[float(a) for a in row] for row in csv.reader(f)]\n",
    "        plt.figure(figsize = (15, 5))\n",
    "        plt.title('Runtime vs Threads (%.2f GB)' % (get_total_size(path, n_files)))\n",
    "        plt.xlabel('Threads')\n",
    "        plt.ylabel('Runtime (s)')\n",
    "        #plt.scatter(data[0], col_average(data))\n",
    "        #for r in range(1, len(data)):\n",
    "            #plt.scatter(data[0], data[r])\n",
    "        plt.xticks(range(step, max_threads + 1, step))\n",
    "        plt.gca().set_ylim([0, 50])\n",
    "        plt.errorbar(data[0], col_average(data[:]), yerr=col_standard_deviation(data[:]), fmt=\"o\", ecolor=\"orange\")\n",
    "        for i in range(len(data[0])): \n",
    "            plt.annotate(round(col_average(data[:])[i], 2), (data[0][i], col_average(data[:])[i]))\n",
    "        plt.savefig('figures/rdf/%s/runtime_vs_threads_%d_%d_%d_%d.png' % (target_dir, n_files, max_threads, step, n_loops), bbox_inches='tight')"
   ]
  },
  {
   "cell_type": "code",
   "execution_count": 19,
   "id": "c12ec59c",
   "metadata": {},
   "outputs": [],
   "source": [
    "def runtime_vs_processes(path, n_files, step, n_loops, target_dir):\n",
    "    parent_dir = path.split('/')[-2]\n",
    "    result_path = (\"runtime_tests_rdf/%s/runtime_vs_processes_%d_%d_%d.csv\" % (target_dir, n_files, step, n_loops))\n",
    "    x = [a for a in range(step, n_files + step, step)]\n",
    "    with open(result_path, \"w+\", newline=\"\") as f:\n",
    "        csv.writer(f).writerow(x)\n",
    "    for n in range(n_loops):\n",
    "        y = [runtime_measure_mp(path, n_files, i) for i in range(step, n_files + step, step)]\n",
    "        with open(result_path, \"a+\", newline=\"\") as f:\n",
    "            csv.writer(f).writerow(y)"
   ]
  },
  {
   "cell_type": "code",
   "execution_count": 20,
   "id": "3bc65fe0",
   "metadata": {},
   "outputs": [],
   "source": [
    "def runtime_vs_processes_plot(path, n_files, step, n_loops, target_dir):\n",
    "    parent_dir = path.split('/')[-2]\n",
    "    if not os.path.exists(\"runtime_tests_rdf/%s\" % (target_dir)):\n",
    "        os.mkdir(\"runtime_tests_rdf/%s\" % (target_dir))\n",
    "    if not os.path.exists(\"figures/rdf/%s\" % (target_dir)):\n",
    "        os.mkdir(\"figures/rdf/%s\" % (target_dir))\n",
    "    result_path = (\"runtime_tests_rdf/%s/runtime_vs_processes_%d_%d_%d.csv\" % (target_dir, n_files, step, n_loops))\n",
    "    if not os.path.exists(result_path):\n",
    "        runtime_vs_processes(path, n_files, step, n_loops, target_dir)\n",
    "    with open(result_path, \"r\") as f:\n",
    "        data = [[float(a) for a in row] for row in csv.reader(f)]\n",
    "        plt.figure(figsize = (20, 8))\n",
    "        plt.title('Runtime vs Processes (%d files, %.2f GB)' % (n_files, get_total_size(path, n_files)))\n",
    "        plt.xlabel('Processes')\n",
    "        plt.ylabel('Runtime (s)')\n",
    "        #plt.scatter(data[0], col_average(data))\n",
    "        #for r in range(1, len(data)):\n",
    "            #plt.scatter(data[0], data[r])\n",
    "        plt.xticks(range(step, n_files + 1, step))\n",
    "        plt.errorbar(data[0], col_average(data[:]), yerr=col_standard_deviation(data[:]), fmt=\"o\", ecolor=\"orange\")\n",
    "        for i in range(len(data[0])): \n",
    "            plt.annotate(round(col_average(data[:])[i], 2), (data[0][i], col_average(data[:])[i]))\n",
    "        plt.savefig('figures/rdf/%s/runtime_vs_processes_%d_%d_%d.png' % (target_dir, n_files, step, n_loops), bbox_inches='tight')"
   ]
  },
  {
   "cell_type": "code",
   "execution_count": 21,
   "id": "c42e6900",
   "metadata": {},
   "outputs": [],
   "source": [
    "def runtime_vs_size_mp(path, n_processes, max_files, step, n_loops, target_dir):\n",
    "    result_path = (\"runtime_tests_rdf/%s/runtime_vs_size_mp_%d_%d_%d_%d.csv\" % (target_dir, n_processes, max_files, step, n_loops))\n",
    "    x = [get_total_size(path, a) for a in range(step, max_files + step, step)]\n",
    "    with open(result_path, \"w+\", newline=\"\") as f:\n",
    "        csv.writer(f).writerow(x)\n",
    "    for n in range(n_loops):\n",
    "        y = [runtime_measure_mp(path, i, n_processes) for i in range(step, max_files + step, step)]\n",
    "        with open(result_path, \"a+\", newline=\"\") as f:\n",
    "            csv.writer(f).writerow(y)"
   ]
  },
  {
   "cell_type": "code",
   "execution_count": 22,
   "id": "7ef62b6a",
   "metadata": {},
   "outputs": [],
   "source": [
    "def runtime_vs_size_plot_mp(path, n_processes, max_files, step, n_loops, target_dir):\n",
    "    if not os.path.exists(\"runtime_tests_rdf/%s\" % (target_dir)):\n",
    "        os.mkdir(\"runtime_tests_rdf/%s\" % (target_dir))\n",
    "    if not os.path.exists(\"figures/rdf/%s\" % (target_dir)):\n",
    "        os.mkdir(\"figures/rdf/%s\" % (target_dir))\n",
    "    result_path = (\"runtime_tests_rdf/%s/runtime_vs_size_mp_%d_%d_%d_%d.csv\" % (target_dir, n_processes, max_files, step, n_loops))\n",
    "    if not os.path.exists(result_path):\n",
    "        runtime_vs_size_mp(path, n_processes, max_files, step, n_loops, target_dir)\n",
    "    with open(result_path, \"r\") as f:\n",
    "        data = [[float(a) for a in row] for row in csv.reader(f)]\n",
    "        plt.figure(figsize = (20, 8))\n",
    "        plt.title('Runtime vs Size (%d processes)' % (n_processes))\n",
    "        plt.xlabel('Size (GB)')\n",
    "        plt.ylabel('Runtime (s)')\n",
    "        #plt.scatter(data[0], col_average(data))\n",
    "        #for r in range(1, len(data)):\n",
    "            #plt.scatter(data[0], data[r])\n",
    "        plt.errorbar(data[0], col_average(data[1:]), yerr=col_standard_deviation(data[1:]), fmt=\"o\", ecolor=\"orange\")\n",
    "        for i in range(len(data[0])): \n",
    "            plt.annotate(\"%.2f(%d)\" % (round(col_average(data[1:])[i], 2), (i + 1) * step), (data[0][i], col_average(data[1:])[i]))\n",
    "        plt.savefig('figures/rdf/%s/runtime_vs_size_mp_%d_%d_%d_%d.png' % (target_dir, n_processes, max_files, step, n_loops), bbox_inches='tight')"
   ]
  },
  {
   "cell_type": "code",
   "execution_count": 19,
   "id": "e474328c",
   "metadata": {},
   "outputs": [],
   "source": [
    "#runtime_vs_threads_plot(path, 10, 10, 1, 10, \"merged\")\n"
   ]
  },
  {
   "cell_type": "code",
   "execution_count": 46,
   "id": "14093f52",
   "metadata": {},
   "outputs": [
    {
     "data": {
      "image/png": "[encoded data removed]",
      "text/plain": [
       "<Figure size 1440x576 with 1 Axes>"
      ]
     },
     "metadata": {
      "needs_background": "light"
     },
     "output_type": "display_data"
    }
   ],
   "source": [
    "runtime_vs_processes_plot(path, 60, 4, 10, \"merged\")"
   ]
  },
  {
   "cell_type": "code",
   "execution_count": 47,
   "id": "327acfae",
   "metadata": {},
   "outputs": [
    {
     "data": {
      "image/png": "[encoded data removed]",
      "text/plain": [
       "<Figure size 1440x576 with 1 Axes>"
      ]
     },
     "metadata": {
      "needs_background": "light"
     },
     "output_type": "display_data"
    }
   ],
   "source": [
    "runtime_vs_processes_plot(path, 80, 5, 10, \"merged\")"
   ]
  },
  {
   "cell_type": "code",
   "execution_count": 49,
   "id": "948b5cb9",
   "metadata": {},
   "outputs": [
    {
     "data": {
      "image/png": "[encoded data removed]",
      "text/plain": [
       "<Figure size 1440x576 with 1 Axes>"
      ]
     },
     "metadata": {
      "needs_background": "light"
     },
     "output_type": "display_data"
    }
   ],
   "source": [
    "runtime_vs_size_plot_mp(path, 20, 60, 4, 10, \"merged\")"
   ]
  },
  {
   "cell_type": "code",
   "execution_count": 50,
   "id": "42e32e3a",
   "metadata": {},
   "outputs": [
    {
     "data": {
      "image/png": "[encoded data removed]",
      "text/plain": [
       "<Figure size 1440x576 with 1 Axes>"
      ]
     },
     "metadata": {
      "needs_background": "light"
     },
     "output_type": "display_data"
    }
   ],
   "source": [
    "runtime_vs_size_plot_mp(path, 40, 80, 5, 10, \"merged\")"
   ]
  },
  {
   "cell_type": "code",
   "execution_count": 176,
   "id": "a050e5ac",
   "metadata": {},
   "outputs": [],
   "source": [
    "def to_numpy_detailed(files, size, index, result, process_runtimes):\n",
    "    if files.empty(): return\n",
    "    key = \"P%d (%.2f GB)\" % (index, size)\n",
    "    start_time = time.time()\n",
    "    data = ROOT.RDataFrame(\"rootuple/CandidateTree\", files)\n",
    "    cut = data.Filter(\"candidate_charge == 0\")\\\n",
    "          .Filter(\"candidate_cosAlpha > 0.99\")\\\n",
    "          .Filter(\"candidate_vProb > 0.05\")\\\n",
    "          .Filter(\"candidate_lxy / candidate_lxyErr > 3.0\")\\\n",
    "          .Filter(\"ditrack_mass > 1.014\")\\\n",
    "          .Filter(\"ditrack_mass < 1.024\")\\\n",
    "          .Filter(\"candidate_vMass > 5.33\")\\\n",
    "          .Filter(\"candidate_vMass < 5.40\")\n",
    "    result.append(cut.AsNumpy([\"candidate_vMass\"])[\"candidate_vMass\"])\n",
    "    runtime = time.time() - start_time\n",
    "    \n",
    "    process_runtimes[key] = runtime\n",
    "#     if key not in process_runtimes.keys():\n",
    "#         process_runtimes[key] = [runtime]\n",
    "#     else:\n",
    "#         process_runtimes[key].append(runtime)"
   ]
  },
  {
   "cell_type": "code",
   "execution_count": 177,
   "id": "979a157a",
   "metadata": {},
   "outputs": [],
   "source": [
    "def runtime_measure_detailed(path, n_files, n_processes):\n",
    "    partitions, sizes = partition_files(path, n_files, n_processes)\n",
    "    start_time = time.time()\n",
    "    processes = []\n",
    "    result = multiprocessing.Manager().list()\n",
    "    process_runtimes = multiprocessing.Manager().dict()\n",
    "    for i in range(len(partitions)):\n",
    "        p = multiprocessing.Process(target=to_numpy_detailed, args=[partitions[i], sizes[i], i, result, process_runtimes])\n",
    "        p.start()\n",
    "        processes.append(p)\n",
    "        \n",
    "    for p in processes:\n",
    "        p.join()\n",
    "     \n",
    "    start_concat = time.time()\n",
    "    np.concatenate(tuple(result))\n",
    "    concat_runtime = time.time() - start_concat\n",
    "    \n",
    "    runtime = time.time() - start_time\n",
    "    \n",
    "    return runtime, concat_runtime, dict(process_runtimes)"
   ]
  },
  {
   "cell_type": "code",
   "execution_count": 182,
   "id": "e82fd9c8",
   "metadata": {},
   "outputs": [
    {
     "data": {
      "text/plain": [
       "(8.360490322113037,\n",
       " 0.027414321899414062,\n",
       " {'P0 (1.58 GB)': 5.019754648208618,\n",
       "  'P1 (1.71 GB)': 5.294946670532227,\n",
       "  'P2 (2.01 GB)': 6.094419240951538,\n",
       "  'P3 (2.53 GB)': 7.727741003036499})"
      ]
     },
     "execution_count": 182,
     "metadata": {},
     "output_type": "execute_result"
    }
   ],
   "source": [
    "runtime_measure_detailed(path, 4, 4)"
   ]
  },
  {
   "cell_type": "code",
   "execution_count": 183,
   "id": "d03102ab",
   "metadata": {},
   "outputs": [
    {
     "data": {
      "text/plain": [
       "(7.608217477798462,\n",
       " 0.04311490058898926,\n",
       " {'P0 (1.58 GB)': 5.312106370925903,\n",
       "  'P1 (1.71 GB)': 5.400390386581421,\n",
       "  'P7 (1.74 GB)': 5.063122510910034,\n",
       "  'P5 (1.88 GB)': 5.876500844955444,\n",
       "  'P2 (2.01 GB)': 6.200164794921875,\n",
       "  'P6 (2.13 GB)': 6.144861698150635,\n",
       "  'P4 (2.33 GB)': 6.902842998504639,\n",
       "  'P3 (2.53 GB)': 7.047088861465454})"
      ]
     },
     "execution_count": 183,
     "metadata": {},
     "output_type": "execute_result"
    }
   ],
   "source": [
    "runtime_measure_detailed(path, 8, 8)"
   ]
  },
  {
   "cell_type": "code",
   "execution_count": 184,
   "id": "33c7500a",
   "metadata": {},
   "outputs": [
    {
     "data": {
      "text/plain": [
       "(13.248319387435913,\n",
       " 0.024225950241088867,\n",
       " {'P0 (3.28 GB)': 9.875129222869873,\n",
       "  'P3 (3.87 GB)': 11.09149432182312,\n",
       "  'P2 (4.21 GB)': 11.549472332000732,\n",
       "  'P1 (4.54 GB)': 12.748301267623901})"
      ]
     },
     "execution_count": 184,
     "metadata": {},
     "output_type": "execute_result"
    }
   ],
   "source": [
    "runtime_measure_detailed(path, 8, 4)"
   ]
  },
  {
   "cell_type": "code",
   "execution_count": 185,
   "id": "b3eae0f2",
   "metadata": {},
   "outputs": [
    {
     "data": {
      "text/plain": [
       "(8.889277935028076,\n",
       " 0.11078381538391113,\n",
       " {'P12 (1.37 GB)': 4.210587739944458,\n",
       "  'P0 (1.58 GB)': 5.181310415267944,\n",
       "  'P1 (1.71 GB)': 5.562891483306885,\n",
       "  'P9 (1.62 GB)': 5.243724346160889,\n",
       "  'P7 (1.74 GB)': 5.6750569343566895,\n",
       "  'P5 (1.88 GB)': 5.933375835418701,\n",
       "  'P11 (1.92 GB)': 5.878897666931152,\n",
       "  'P2 (2.01 GB)': 6.827112913131714,\n",
       "  'P14 (2.02 GB)': 6.1722235679626465,\n",
       "  'P4 (2.33 GB)': 7.070175647735596,\n",
       "  'P6 (2.13 GB)': 7.006622552871704,\n",
       "  'P8 (2.05 GB)': 6.977280855178833,\n",
       "  'P15 (1.93 GB)': 6.808522939682007,\n",
       "  'P3 (2.53 GB)': 7.751909255981445,\n",
       "  'P13 (2.10 GB)': 7.133990526199341,\n",
       "  'P10 (2.05 GB)': 7.635502576828003})"
      ]
     },
     "execution_count": 185,
     "metadata": {},
     "output_type": "execute_result"
    }
   ],
   "source": [
    "runtime_measure_detailed(path, 16, 16)"
   ]
  },
  {
   "cell_type": "code",
   "execution_count": 186,
   "id": "ed2a53f8",
   "metadata": {},
   "outputs": [
    {
     "data": {
      "text/plain": [
       "(13.329874515533447,\n",
       " 0.04445457458496094,\n",
       " {'P6 (3.48 GB)': 9.668254137039185,\n",
       "  'P0 (3.28 GB)': 10.578017950057983,\n",
       "  'P3 (3.87 GB)': 10.798535108566284,\n",
       "  'P4 (3.68 GB)': 11.139503002166748,\n",
       "  'P5 (3.97 GB)': 11.202868223190308,\n",
       "  'P7 (3.95 GB)': 11.064476728439331,\n",
       "  'P2 (4.21 GB)': 12.151692867279053,\n",
       "  'P1 (4.54 GB)': 12.836957454681396})"
      ]
     },
     "execution_count": 186,
     "metadata": {},
     "output_type": "execute_result"
    }
   ],
   "source": [
    "runtime_measure_detailed(path, 16, 8)"
   ]
  },
  {
   "cell_type": "code",
   "execution_count": null,
   "id": "6c7ea527",
   "metadata": {},
   "outputs": [],
   "source": []
  }
 ],
 "metadata": {
  "kernelspec": {
   "display_name": "Python 3 (ipykernel)",
   "language": "python",
   "name": "python3"
  },
  "language_info": {
   "codemirror_mode": {
    "name": "ipython",
    "version": 3
   },
   "file_extension": ".py",
   "mimetype": "text/x-python",
   "name": "python",
   "nbconvert_exporter": "python",
   "pygments_lexer": "ipython3",
   "version": "3.9.13"
  }
 },
 "nbformat": 4,
 "nbformat_minor": 5
}
