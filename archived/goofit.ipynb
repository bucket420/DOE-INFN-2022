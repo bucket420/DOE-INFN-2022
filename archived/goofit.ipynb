{
 "cells": [
  {
   "cell_type": "code",
   "execution_count": 1,
   "id": "bd43fcb0",
   "metadata": {},
   "outputs": [
    {
     "name": "stdout",
     "output_type": "stream",
     "text": [
      "Welcome to JupyROOT 6.26/04\n"
     ]
    }
   ],
   "source": [
    "import ROOT\n",
    "import matplotlib.pyplot as plt\n",
    "import numpy as np\n",
    "import goofit as gf\n",
    "import uproot\n",
    "import multiprocessing"
   ]
  },
  {
   "cell_type": "code",
   "execution_count": 2,
   "id": "81df5777",
   "metadata": {},
   "outputs": [],
   "source": [
    "data = uproot.open(\"filtered_data/mass.root:CandidateTree\").arrays(library=\"np\")[\"candidate_vMass\"]"
   ]
  },
  {
   "cell_type": "code",
   "execution_count": 3,
   "id": "066c39a9",
   "metadata": {},
   "outputs": [],
   "source": [
    "mass = gf.Observable('mass', 5.33, 5.4)\n",
    "mean = gf.Variable('mu', 5.37, 5.33, 5.4)\n",
    "sigma = gf.Variable('sigma', 0.1, 0.01, 0.2)\n",
    "gauss = gf.GaussianPdf(\"gauss\", mass, mean, sigma)\n",
    "\n",
    "# sigma2 = gf.Variable('sigma2', 0.01, 0.001, 0.1)\n",
    "# gauss2 = gf.PolynomialPdf(\"gauss2\", mass, mean, sigma2)\n"
   ]
  },
  {
   "cell_type": "code",
   "execution_count": 4,
   "id": "fdc1cd0f",
   "metadata": {},
   "outputs": [],
   "source": [
    "a0_0 = gf.Variable(\"a0_0\", 1.0)\n",
    "\n",
    "poly0 = gf.PolynomialPdf(\"poly0\", mass, [a0_0])"
   ]
  },
  {
   "cell_type": "code",
   "execution_count": 5,
   "id": "d2f45c02",
   "metadata": {},
   "outputs": [],
   "source": [
    "# a0 = gf.Variable(\"a0\", 1.2, 1, 2)\n",
    "# a1 = gf.Variable(\"a1\", 0.5, 0.0, 1.0)\n",
    "# a2 = gf.Variable(\"a2\", -0.2, 0.0, 1.0)\n",
    "a1_0 = gf.Variable(\"a1_0\", 0.0)\n",
    "a1_1 = gf.Variable(\"a1_1\", 1.0)\n",
    "\n",
    "poly1 = gf.PolynomialPdf(\"poly1\", mass, [a1_0, a1_1])"
   ]
  },
  {
   "cell_type": "code",
   "execution_count": 6,
   "id": "dde9de4f",
   "metadata": {},
   "outputs": [],
   "source": [
    "a2_0 = gf.Variable(\"a2_0\", -1.0)\n",
    "a2_1 = gf.Variable(\"a2_1\", 0.0)\n",
    "a2_2 = gf.Variable(\"a2_2\", 2.0)\n",
    "\n",
    "poly2 = gf.PolynomialPdf(\"poly2\", mass, [a2_0, a2_1, a2_2])"
   ]
  },
  {
   "cell_type": "code",
   "execution_count": 25,
   "id": "65010e1d",
   "metadata": {},
   "outputs": [],
   "source": [
    "a0 = gf.Variable(\"a0\", 1.0)\n",
    "a1 = gf.Variable(\"a1\", 0.5, 0.0, 1.0)\n",
    "a2 = gf.Variable(\"a2\", -0.3, -0.5, 1.0)\n",
    "\n",
    "chebyshev = gf.AddPdf('bkg', [a0, a1, a2], [poly0, poly1, poly2])"
   ]
  },
  {
   "cell_type": "code",
   "execution_count": 17,
   "id": "6883fbe1",
   "metadata": {},
   "outputs": [],
   "source": [
    "f0 = gf.Variable('f_0', .5, 0, 1)"
   ]
  },
  {
   "cell_type": "code",
   "execution_count": 18,
   "id": "b3d0b3ee",
   "metadata": {},
   "outputs": [],
   "source": [
    "pdf = gf.AddPdf('pdf', [f0], [gauss, chebyshev])"
   ]
  },
  {
   "cell_type": "code",
   "execution_count": 19,
   "id": "b11814df",
   "metadata": {},
   "outputs": [],
   "source": [
    "ds = gf.UnbinnedDataSet(mass)\n",
    "ds.from_matrix([data], filter=True)"
   ]
  },
  {
   "cell_type": "code",
   "execution_count": 20,
   "id": "a263984e",
   "metadata": {},
   "outputs": [
    {
     "name": "stdout",
     "output_type": "stream",
     "text": [
      "MnSeedGenerator: for initial parameters FCN = -1066182.317419\n",
      "MnSeedGenerator: Initial state:   - FCN =  -1066182.317419 Edm =      1397.94 NCalls =     19\n",
      "VariableMetric: start iterating until Edm is < 0.0001\n",
      "VariableMetric: Initial state   - FCN =  -1066182.317419 Edm =      1397.94 NCalls =     19\n",
      "VariableMetric: Iteration #   0 - FCN =  -1066182.317419 Edm =      1397.94 NCalls =     19\n",
      "VariableMetric: Iteration #   1 - FCN =  -1067404.322236 Edm =     0.421369 NCalls =     37\n",
      "VariableMetric: Iteration #   2 - FCN =  -1067404.720869 Edm =    0.0362718 NCalls =     50\n",
      "VariableMetric: Iteration #   3 - FCN =  -1067405.180052 Edm =     0.562585 NCalls =     69\n",
      "VariableMetric: Iteration #   4 - FCN =  -1067406.681551 Edm =      1.62153 NCalls =     86\n",
      "VariableMetric: Iteration #   5 - FCN =  -1067407.645364 Edm =     0.456133 NCalls =    101\n",
      "VariableMetric: Iteration #   6 - FCN =  -1067408.071636 Edm =     0.387909 NCalls =    114\n",
      "VariableMetric: Iteration #   7 - FCN =  -1067408.395017 Edm =    0.0202094 NCalls =    127\n",
      "VariableMetric: Iteration #   8 - FCN =  -1067408.426719 Edm =   0.00146078 NCalls =    140\n",
      "VariableMetric: Iteration #   9 - FCN =  -1067408.428244 Edm =   0.00066843 NCalls =    153\n",
      "VariableMetric: Iteration #  10 - FCN =  -1067408.446833 Edm =    0.0173728 NCalls =    169\n",
      "VariableMetric: Iteration #  11 - FCN =  -1067408.447251 Edm =   0.00369799 NCalls =    182\n",
      "VariableMetric: Iteration #  12 - FCN =  -1067408.447251 Edm =   0.00369799 NCalls =    193\n",
      "VariableMetric: After Hessian   - FCN =  -1067408.447251 Edm =      47.8707 NCalls =    230\n",
      "VariableMetric: Iteration #  13 - FCN =  -1067408.447251 Edm =      47.8707 NCalls =    230\n",
      "VariableMetric: Iteration #  14 - FCN =  -1067408.447773 Edm =      61.0525 NCalls =    243\n",
      "VariableMetric: Iteration #  15 - FCN =  -1067408.488111 Edm =    0.0324897 NCalls =    257\n",
      "VariableMetric: Iteration #  16 - FCN =   -1067408.50254 Edm =    0.0175514 NCalls =    271\n",
      "VariableMetric: Iteration #  17 - FCN =  -1067408.502977 Edm =     0.034374 NCalls =    285\n",
      "VariableMetric: Iteration #  18 - FCN =  -1067408.503277 Edm =      315.649 NCalls =    301\n",
      "VariableMetric: Iteration #  19 - FCN =  -1067408.503754 Edm =      11.1732 NCalls =    317\n",
      "VariableMetric: Iteration #  20 - FCN =  -1067408.504214 Edm =      226.616 NCalls =    331\n",
      "VariableMetric: Iteration #  21 - FCN =  -1067408.504533 Edm =       0.8799 NCalls =    346\n",
      "VariableMetric: Iteration #  22 - FCN =  -1067408.505141 Edm =     0.012461 NCalls =    359\n",
      "VariableMetric: Iteration #  23 - FCN =  -1067408.505141 Edm =     0.012461 NCalls =    370\n",
      "\n",
      "WARNING: Minuit did not converge.\n",
      "\n",
      "# of function calls: 359\n",
      "minimum function Value: -1067408.505141\n",
      "minimum edm: 0.01246104166834\n",
      "minimum internal state vector: LAVector parameters:\n",
      "     0.1590284883776\n",
      "    0.04127274347108\n",
      "     -1.522567987604\n",
      "     -2.623486518831\n",
      "   0.007392184808763\n",
      "\n",
      "minimum internal covariance matrix: LASymMatrix parameters:\n",
      "  4.0735853e-05  -1.855664e-07  4.9596803e-05 -0.00014525977 -0.00032572967\n",
      "  -1.855664e-07  1.7801147e-06 -1.1450863e-06 -2.3257226e-06 -0.00027984311\n",
      "  4.9596803e-05 -1.1450863e-06  0.00011992273 -0.00043181068 -0.00043639615\n",
      " -0.00014525977 -2.3257226e-06 -0.00043181068      0.5611927    0.021742144\n",
      " -0.00032572967 -0.00027984311 -0.00043639615    0.021742144     0.14913729\n",
      "\n",
      "\n",
      "# ext. ||   Name    ||   type  ||     Value     ||  Error +/- \n",
      "\n",
      "   0   ||       f_0 || limited ||     0.5791795144002 ||0.00222806043474\n",
      "   1   ||        mu || limited ||       5.36644413594 ||3.299187313699e-05\n",
      "   2   ||     sigma || limited ||    0.01011046228979 ||3.546410048862e-05\n",
      "   3   ||        a0 ||  const  ||                   1 ||\n",
      "   4   ||        a1 || limited ||     0.2523821424198 ||0.2194858307118\n",
      "   5   ||        a2 || limited ||    0.01478423497074 ||0.5393681737872\n",
      "   6   ||      a0_0 ||  const  ||                   1 ||\n",
      "   7   ||      a1_0 ||  const  ||                   0 ||\n",
      "   8   ||      a1_1 ||  const  ||                   1 ||\n",
      "   9   ||      a2_0 ||  const  ||                  -1 ||\n",
      "  10   ||      a2_1 ||  const  ||                   0 ||\n",
      "  11   ||      a2_2 ||  const  ||                   2 ||\n",
      "\n",
      "\n",
      "\n",
      "WARNING: FunctionMinimum is invalid: \n",
      "\t Edm is above max\n",
      "\n",
      "The minimization took: 1.2555 s\n",
      "Average time per call: 3.4981 ms\n",
      "HesseFailed: 0\n",
      "HasCovariance: 1\n",
      "HasValidCovariance: 1\n",
      "HasValidParameters: 1\n",
      "IsAboveMaxEdm: 1\n",
      "HasReachedCallLimit: 0\n",
      "HasAccurateCovar: 0\n",
      "HasPosDefCovar : 1\n",
      "HasMadePosDefCovar : 0\n"
     ]
    },
    {
     "data": {
      "text/plain": [
       "<goofit.minuit2.FunctionMinimum at 0x7f238ba723f0>"
      ]
     },
     "execution_count": 20,
     "metadata": {},
     "output_type": "execute_result"
    },
    {
     "name": "stderr",
     "output_type": "stream",
     "text": [
      "Info: VariableMetricBuilder: no improvement in line search\n",
      "Info: VariableMetricBuilder: machine accuracy limits further improvement.\n",
      "Info in matrix forced pos-def by adding to diagonal : padd = 0.0581807\n",
      "Info: MnHesse: matrix was forced pos. def. \n",
      "Info: VariableMetricBuilder: Tolerance is not sufficient, continue the minimization\n",
      "Info in Current  Edm is : edm = 47.8707\n",
      "Info in Required Edm is : edmval = 0.0001\n",
      "Info: DavidonErrorUpdator: delgam < 0 : first derivatives increasing along search line\n",
      "Info: VariableMetricBuilder: matrix not pos.def, gdel > 0\n",
      "Info: gdel = 0.0323524\n",
      "Info in negative or zero diagonal element in covariance matrix : i = 3\n",
      "Info in negative or zero diagonal element in covariance matrix : i = 4\n",
      "Info in added to diagonal of Error matrix a value : dg = 3.41607\n",
      "Info: gdel = -2101.06\n",
      "Info: VariableMetricBuilder: no improvement in line search\n",
      "Info: VariableMetricBuilder: iterations finish without convergence.\n",
      "Info in VariableMetricBuilder : edm = 0.202216\n",
      "Info in             requested : edmval = 0.0001\n",
      "Info: VariableMetricBuilder: FunctionMinimum is invalid after second try\n"
     ]
    }
   ],
   "source": [
    "pdf.fitTo(ds)"
   ]
  },
  {
   "cell_type": "code",
   "execution_count": 21,
   "id": "afee3310",
   "metadata": {},
   "outputs": [
    {
     "data": {
      "text/plain": [
       "0.5791795144001594"
      ]
     },
     "execution_count": 21,
     "metadata": {},
     "output_type": "execute_result"
    }
   ],
   "source": [
    "f0.value"
   ]
  },
  {
   "cell_type": "code",
   "execution_count": 22,
   "id": "92a83a86",
   "metadata": {},
   "outputs": [],
   "source": [
    "grid1, points1 = gauss.evaluatePdf(mass)\n",
    "xs1 = grid1.to_matrix().flatten()\n",
    "points1 = np.asarray(points1)\n",
    "\n",
    "grid2, points2 = chebyshev.evaluatePdf(mass)\n",
    "xs2 = grid2.to_matrix().flatten()\n",
    "points2 = np.asarray(points2)"
   ]
  },
  {
   "cell_type": "code",
   "execution_count": 23,
   "id": "e0b94f53",
   "metadata": {},
   "outputs": [],
   "source": [
    "grid, points = pdf.evaluatePdf(mass)\n",
    "xs = grid.to_matrix().flatten()"
   ]
  },
  {
   "cell_type": "code",
   "execution_count": 24,
   "id": "b0c2045f",
   "metadata": {},
   "outputs": [
    {
     "data": {
      "image/png": "[encoded data removed]",
      "text/plain": [
       "<Figure size 864x288 with 1 Axes>"
      ]
     },
     "metadata": {
      "needs_background": "light"
     },
     "output_type": "display_data"
    }
   ],
   "source": [
    "fig, ax = plt.subplots(figsize=(12,4))\n",
    "ax.plot(xs, points, label='Total')\n",
    "ax.plot(xs1, points1 * f0.value, label = \"signal\")\n",
    "ax.plot(xs2, points2 * (1 - f0.value), label = \"bkg\")\n",
    "ax.hist(data, bins=200, density=True, alpha=.4, label='data')\n",
    "ax.set_xlim(5.32, 5.41)\n",
    "ax.set_xlabel('mass')\n",
    "ax.set_ylabel('density')\n",
    "plt.legend()\n",
    "plt.show()"
   ]
  },
  {
   "cell_type": "code",
   "execution_count": null,
   "id": "db064277",
   "metadata": {},
   "outputs": [],
   "source": []
  },
  {
   "cell_type": "code",
   "execution_count": null,
   "id": "b75509a6",
   "metadata": {},
   "outputs": [],
   "source": []
  }
 ],
 "metadata": {
  "kernelspec": {
   "display_name": "Python 3 (ipykernel)",
   "language": "python",
   "name": "python3"
  },
  "language_info": {
   "codemirror_mode": {
    "name": "ipython",
    "version": 3
   },
   "file_extension": ".py",
   "mimetype": "text/x-python",
   "name": "python",
   "nbconvert_exporter": "python",
   "pygments_lexer": "ipython3",
   "version": "3.9.13"
  }
 },
 "nbformat": 4,
 "nbformat_minor": 5
}
