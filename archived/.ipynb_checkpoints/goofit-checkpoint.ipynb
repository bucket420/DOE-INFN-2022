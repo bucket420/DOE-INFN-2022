{
 "cells": [
  {
   "cell_type": "code",
   "execution_count": 2,
   "id": "bd43fcb0",
   "metadata": {},
   "outputs": [
    {
     "name": "stdout",
     "output_type": "stream",
     "text": [
      "Welcome to JupyROOT 6.24/06\n"
     ]
    }
   ],
   "source": [
    "import ROOT\n",
    "import matplotlib.pyplot as plt\n",
    "import numpy as np\n",
    "import goofit as gf\n",
    "import uproot\n",
    "import multiprocessing"
   ]
  },
  {
   "cell_type": "code",
   "execution_count": 3,
   "id": "81df5777",
   "metadata": {},
   "outputs": [],
   "source": [
    "data = uproot.open(\"filtered_data/mass.root:CandidateTree\").arrays(library=\"np\")[\"candidate_vMass\"]"
   ]
  },
  {
   "cell_type": "code",
   "execution_count": 4,
   "id": "7929579d",
   "metadata": {},
   "outputs": [
    {
     "data": {
      "text/plain": [
       "189667"
      ]
     },
     "execution_count": 4,
     "metadata": {},
     "output_type": "execute_result"
    }
   ],
   "source": [
    "len(data)"
   ]
  },
  {
   "cell_type": "code",
   "execution_count": 5,
   "id": "066c39a9",
   "metadata": {},
   "outputs": [],
   "source": [
    "mass = gf.Observable('mass', 5.33, 5.4)\n",
    "mean = gf.Variable('mu', 5.36, 5.2, 5.4)\n",
    "sigma1 = gf.Variable('sigma1', 0.1, 0.01, 0.2)\n",
    "gauss1 = gf.GaussianPdf(\"gauss1\", mass, mean, sigma1)\n",
    "\n",
    "# sigma2 = gf.Variable('sigma2', 0.01, 0.001, 0.1)\n",
    "# gauss2 = gf.PolynomialPdf(\"gauss2\", mass, mean, sigma2)\n"
   ]
  },
  {
   "cell_type": "code",
   "execution_count": 6,
   "id": "d2f45c02",
   "metadata": {},
   "outputs": [
    {
     "ename": "TypeError",
     "evalue": "unsupported operand type(s) for -: 'int' and 'goofit._goofit.Variable'",
     "output_type": "error",
     "traceback": [
      "\u001b[0;31m---------------------------------------------------------------------------\u001b[0m",
      "\u001b[0;31mTypeError\u001b[0m                                 Traceback (most recent call last)",
      "Input \u001b[0;32mIn [6]\u001b[0m, in \u001b[0;36m<cell line: 5>\u001b[0;34m()\u001b[0m\n\u001b[1;32m      2\u001b[0m a1 \u001b[38;5;241m=\u001b[39m gf\u001b[38;5;241m.\u001b[39mVariable(\u001b[38;5;124m\"\u001b[39m\u001b[38;5;124ma1\u001b[39m\u001b[38;5;124m\"\u001b[39m, \u001b[38;5;241m-\u001b[39m\u001b[38;5;241m0.2\u001b[39m, \u001b[38;5;241m0.0\u001b[39m, \u001b[38;5;241m1.0\u001b[39m)\n\u001b[1;32m      3\u001b[0m \u001b[38;5;66;03m# a2 = gf.Variable(\"a2\", -2, 1, 2.0)\u001b[39;00m\n\u001b[0;32m----> 5\u001b[0m poly \u001b[38;5;241m=\u001b[39m gf\u001b[38;5;241m.\u001b[39mPolynomialPdf(\u001b[38;5;124m\"\u001b[39m\u001b[38;5;124mbkg\u001b[39m\u001b[38;5;124m\"\u001b[39m, mass, [\u001b[38;5;241;43m1\u001b[39;49m\u001b[43m \u001b[49m\u001b[38;5;241;43m-\u001b[39;49m\u001b[43m \u001b[49m\u001b[43ma1\u001b[49m, a0, \u001b[38;5;241m2\u001b[39m \u001b[38;5;241m*\u001b[39m a1])\n",
      "\u001b[0;31mTypeError\u001b[0m: unsupported operand type(s) for -: 'int' and 'goofit._goofit.Variable'"
     ]
    }
   ],
   "source": [
    "a0 = gf.Variable(\"a0\", 0.5, 0.0, 1.0)\n",
    "a1 = gf.Variable(\"a1\", -0.2, 0.0, 1.0)\n",
    "# a2 = gf.Variable(\"a2\", -2, 1, 2.0)\n",
    "\n",
    "poly = gf.PolynomialPdf(\"bkg\", mass, [1 - a1, a0, 2 * a1])"
   ]
  },
  {
   "cell_type": "code",
   "execution_count": 94,
   "id": "6883fbe1",
   "metadata": {},
   "outputs": [],
   "source": [
    "f0 = gf.Variable('f_0', .5, 0, 1)"
   ]
  },
  {
   "cell_type": "code",
   "execution_count": 95,
   "id": "b3d0b3ee",
   "metadata": {},
   "outputs": [],
   "source": [
    "pdf = gf.AddPdf('pdf', [f0], [gauss1, poly])"
   ]
  },
  {
   "cell_type": "code",
   "execution_count": 96,
   "id": "b11814df",
   "metadata": {},
   "outputs": [],
   "source": [
    "ds = gf.UnbinnedDataSet(mass)\n",
    "ds.from_matrix([data], filter=True)"
   ]
  },
  {
   "cell_type": "code",
   "execution_count": 97,
   "id": "a263984e",
   "metadata": {},
   "outputs": [
    {
     "name": "stdout",
     "output_type": "stream",
     "text": [
      "MnSeedGenerator: for initial parameters FCN = -1066193.638538\n",
      "MnSeedGenerator: Initial state:   - FCN =  -1066193.638538 Edm =      1374.55 NCalls =     21\n",
      "MnSeedGenerator: Negative G2 found - new state:   - FCN =  -1066198.877592 Edm =      1368.76 NCalls =     61\n",
      "VariableMetric: start iterating until Edm is < 0.0001\n",
      "VariableMetric: Initial state   - FCN =  -1066198.877592 Edm =      1368.76 NCalls =     61\n",
      "VariableMetric: Iteration #   0 - FCN =  -1066198.877592 Edm =      1368.76 NCalls =     61\n",
      "VariableMetric: Iteration #   1 - FCN =  -1067404.255927 Edm =    0.0900849 NCalls =     75\n",
      "VariableMetric: Iteration #   2 - FCN =  -1067404.378334 Edm =    0.0390014 NCalls =     88\n",
      "VariableMetric: Iteration #   3 - FCN =  -1067406.614123 Edm =      1.11265 NCalls =    106\n",
      "VariableMetric: Iteration #   4 - FCN =  -1067407.179708 Edm =      2.43128 NCalls =    118\n",
      "VariableMetric: Iteration #   5 - FCN =  -1067408.028107 Edm =    0.0433997 NCalls =    130\n",
      "VariableMetric: Iteration #   6 - FCN =  -1067408.089073 Edm =   0.00877346 NCalls =    143\n",
      "VariableMetric: Iteration #   7 - FCN =   -1067408.12707 Edm =      14.1022 NCalls =    164\n",
      "VariableMetric: Iteration #   8 - FCN =  -1067408.322409 Edm =     0.176294 NCalls =    180\n",
      "VariableMetric: Iteration #   9 - FCN =  -1067408.356422 Edm =   0.00226832 NCalls =    192\n",
      "VariableMetric: Iteration #  10 - FCN =   -1067408.44088 Edm =    0.0131273 NCalls =    213\n",
      "VariableMetric: Iteration #  11 - FCN =  -1067408.446414 Edm =   0.00131781 NCalls =    226\n",
      "VariableMetric: Iteration #  12 - FCN =  -1067408.446414 Edm =   0.00131781 NCalls =    232\n",
      "VariableMetric: After Hessian   - FCN =  -1067408.446414 Edm =      7.53913 NCalls =    269\n",
      "VariableMetric: Iteration #  13 - FCN =  -1067408.446414 Edm =      7.53913 NCalls =    269\n",
      "VariableMetric: Iteration #  14 - FCN =  -1067408.486576 Edm =     0.018177 NCalls =    289\n",
      "VariableMetric: Iteration #  15 - FCN =   -1067408.50225 Edm =   0.00190704 NCalls =    302\n",
      "VariableMetric: Iteration #  16 - FCN =   -1067408.50536 Edm =   0.00349557 NCalls =    315\n",
      "VariableMetric: Iteration #  17 - FCN =  -1067408.505361 Edm =     0.453115 NCalls =    332\n",
      "VariableMetric: Iteration #  18 - FCN =  -1067408.505519 Edm =      134.688 NCalls =    351\n",
      "VariableMetric: Iteration #  19 - FCN =  -1067408.505519 Edm =      134.688 NCalls =    362\n",
      "\n",
      "WARNING: Minuit did not converge.\n",
      "\n",
      "# of function calls: 351\n",
      "minimum function Value: -1067408.505519\n",
      "minimum edm: 134.6879653302\n",
      "minimum internal state vector: LAVector parameters:\n",
      "     0.1587935266191\n",
      "     0.7267511061619\n",
      "     -1.523125179457\n",
      "     0.3136780246574\n",
      "     -1.177521048589\n",
      "\n",
      "minimum internal covariance matrix: LASymMatrix parameters:\n",
      "      342.56249    -0.23180337 -0.00058429153   -0.023107474   -0.011114854\n",
      "    -0.23180337   0.0024686441    -0.88846101   0.0057574801   -0.044190353\n",
      " -0.00058429153    -0.88846101      342.56054   -0.032541223   -0.015543417\n",
      "   -0.023107474   0.0057574801   -0.032541223      4.4918804     -35.040918\n",
      "   -0.011114854   -0.044190353   -0.015543417     -35.040918      274.02161\n",
      "\n",
      "\n",
      "# ext. ||   Name    ||   type  ||     Value     ||  Error +/- \n",
      "\n",
      "   0   ||       f_0 || limited ||     0.5790635137574 ||0.628133982364\n",
      "   1   ||        mu || limited ||      5.366444512723 ||0.002625073156907\n",
      "   2   ||    sigma1 || limited ||    0.01010792512772 ||0.1001692165556\n",
      "   3   ||        a0 || limited ||     0.6542796357522 ||0.808761584636\n",
      "   4   ||        a1 || limited ||    0.03817056084934 ||0.6531488217312\n",
      "\n",
      "\n",
      "\n",
      "WARNING: FunctionMinimum is invalid: \n",
      "\t Edm is above max\n",
      "\n",
      "The minimization took: 12.397 s\n",
      "Average time per call: 35.323 ms\n",
      "HesseFailed: 0\n",
      "HasCovariance: 1\n",
      "HasValidCovariance: 1\n",
      "HasValidParameters: 1\n",
      "IsAboveMaxEdm: 1\n",
      "HasReachedCallLimit: 0\n",
      "HasAccurateCovar: 0\n",
      "HasPosDefCovar : 1\n",
      "HasMadePosDefCovar : 0\n"
     ]
    },
    {
     "data": {
      "text/plain": [
       "<goofit.minuit2.FunctionMinimum at 0x7f323092c0b0>"
      ]
     },
     "execution_count": 97,
     "metadata": {},
     "output_type": "execute_result"
    },
    {
     "name": "stderr",
     "output_type": "stream",
     "text": [
      "Info: VariableMetricBuilder: no improvement in line search\n",
      "Info: VariableMetricBuilder: machine accuracy limits further improvement.\n",
      "Info in matrix forced pos-def by adding to diagonal : padd = 0.349846\n",
      "Info: MnHesse: matrix was forced pos. def. \n",
      "Info: VariableMetricBuilder: Tolerance is not sufficient, continue the minimization\n",
      "Info in Current  Edm is : edm = 7.53913\n",
      "Info in Required Edm is : edmval = 0.0001\n",
      "Info: DavidonErrorUpdator: delgam < 0 : first derivatives increasing along search line\n",
      "Info: VariableMetricBuilder: matrix not pos.def, gdel > 0\n",
      "Info: gdel = 0.0309869\n",
      "Info in negative or zero diagonal element in covariance matrix : i = 1\n",
      "Info in negative or zero diagonal element in covariance matrix : i = 3\n",
      "Info in negative or zero diagonal element in covariance matrix : i = 4\n",
      "Info in added to diagonal of Error matrix a value : dg = 38.1314\n",
      "Info in matrix forced pos-def by adding to diagonal : padd = 3.49187\n",
      "Info: gdel = -319185\n",
      "Info: VariableMetricBuilder: no improvement in line search\n",
      "Info: VariableMetricBuilder: iterations finish without convergence.\n",
      "Info in VariableMetricBuilder : edm = 406.17\n",
      "Info in             requested : edmval = 0.0001\n",
      "Info: VariableMetricBuilder: FunctionMinimum is invalid after second try\n"
     ]
    }
   ],
   "source": [
    "pdf.fitTo(ds)"
   ]
  },
  {
   "cell_type": "code",
   "execution_count": 98,
   "id": "afee3310",
   "metadata": {},
   "outputs": [
    {
     "data": {
      "text/plain": [
       "0.5790635137574403"
      ]
     },
     "execution_count": 98,
     "metadata": {},
     "output_type": "execute_result"
    }
   ],
   "source": [
    "f0.value"
   ]
  },
  {
   "cell_type": "code",
   "execution_count": 99,
   "id": "92a83a86",
   "metadata": {},
   "outputs": [],
   "source": [
    "grid1, points1 = gauss1.evaluatePdf(mass)\n",
    "xs1 = grid1.to_matrix().flatten()\n",
    "points1 = np.asarray(points1)\n",
    "\n",
    "grid2, points2 = poly.evaluatePdf(mass)\n",
    "xs2 = grid2.to_matrix().flatten()\n",
    "points2 = np.asarray(points2)"
   ]
  },
  {
   "cell_type": "code",
   "execution_count": 100,
   "id": "e0b94f53",
   "metadata": {},
   "outputs": [],
   "source": [
    "grid, points = pdf.evaluatePdf(mass)\n",
    "xs = grid.to_matrix().flatten()"
   ]
  },
  {
   "cell_type": "code",
   "execution_count": 101,
   "id": "b0c2045f",
   "metadata": {},
   "outputs": [
    {
     "data": {
      "image/png": "[encoded data removed]",
      "text/plain": [
       "<Figure size 864x288 with 1 Axes>"
      ]
     },
     "metadata": {
      "needs_background": "light"
     },
     "output_type": "display_data"
    }
   ],
   "source": [
    "fig, ax = plt.subplots(figsize=(12,4))\n",
    "ax.plot(xs, points, label='Total')\n",
    "ax.plot(xs1, points1 * f0.value, label = \"signal\")\n",
    "ax.plot(xs2, points2 * (1 - f0.value), label = \"bkg\")\n",
    "ax.hist(data, bins=200, density=True, alpha=.4, label='data')\n",
    "ax.set_xlim(5.32, 5.41)\n",
    "ax.set_xlabel('mass')\n",
    "ax.set_ylabel('density')\n",
    "plt.legend()\n",
    "plt.show()"
   ]
  },
  {
   "cell_type": "code",
   "execution_count": null,
   "id": "db064277",
   "metadata": {},
   "outputs": [],
   "source": []
  },
  {
   "cell_type": "code",
   "execution_count": null,
   "id": "b75509a6",
   "metadata": {},
   "outputs": [],
   "source": []
  }
 ],
 "metadata": {
  "kernelspec": {
   "display_name": "Python 3 (ipykernel)",
   "language": "python",
   "name": "python3"
  },
  "language_info": {
   "codemirror_mode": {
    "name": "ipython",
    "version": 3
   },
   "file_extension": ".py",
   "mimetype": "text/x-python",
   "name": "python",
   "nbconvert_exporter": "python",
   "pygments_lexer": "ipython3",
   "version": "3.9.13"
  }
 },
 "nbformat": 4,
 "nbformat_minor": 5
}
