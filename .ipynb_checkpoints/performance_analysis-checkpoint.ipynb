{
 "cells": [
  {
   "cell_type": "code",
   "execution_count": 65,
   "id": "14f8920c",
   "metadata": {},
   "outputs": [],
   "source": [
    "import ROOT\n",
    "import os\n",
    "import time\n",
    "import matplotlib.pyplot as plt\n",
    "import csv"
   ]
  },
  {
   "cell_type": "code",
   "execution_count": 66,
   "id": "e81ead05",
   "metadata": {},
   "outputs": [],
   "source": [
    "path = \"../merged/\""
   ]
  },
  {
   "cell_type": "code",
   "execution_count": 67,
   "id": "9e23d0fe",
   "metadata": {},
   "outputs": [],
   "source": [
    "def get_total_size(path, n_files):\n",
    "    filenames = sorted(os.listdir(path))\n",
    "    total_size = sum([os.path.getsize(path + filenames[i]) for i in range(n_files)])\n",
    "    return total_size / (2**30)"
   ]
  },
  {
   "cell_type": "code",
   "execution_count": 68,
   "id": "5e954ec2",
   "metadata": {},
   "outputs": [],
   "source": [
    "def col_average(data):\n",
    "    n_rows = len(data)\n",
    "    n_cols = len(data[0])\n",
    "    return [sum([data[i][j] for i in range(1, n_rows)]) / (n_rows - 1) for j in range(n_cols)]"
   ]
  },
  {
   "cell_type": "code",
   "execution_count": 69,
   "id": "398104a1",
   "metadata": {},
   "outputs": [],
   "source": [
    "def col_standard_deviation(data):\n",
    "    n_rows = len(data)\n",
    "    n_cols = len(data[0])\n",
    "    mean = col_average(data)\n",
    "    return [(sum([(data[i][j] - mean[j])**2 for i in range(1, n_rows)]) / (n_rows - 1))**0.5 for j in range(n_cols)]\n",
    "    "
   ]
  },
  {
   "cell_type": "code",
   "execution_count": 91,
   "id": "f67f421b",
   "metadata": {},
   "outputs": [],
   "source": [
    "def runtime_measure(path, n_files, n_threads):\n",
    "    # Specify the number of threads\n",
    "    if n_threads != 0:\n",
    "        ROOT.ROOT.EnableImplicitMT(n_threads)\n",
    "    \n",
    "    # Get paths to all the files to be read \n",
    "    filenames = sorted(os.listdir(path))\n",
    "    files_to_read = ROOT.std.vector('string')()\n",
    "    for i in range(n_files):\n",
    "        files_to_read.push_back(path + filenames[i])\n",
    "    \n",
    "    # Measure runtime\n",
    "    start_time = time.time()\n",
    "    data = ROOT.RDataFrame(\"rootuple/CandidateTree\", files_to_read)\n",
    "    cut = data.Filter(\"candidate_charge == 0\")\\\n",
    "          .Filter(\"candidate_cosAlpha > 0.99\")\\\n",
    "          .Filter(\"candidate_vProb > 0.05\")\\\n",
    "          .Filter(\"candidate_lxy / candidate_lxyErr > 3.0\")\\\n",
    "          .Filter(\"ditrack_mass > 1.014\")\\\n",
    "          .Filter(\"ditrack_mass < 1.024\")\\\n",
    "          .Filter(\"candidate_vMass > 5.33\")\\\n",
    "          .Filter(\"candidate_vMass < 5.40\")\n",
    "    np_array = cut.AsNumpy([\"candidate_vMass\"])\n",
    "    runtime = time.time() - start_time\n",
    "    \n",
    "    return runtime\n",
    "    "
   ]
  },
  {
   "cell_type": "code",
   "execution_count": 137,
   "id": "43046ca0",
   "metadata": {},
   "outputs": [
    {
     "name": "stdout",
     "output_type": "stream",
     "text": [
      "95.37691855430603\n"
     ]
    }
   ],
   "source": [
    "print(runtime_measure(path, 20, 16))\n"
   ]
  },
  {
   "cell_type": "code",
   "execution_count": 141,
   "id": "257c883a",
   "metadata": {},
   "outputs": [],
   "source": [
    "import multiprocessing\n",
    "import numpy as np\n",
    "import concurrent.futures"
   ]
  },
  {
   "cell_type": "code",
   "execution_count": 160,
   "id": "122e397a",
   "metadata": {},
   "outputs": [],
   "source": [
    "def to_numpy(file):\n",
    "    data = ROOT.RDataFrame(\"rootuple/CandidateTree\", file)\n",
    "    cut = data.Filter(\"candidate_charge == 0\")\\\n",
    "          .Filter(\"candidate_cosAlpha > 0.99\")\\\n",
    "          .Filter(\"candidate_vProb > 0.05\")\\\n",
    "          .Filter(\"candidate_lxy / candidate_lxyErr > 3.0\")\\\n",
    "          .Filter(\"ditrack_mass > 1.014\")\\\n",
    "          .Filter(\"ditrack_mass < 1.024\")\\\n",
    "          .Filter(\"candidate_vMass > 5.33\")\\\n",
    "          .Filter(\"candidate_vMass < 5.40\")\n",
    "    return cut.AsNumpy([\"candidate_vMass\"])[\"candidate_vMass\"]\n"
   ]
  },
  {
   "cell_type": "code",
   "execution_count": 163,
   "id": "c4c5dfec",
   "metadata": {},
   "outputs": [],
   "source": [
    "def runtime_measure_mp(path, n_files):\n",
    "    # Specify the number of threads\n",
    "#     if n_threads != 0:\n",
    "#         ROOT.ROOT.EnableImplicitMT(n_threads)\n",
    "    \n",
    "    # Get paths to all the files to be read \n",
    "    filenames = sorted(os.listdir(path))\n",
    "    files_to_read = []\n",
    "    for i in range(n_files):\n",
    "        files_to_read.append(path + filenames[i])\n",
    "    \n",
    "    # Measure runtime\n",
    "    start_time = time.time()\n",
    "    processes = []\n",
    "    for file in files_to_read:\n",
    "        p = multiprocessing.Process(target=to_numpy, args=[file])\n",
    "        p.start()\n",
    "        processes.append(p)\n",
    "        \n",
    "    for p in processes:\n",
    "        p.join()\n",
    "     \n",
    "    runtime = time.time() - start_time\n",
    "    \n",
    "    return runtime"
   ]
  },
  {
   "cell_type": "code",
   "execution_count": 164,
   "id": "ff876b08",
   "metadata": {},
   "outputs": [
    {
     "name": "stderr",
     "output_type": "stream",
     "text": [
      "Process Process-322:\n",
      "Process Process-323:\n",
      "Traceback (most recent call last):\n",
      "Process Process-324:\n",
      "Traceback (most recent call last):\n",
      "  File \"/lustrehome/hdhoang2001/.conda/envs/cms/lib/python3.9/multiprocessing/process.py\", line 315, in _bootstrap\n",
      "    self.run()\n",
      "Process Process-325:\n",
      "  File \"/lustrehome/hdhoang2001/.conda/envs/cms/lib/python3.9/multiprocessing/process.py\", line 315, in _bootstrap\n",
      "    self.run()\n",
      "Traceback (most recent call last):\n",
      "  File \"/lustrehome/hdhoang2001/.conda/envs/cms/lib/python3.9/multiprocessing/process.py\", line 315, in _bootstrap\n",
      "    self.run()\n",
      "  File \"/lustrehome/hdhoang2001/.conda/envs/cms/lib/python3.9/multiprocessing/process.py\", line 108, in run\n",
      "    self._target(*self._args, **self._kwargs)\n",
      "  File \"/lustrehome/hdhoang2001/.conda/envs/cms/lib/python3.9/multiprocessing/process.py\", line 108, in run\n",
      "    self._target(*self._args, **self._kwargs)\n",
      "Process Process-326:\n",
      "Traceback (most recent call last):\n",
      "TypeError: to_numpy() missing 1 required positional argument: 'i'\n",
      "  File \"/lustrehome/hdhoang2001/.conda/envs/cms/lib/python3.9/multiprocessing/process.py\", line 315, in _bootstrap\n",
      "    self.run()\n",
      "TypeError: to_numpy() missing 1 required positional argument: 'i'\n",
      "Process Process-327:\n",
      "  File \"/lustrehome/hdhoang2001/.conda/envs/cms/lib/python3.9/multiprocessing/process.py\", line 108, in run\n",
      "    self._target(*self._args, **self._kwargs)\n",
      "  File \"/lustrehome/hdhoang2001/.conda/envs/cms/lib/python3.9/multiprocessing/process.py\", line 108, in run\n",
      "    self._target(*self._args, **self._kwargs)\n",
      "Traceback (most recent call last):\n",
      "TypeError: to_numpy() missing 1 required positional argument: 'i'\n",
      "Traceback (most recent call last):\n",
      "TypeError: to_numpy() missing 1 required positional argument: 'i'\n",
      "  File \"/lustrehome/hdhoang2001/.conda/envs/cms/lib/python3.9/multiprocessing/process.py\", line 315, in _bootstrap\n",
      "    self.run()\n",
      "Process Process-328:\n",
      "  File \"/lustrehome/hdhoang2001/.conda/envs/cms/lib/python3.9/multiprocessing/process.py\", line 315, in _bootstrap\n",
      "    self.run()\n",
      "  File \"/lustrehome/hdhoang2001/.conda/envs/cms/lib/python3.9/multiprocessing/process.py\", line 108, in run\n",
      "    self._target(*self._args, **self._kwargs)\n",
      "Traceback (most recent call last):\n",
      "  File \"/lustrehome/hdhoang2001/.conda/envs/cms/lib/python3.9/multiprocessing/process.py\", line 315, in _bootstrap\n",
      "    self.run()\n",
      "  File \"/lustrehome/hdhoang2001/.conda/envs/cms/lib/python3.9/multiprocessing/process.py\", line 108, in run\n",
      "    self._target(*self._args, **self._kwargs)\n",
      "Process Process-329:\n",
      "  File \"/lustrehome/hdhoang2001/.conda/envs/cms/lib/python3.9/multiprocessing/process.py\", line 108, in run\n",
      "    self._target(*self._args, **self._kwargs)\n",
      "TypeError: to_numpy() missing 1 required positional argument: 'i'\n",
      "TypeError: to_numpy() missing 1 required positional argument: 'i'\n",
      "Traceback (most recent call last):\n",
      "TypeError: to_numpy() missing 1 required positional argument: 'i'\n",
      "Process Process-330:\n",
      "  File \"/lustrehome/hdhoang2001/.conda/envs/cms/lib/python3.9/multiprocessing/process.py\", line 315, in _bootstrap\n",
      "    self.run()\n",
      "Process Process-331:\n",
      "Traceback (most recent call last):\n",
      "  File \"/lustrehome/hdhoang2001/.conda/envs/cms/lib/python3.9/multiprocessing/process.py\", line 315, in _bootstrap\n",
      "    self.run()\n",
      "  File \"/lustrehome/hdhoang2001/.conda/envs/cms/lib/python3.9/multiprocessing/process.py\", line 108, in run\n",
      "    self._target(*self._args, **self._kwargs)\n",
      "  File \"/lustrehome/hdhoang2001/.conda/envs/cms/lib/python3.9/multiprocessing/process.py\", line 108, in run\n",
      "    self._target(*self._args, **self._kwargs)\n",
      "TypeError: to_numpy() missing 1 required positional argument: 'i'\n",
      "TypeError: to_numpy() missing 1 required positional argument: 'i'\n",
      "Traceback (most recent call last):\n",
      "  File \"/lustrehome/hdhoang2001/.conda/envs/cms/lib/python3.9/multiprocessing/process.py\", line 315, in _bootstrap\n",
      "    self.run()\n",
      "  File \"/lustrehome/hdhoang2001/.conda/envs/cms/lib/python3.9/multiprocessing/process.py\", line 108, in run\n",
      "    self._target(*self._args, **self._kwargs)\n",
      "TypeError: to_numpy() missing 1 required positional argument: 'i'\n"
     ]
    },
    {
     "data": {
      "text/plain": [
       "(1.5323805809020996,\n",
       " <SynchronizedArray wrapper for <multiprocessing.sharedctypes.c_int_Array_10 object at 0x7f58c1363ac0>>)"
      ]
     },
     "execution_count": 164,
     "metadata": {},
     "output_type": "execute_result"
    }
   ],
   "source": [
    "runtime_measure_mp(path, 10)"
   ]
  },
  {
   "cell_type": "code",
   "execution_count": null,
   "id": "31e933af",
   "metadata": {},
   "outputs": [],
   "source": [
    "def runtime_measure_mp(path, n_files):\n",
    "    # Get paths to all the files to be read \n",
    "    filenames = sorted(os.listdir(path))\n",
    "    files_to_read = []\n",
    "    for i in range(n_files):\n",
    "        files_to_read.append(path + filenames[i])\n",
    "    \n",
    "    # Measure runtime\n",
    "        \n",
    "    for p in processes:\n",
    "        p.join()\n",
    "     \n",
    "    runtime = time.time() - start_time\n",
    "    \n",
    "    return runtime"
   ]
  },
  {
   "cell_type": "code",
   "execution_count": 41,
   "id": "1ea9bdc8",
   "metadata": {},
   "outputs": [],
   "source": [
    "def runtime_vs_size(path, n_threads, max_files, step, n_loops, target_dir):\n",
    "    result_path = (\"runtime_tests_rdf/%s/runtime_vs_size_%d_%d_%d_%d.csv\" % (target_dir, n_threads, max_files, step, n_loops))\n",
    "    x = [get_total_size(path, a) for a in range(step, max_files + step, step)]\n",
    "    with open(result_path, \"w+\", newline=\"\") as f:\n",
    "        csv.writer(f).writerow(x)\n",
    "    for n in range(n_loops):\n",
    "        y = [runtime_measure(path, i, n_threads) for i in range(step, max_files + step, step)]\n",
    "        with open(result_path, \"a+\", newline=\"\") as f:\n",
    "            csv.writer(f).writerow(y)\n"
   ]
  },
  {
   "cell_type": "code",
   "execution_count": 53,
   "id": "f3bc5991",
   "metadata": {},
   "outputs": [],
   "source": [
    "def runtime_vs_size_plot(path, n_threads, max_files, step, n_loops, target_dir):\n",
    "    if not os.path.exists(\"runtime_tests_rdf/%s\" % (target_dir)):\n",
    "        os.mkdir(\"runtime_tests_rdf/%s\" % (target_dir))\n",
    "    if not os.path.exists(\"figures/%s\" % (target_dir)):\n",
    "        os.mkdir(\"figures/%s\" % (target_dir))\n",
    "    result_path = (\"runtime_tests_rdf/%s/runtime_vs_size_%d_%d_%d_%d.csv\" % (target_dir, n_threads, max_files, step, n_loops))\n",
    "    if not os.path.exists(result_path):\n",
    "        runtime_vs_size(path, n_threads, max_files, step, n_loops, target_dir)\n",
    "    with open(result_path, \"r\") as f:\n",
    "        data = [[float(a) for a in row] for row in csv.reader(f)]\n",
    "        plt.figure(figsize = (15, 5))\n",
    "        plt.title('Runtime vs Size (%d threads)' % (n_threads))\n",
    "        plt.xlabel('Size (GB)')\n",
    "        plt.ylabel('Runtime (s)')\n",
    "        #plt.scatter(data[0], col_average(data))\n",
    "        #for r in range(1, len(data)):\n",
    "            #plt.scatter(data[0], data[r])\n",
    "        plt.errorbar(data[0], col_average(data), yerr=col_standard_deviation(data), fmt=\"o\", ecolor=\"orange\")\n",
    "        plt.savefig('figures/%s/runtime_vs_size_%d_%d_%d_%d.png' % (target_dir, n_threads, max_files, step, n_loops), bbox_inches='tight')\n"
   ]
  },
  {
   "cell_type": "code",
   "execution_count": 54,
   "id": "9098fcee",
   "metadata": {},
   "outputs": [],
   "source": [
    "def runtime_vs_threads(path, n_files, max_threads, step, n_loops, target_dir):\n",
    "    parent_dir = path.split('/')[-2]\n",
    "    result_path = (\"runtime_tests_rdf/%s/runtime_vs_threads_%d_%d_%d_%d.csv\" % (target_dir, n_files, max_threads, step, n_loops))\n",
    "    x = [a for a in range(step, max_threads + step, step)]\n",
    "    with open(result_path, \"w+\", newline=\"\") as f:\n",
    "        csv.writer(f).writerow(x)\n",
    "    for n in range(n_loops):\n",
    "        y = [runtime_measure(path, n_files, i) for i in range(step, max_threads + step, step)]\n",
    "        with open(result_path, \"a+\", newline=\"\") as f:\n",
    "            csv.writer(f).writerow(y)\n",
    "        "
   ]
  },
  {
   "cell_type": "code",
   "execution_count": 55,
   "id": "2c169bd8",
   "metadata": {},
   "outputs": [],
   "source": [
    "def runtime_vs_threads_plot(path, n_files, max_threads, step, n_loops, target_dir):\n",
    "    parent_dir = path.split('/')[-2]\n",
    "    if not os.path.exists(\"runtime_tests_rdf/%s\" % (target_dir)):\n",
    "        os.mkdir(\"runtime_tests_rdf/%s\" % (target_dir))\n",
    "    if not os.path.exists(\"figures/%s\" % (target_dir)):\n",
    "        os.mkdir(\"figures/%s\" % (target_dir))\n",
    "    result_path = (\"runtime_tests_rdf/%s/runtime_vs_threads_%d_%d_%d_%d.csv\" % (target_dir, n_files, max_threads, step, n_loops))\n",
    "    if not os.path.exists(result_path):\n",
    "        runtime_vs_threads(path, n_files, max_threads, step, n_loops, target_dir)\n",
    "    with open(result_path, \"r\") as f:\n",
    "        data = [[float(a) for a in row] for row in csv.reader(f)]\n",
    "        plt.figure(figsize = (15, 5))\n",
    "        plt.title('Runtime vs Threads (%.2f GB)' % (get_total_size(path, n_files)))\n",
    "        plt.xlabel('Threads')\n",
    "        plt.ylabel('Runtime (s)')\n",
    "        #plt.scatter(data[0], col_average(data))\n",
    "        #for r in range(1, len(data)):\n",
    "            #plt.scatter(data[0], data[r])\n",
    "        plt.errorbar(data[0], col_average(data[1:]), yerr=col_standard_deviation(data[1:]), fmt=\"o\", ecolor=\"orange\")\n",
    "        plt.savefig('figures/%s/runtime_vs_threads_%d_%d_%d_%d.png' % (target_dir, n_files, max_threads, step, n_loops), bbox_inches='tight')"
   ]
  },
  {
   "cell_type": "code",
   "execution_count": 52,
   "id": "2ac22178",
   "metadata": {},
   "outputs": [
    {
     "data": {
      "image/png": "[encoded data removed]",
      "text/plain": [
       "<Figure size 1080x360 with 1 Axes>"
      ]
     },
     "metadata": {
      "needs_background": "light"
     },
     "output_type": "display_data"
    }
   ],
   "source": [
    "runtime_vs_size_plot(path, 16, 50, 2, 10, \"merged\")"
   ]
  },
  {
   "cell_type": "code",
   "execution_count": 74,
   "id": "3d07eaf8",
   "metadata": {},
   "outputs": [
    {
     "data": {
      "image/png": "[encoded data removed]",
      "text/plain": [
       "<Figure size 1080x360 with 1 Axes>"
      ]
     },
     "metadata": {
      "needs_background": "light"
     },
     "output_type": "display_data"
    }
   ],
   "source": [
    "runtime_vs_threads_plot(path, 10, 64, 4, 10, \"merged\")"
   ]
  },
  {
   "cell_type": "code",
   "execution_count": 117,
   "id": "38a907bb",
   "metadata": {},
   "outputs": [
    {
     "data": {
      "image/png": "[encoded data removed]",
      "text/plain": [
       "<Figure size 1080x360 with 1 Axes>"
      ]
     },
     "metadata": {
      "needs_background": "light"
     },
     "output_type": "display_data"
    }
   ],
   "source": [
    "runtime_vs_threads_plot(path, 20, 64, 4, 10, \"merged\")"
   ]
  },
  {
   "cell_type": "code",
   "execution_count": null,
   "id": "c7a8dd42",
   "metadata": {},
   "outputs": [],
   "source": []
  }
 ],
 "metadata": {
  "kernelspec": {
   "display_name": "Python 3 (ipykernel)",
   "language": "python",
   "name": "python3"
  },
  "language_info": {
   "codemirror_mode": {
    "name": "ipython",
    "version": 3
   },
   "file_extension": ".py",
   "mimetype": "text/x-python",
   "name": "python",
   "nbconvert_exporter": "python",
   "pygments_lexer": "ipython3",
   "version": "3.9.13"
  }
 },
 "nbformat": 4,
 "nbformat_minor": 5
}
