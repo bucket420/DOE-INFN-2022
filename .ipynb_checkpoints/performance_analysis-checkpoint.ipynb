{
 "cells": [
  {
   "cell_type": "code",
   "execution_count": 2,
   "id": "14f8920c",
   "metadata": {},
   "outputs": [],
   "source": [
    "import ROOT\n",
    "import os\n",
    "import time\n",
    "import matplotlib.pyplot as plt\n",
    "import csv"
   ]
  },
  {
   "cell_type": "code",
   "execution_count": 3,
   "id": "f67f421b",
   "metadata": {},
   "outputs": [],
   "source": [
    "def runtime_measure(path, num_files, num_threads):\n",
    "    # Specify the number of threads\n",
    "    ROOT.ROOT.EnableImplicitMT(num_threads)\n",
    "    \n",
    "    # Get paths to all the files to be read \n",
    "    filenames = sorted(os.listdir(path))\n",
    "    files_to_read = ROOT.std.vector('string')()\n",
    "    total_size = 0\n",
    "    for i in range(num_files):\n",
    "        files_to_read.push_back(path + filenames[i])\n",
    "        total_size += os.path.getsize(path + filenames[i])\n",
    "    \n",
    "    # Measure runtime\n",
    "    start_time = time.time()\n",
    "    data = ROOT.RDataFrame(\"rootuple/CandidateTree\", files_to_read)\n",
    "    cut = data.Filter(\"candidate_charge == 0\")\\\n",
    "          .Filter(\"candidate_cosAlpha > 0.99\")\\\n",
    "          .Filter(\"candidate_vProb > 0.05\")\\\n",
    "          .Filter(\"candidate_lxy / candidate_lxyErr > 3.0\")\\\n",
    "          .Filter(\"ditrack_mass > 1.014\")\\\n",
    "          .Filter(\"ditrack_mass < 1.024\")\\\n",
    "          .Filter(\"candidate_vMass > 5.33\")\\\n",
    "          .Filter(\"candidate_vMass < 5.40\")\n",
    "    np_array = cut.AsNumpy([\"candidate_vMass\"])\n",
    "    runtime = time.time() - start_time\n",
    "    \n",
    "    return total_size / (2**30), runtime, np_array\n",
    "    "
   ]
  },
  {
   "cell_type": "code",
   "execution_count": null,
   "id": "1ea9bdc8",
   "metadata": {},
   "outputs": [],
   "source": [
    "def runtime_vs_size(path, num_threads, max_files, step, num_loops):\n",
    "    for n in range(num_loops):\n",
    "        i = step\n",
    "        x = []\n",
    "        y = []\n",
    "        while i <= max_files:\n",
    "            size, runtime, _ = runtime_measure(path, i, num_threads)\n",
    "            if n == 0: x.append(size)\n",
    "            y.append(runtime)\n",
    "            i += step\n",
    "        if n == 0: \n",
    "            with open\n"
   ]
  },
  {
   "cell_type": "code",
   "execution_count": null,
   "id": "9098fcee",
   "metadata": {},
   "outputs": [],
   "source": [
    "def runtime_vs_threads(path, num_files, max_threads, step):\n",
    "    i = step\n",
    "    x = []\n",
    "    y = []\n",
    "    while i <= max_threads:\n",
    "        size, runtime, _ = runtime_measure(path, num_files, i)\n",
    "        x.append(i)\n",
    "        y.append(runtime)\n",
    "        i += step\n",
    "        \n",
    "\n",
    "    "
   ]
  }
 ],
 "metadata": {
  "kernelspec": {
   "display_name": "Python 3 (ipykernel)",
   "language": "python",
   "name": "python3"
  },
  "language_info": {
   "codemirror_mode": {
    "name": "ipython",
    "version": 3
   },
   "file_extension": ".py",
   "mimetype": "text/x-python",
   "name": "python",
   "nbconvert_exporter": "python",
   "pygments_lexer": "ipython3",
   "version": "3.9.13"
  }
 },
 "nbformat": 4,
 "nbformat_minor": 5
}
