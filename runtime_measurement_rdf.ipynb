{
 "cells": [
  {
   "cell_type": "markdown",
   "id": "40ecf7f7",
   "metadata": {},
   "source": [
    "# Measuring the performance of RDataFrame"
   ]
  },
  {
   "cell_type": "markdown",
   "id": "80503a96",
   "metadata": {},
   "source": [
    "First, we import all modules we are going to use."
   ]
  },
  {
   "cell_type": "code",
   "execution_count": 2,
   "id": "38d46b78",
   "metadata": {},
   "outputs": [
    {
     "name": "stdout",
     "output_type": "stream",
     "text": [
      "Welcome to JupyROOT 6.24/06\n"
     ]
    }
   ],
   "source": [
    "import csv\n",
    "import matplotlib.pyplot as plt\n",
    "import multiprocessing\n",
    "import numpy as np\n",
    "import os\n",
    "import ROOT\n",
    "import sys\n",
    "import time\n",
    "import uproot"
   ]
  },
  {
   "cell_type": "markdown",
   "id": "21aa822c",
   "metadata": {},
   "source": [
    "All three `runtime_measure` functions below return the runtime of the following operations:  \n",
    "1. Accessing the TTree’s in the ROOT files  \n",
    "2. Apply specific filters on the data to expose the invariant mass distribution of the B0s meson  \n",
    "3. Convert the TBranch containing the mass of the meson to a `numpy` array  \n",
    " \n",
    "The functions share two common parameters:  \n",
    "- `path`: the path to the folder containing the ROOT files  \n",
    "- `n_files`: is the number of file you want to process"
   ]
  },
  {
   "cell_type": "markdown",
   "id": "28d64c60",
   "metadata": {},
   "source": [
    "## 1. Default runtime measurement\n",
    "This function measures the runtime when multiprocessing is not used. `mt` is a boolean value signifying whether implicit multithreading should be used (without a specified number of threads)."
   ]
  },
  {
   "cell_type": "code",
   "execution_count": 3,
   "id": "63665381",
   "metadata": {},
   "outputs": [],
   "source": [
    "def runtime_measure(path, n_files, mt):\n",
    "    ROOT.ROOT.DisableImplicitMT()\n",
    "    if n_files == 0: return 0\n",
    "    if mt: ROOT.ROOT.EnableImplicitMT()\n",
    "    \n",
    "    filenames = sorted(os.listdir(path))\n",
    "    files_to_read = ROOT.std.vector('string')()\n",
    "    for i in range(n_files):\n",
    "        files_to_read.push_back(path + filenames[i])\n",
    "    \n",
    "    start_time = time.time()\n",
    "    \n",
    "    data = ROOT.RDataFrame(\"rootuple/CandidateTree\", files_to_read)\n",
    "    cut = data.Filter(\"candidate_charge == 0\")\\\n",
    "          .Filter(\"candidate_cosAlpha > 0.99\")\\\n",
    "          .Filter(\"candidate_vProb > 0.05\")\\\n",
    "          .Filter(\"candidate_lxy / candidate_lxyErr > 3.0\")\\\n",
    "          .Filter(\"ditrack_mass > 1.014\")\\\n",
    "          .Filter(\"ditrack_mass < 1.024\")\\\n",
    "          .Filter(\"candidate_vMass > 5.33\")\\\n",
    "          .Filter(\"candidate_vMass < 5.40\")\n",
    "    np_array = cut.AsNumpy([\"candidate_vMass\"])\n",
    "    \n",
    "    return time.time() - start_time"
   ]
  },
  {
   "cell_type": "markdown",
   "id": "27e496f4",
   "metadata": {},
   "source": [
    "## 2. Runtime measurement with implicit multithreading\n",
    "In this function, implicit multithreading is turned on. `n_threads` specifies the number of threads you want to used."
   ]
  },
  {
   "cell_type": "code",
   "execution_count": 4,
   "id": "e9a6076c",
   "metadata": {},
   "outputs": [],
   "source": [
    "def runtime_measure_mt(path, n_files, n_threads):\n",
    "    ROOT.ROOT.DisableImplicitMT()\n",
    "\n",
    "    if n_files == 0: return 0\n",
    "    if n_threads == 0: \n",
    "        return runtime_measure(path, n_files, False)\n",
    "    \n",
    "    ROOT.ROOT.EnableImplicitMT(n_threads)\n",
    "    \n",
    "    # Get paths to all the files to be read \n",
    "    filenames = sorted(os.listdir(path))\n",
    "    files_to_read = ROOT.std.vector('string')()\n",
    "    for i in range(n_files):\n",
    "        files_to_read.push_back(path + filenames[i])\n",
    "    \n",
    "    # Measure runtime\n",
    "    start_time = time.time()\n",
    "    \n",
    "    data = ROOT.RDataFrame(\"rootuple/CandidateTree\", files_to_read)\n",
    "    cut = data.Filter(\"candidate_charge == 0\")\\\n",
    "          .Filter(\"candidate_cosAlpha > 0.99\")\\\n",
    "          .Filter(\"candidate_vProb > 0.05\")\\\n",
    "          .Filter(\"candidate_lxy / candidate_lxyErr > 3.0\")\\\n",
    "          .Filter(\"ditrack_mass > 1.014\")\\\n",
    "          .Filter(\"ditrack_mass < 1.024\")\\\n",
    "          .Filter(\"candidate_vMass > 5.33\")\\\n",
    "          .Filter(\"candidate_vMass < 5.40\")\n",
    "    np_array = cut.AsNumpy([\"candidate_vMass\"])\n",
    "    \n",
    "    return time.time() - start_time"
   ]
  },
  {
   "cell_type": "markdown",
   "id": "ed78c1a8",
   "metadata": {},
   "source": [
    "## 3. Runtime measurement with multiprocessing"
   ]
  },
  {
   "cell_type": "markdown",
   "id": "22c257f3",
   "metadata": {},
   "source": [
    "First, we need to split the data so that the workload is distributed as equally as possible among all subprocesses. Since file is the smallest unit of data we have, we can distribute `n_files` to `n_processes` with this function. It returns a list of vectors, each of which contains paths to the ROOT files that one subprocess will handle."
   ]
  },
  {
   "cell_type": "code",
   "execution_count": 6,
   "id": "ab362fbe",
   "metadata": {},
   "outputs": [],
   "source": [
    "def partition(path, n_files, n_processes):\n",
    "    filenames = sorted(os.listdir(path))\n",
    "    partitions = []\n",
    "    curr = 0\n",
    "    for i in range(n_processes):\n",
    "        if i >= n_files: break\n",
    "        n_files_in_partition = n_files // n_processes if i >= n_files % n_processes else n_files // n_processes + 1\n",
    "        files_to_read = ROOT.std.vector('string')()\n",
    "        for j in range(n_files_in_partition):\n",
    "            files_to_read.push_back(path + filenames[curr + j])\n",
    "        curr += n_files_in_partition\n",
    "        partitions.append(files_to_read)\n",
    "    return partitions"
   ]
  },
  {
   "cell_type": "markdown",
   "id": "e37b03de",
   "metadata": {},
   "source": [
    "For example, if we want to process 128 files with 30 subprocesses, the distribution will look like:"
   ]
  },
  {
   "cell_type": "code",
   "execution_count": 25,
   "id": "85961b80",
   "metadata": {},
   "outputs": [
    {
     "name": "stdout",
     "output_type": "stream",
     "text": [
      "[5] [5] [5] [5] [5] [5] [5] [5] [4] [4] [4] [4] [4] [4] [4] [4] [4] [4] [4] [4] [4] [4] [4] [4] [4] [4] [4] [4] [4] [4] "
     ]
    }
   ],
   "source": [
    "partitions = partition(\"../data/128_files/\", 128, 30)\n",
    "for p in partitions:\n",
    "    print(\"[%d]\" % (p.size()), end=\" \")"
   ]
  },
  {
   "cell_type": "markdown",
   "id": "1bbba5ea",
   "metadata": {},
   "source": [
    "A subprocess can then perform the aforementioned operations by calling this function. `files` is a vector containing paths to ROOT files, which is an element in the return value of `partition`. The funtion will add the `numpy` arrays containing the mass of the B0s meson to `result`, a list shared among all subprocesses. After the last subprocess finishes, all arrays in `result` will be concatenated."
   ]
  },
  {
   "cell_type": "code",
   "execution_count": 7,
   "id": "3b64e200",
   "metadata": {},
   "outputs": [],
   "source": [
    "def to_numpy(files, result):\n",
    "    if files.empty(): return\n",
    "    data = ROOT.RDataFrame(\"rootuple/CandidateTree\", files)\n",
    "    cut = data.Filter(\"candidate_charge == 0\")\\\n",
    "          .Filter(\"candidate_cosAlpha > 0.99\")\\\n",
    "          .Filter(\"candidate_vProb > 0.05\")\\\n",
    "          .Filter(\"candidate_lxy / candidate_lxyErr > 3.0\")\\\n",
    "          .Filter(\"ditrack_mass > 1.014\")\\\n",
    "          .Filter(\"ditrack_mass < 1.024\")\\\n",
    "          .Filter(\"candidate_vMass > 5.33\")\\\n",
    "          .Filter(\"candidate_vMass < 5.40\")\n",
    "    result.append(cut.AsNumpy([\"candidate_vMass\"])[\"candidate_vMass\"])"
   ]
  },
  {
   "cell_type": "markdown",
   "id": "1349baed",
   "metadata": {},
   "source": [
    "Finally, this function measures the runtime of `RDataFrame` using explicit multiprocessing."
   ]
  },
  {
   "cell_type": "code",
   "execution_count": 8,
   "id": "8669008d",
   "metadata": {},
   "outputs": [],
   "source": [
    "def runtime_measure_mp(path, n_files, n_processes):\n",
    "    ROOT.ROOT.DisableImplicitMT()\n",
    "    if n_files == 0: return 0\n",
    "    if n_processes == 0: return runtime_measure(path, n_files, False)\n",
    "    start_time = time.time()\n",
    "    partitions = partition(path, n_files, n_processes)\n",
    "    processes = []\n",
    "    result = multiprocessing.Manager().list()\n",
    "    for files in partitions:\n",
    "        p = multiprocessing.Process(target=to_numpy, args=[files, result])\n",
    "        p.start()\n",
    "        processes.append(p)\n",
    "        \n",
    "    for p in processes:\n",
    "        p.join()\n",
    "     \n",
    "    np.concatenate(tuple(result))\n",
    "    runtime = time.time() - start_time\n",
    "    \n",
    "    return runtime"
   ]
  },
  {
   "cell_type": "code",
   "execution_count": null,
   "id": "40e3eef1",
   "metadata": {},
   "outputs": [],
   "source": []
  },
  {
   "cell_type": "code",
   "execution_count": 1,
   "id": "1faae171",
   "metadata": {},
   "outputs": [
    {
     "name": "stdout",
     "output_type": "stream",
     "text": [
      "Welcome to JupyROOT 6.24/06\n"
     ]
    }
   ],
   "source": [
    "def runtime_vs_variable(path, target_dir, measure_function, variable, step, n_loops, var_max, constant=None):\n",
    "    if not os.path.exists(target_dir):\n",
    "        os.makedirs(target_dir)\n",
    "\n",
    "    result_path = (\"%s/runtime_vs_%s_%d_%d_%d_%d.csv\" % (target_dir, variable, constant, var_max, step, n_loops)) if constant else (\"%s/runtime_vs_%s_%d_%d_%d.csv\" % (target_dir, variable, var_max, step, n_loops))\n",
    "    \n",
    "    x = [a for a in range(0, var_max + step, step)]\n",
    "    \n",
    "    if not os.path.exists(result_path):\n",
    "        with open(result_path, \"w\", newline=\"\") as f:\n",
    "            csv.writer(f).writerow(x)\n",
    "    for n in range(n_loops):\n",
    "        with open(result_path, \"r\") as f:\n",
    "            if sum(1 for row in csv.reader(f)) == n_loops + 1: break\n",
    "        y = [measure_function(*(path, i if \"size\" in variable else constant, constant if \"size\" in variable else i) if constant else (path, i, True)) for i in range(0, var_max + step, step)]\n",
    "        with open(result_path, \"a\", newline=\"\") as f:\n",
    "            csv.writer(f).writerow(y)\n",
    "            "
   ]
  },
  {
   "cell_type": "code",
   "execution_count": 2,
   "id": "3c3e7595",
   "metadata": {},
   "outputs": [],
   "source": [
    "path = \"../data/128_files/\"\n",
    "target_dir = \"runtime_tests_rdf/test\""
   ]
  },
  {
   "cell_type": "code",
   "execution_count": 3,
   "id": "105791cf",
   "metadata": {},
   "outputs": [
    {
     "name": "stderr",
     "output_type": "stream",
     "text": [
      "Warning in <ROOT_TImplicitMT_DisableImplicitMT>: Implicit multi-threading is already disabled\n",
      "Warning in <ROOT_TImplicitMT_DisableImplicitMT>: Implicit multi-threading is already disabled\n"
     ]
    }
   ],
   "source": [
    "runtime_vs_variable(path, target_dir, runtime_measure_mt, \"threads\", 2, 1, 16, 4)"
   ]
  },
  {
   "cell_type": "code",
   "execution_count": null,
   "id": "108b830c",
   "metadata": {},
   "outputs": [],
   "source": []
  }
 ],
 "metadata": {
  "kernelspec": {
   "display_name": "Python 3 (ipykernel)",
   "language": "python",
   "name": "python3"
  },
  "language_info": {
   "codemirror_mode": {
    "name": "ipython",
    "version": 3
   },
   "file_extension": ".py",
   "mimetype": "text/x-python",
   "name": "python",
   "nbconvert_exporter": "python",
   "pygments_lexer": "ipython3",
   "version": "3.9.13"
  }
 },
 "nbformat": 4,
 "nbformat_minor": 5
}
