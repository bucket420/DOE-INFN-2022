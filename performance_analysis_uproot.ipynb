{
 "cells": [
  {
   "cell_type": "code",
   "execution_count": 1,
   "id": "0ee9cb5f",
   "metadata": {},
   "outputs": [],
   "source": [
    "import csv\n",
    "import math\n",
    "import matplotlib.pyplot as plt\n",
    "import multiprocessing\n",
    "import numpy as np\n",
    "import os\n",
    "import time\n",
    "import uproot\n",
    "\n",
    "def get_total_size(path, n_files):\n",
    "    filenames = sorted(os.listdir(path))\n",
    "    total_size = sum([os.path.getsize(path + filenames[i]) for i in range(n_files)])\n",
    "    return total_size / (2**30)\n",
    "\n",
    "def col_average(data):\n",
    "    n_rows = len(data)\n",
    "    n_cols = len(data[0])\n",
    "    return [sum([data[i][j] for i in range(1, n_rows)]) / (n_rows - 1) for j in range(n_cols)]\n",
    "\n",
    "def col_standard_deviation(data):\n",
    "    n_rows = len(data)\n",
    "    n_cols = len(data[0])\n",
    "    mean = col_average(data)\n",
    "    return [(sum([(data[i][j] - mean[j])**2 for i in range(1, n_rows)]) / (n_rows - 1))**0.5 for j in range(n_cols)]\n",
    "\n",
    "    \n",
    "def partition_helper(slice_entries, file_entries, file_curr, entry_curr):\n",
    "    if slice_entries <= file_entries[file_curr] - entry_curr:\n",
    "        return [file_curr, slice_entries + entry_curr]\n",
    "    elif file_curr == len(file_entries) - 1:\n",
    "        return [file_curr, file_entries[-1]]\n",
    "    else:\n",
    "        return partition_helper(slice_entries - file_entries[file_curr] + entry_curr, file_entries, file_curr + 1, 0)\n",
    "\n",
    "def partition(files, n_processes):\n",
    "    file_entries = [file.num_entries for file in files]\n",
    "    slice_entries = math.ceil(sum(file_entries) / n_processes)\n",
    "    slices = []\n",
    "    file_start = 0\n",
    "    entry_start = 0\n",
    "    for i in range(n_processes):\n",
    "        slices.append([file_start, entry_start] + partition_helper(slice_entries, file_entries, file_start, entry_start))\n",
    "        file_start = slices[-1][-2]\n",
    "        entry_start = slices[-1][-1]\n",
    "    return slices\n",
    "\n",
    "def read_slice(files, slices, index, data):\n",
    "    data_slice = []\n",
    "    for i in range(slices[index][0], slices[index][2] + 1):\n",
    "        data_slice.append(files[i].arrays(\"candidate_vMass\", \n",
    "                                          \"(candidate_charge == 0)\\\n",
    "                                          & (candidate_cosAlpha > 0.99)\\\n",
    "                                          & (candidate_lxy / candidate_lxyErr > 3.0)\\\n",
    "                                          & (candidate_vProb > 0.05)\\\n",
    "                                          & (ditrack_mass > 1.014) & (ditrack_mass < 1.024)\\\n",
    "                                          & (candidate_vMass > 5.33) & (candidate_vMass < 5.4)\",\n",
    "                                          entry_start=slices[index][1] if i == slices[index][0] else None,\n",
    "                                          entry_stop=slices[index][3] if i == slices[index][2] else None,\n",
    "                                          array_cache=None,\n",
    "                                          library=\"np\",\n",
    "                                         )[\"candidate_vMass\"])\n",
    "    data.append(np.concatenate(tuple(data_slice)))\n",
    "\n",
    "def runtime_measure_mp(path, n_files, n_processes):\n",
    "    if n_files == 0: return 0\n",
    "    if n_processes == 0: return runtime_measure(path, n_files)\n",
    "    start = time.time()\n",
    "    files = [uproot.open(path=path + filename + \":rootuple/CandidateTree\", object_cache=None, array_cache=None) for filename in sorted(os.listdir(path))[:n_files]]\n",
    "    slices = partition(files, n_processes)\n",
    "    data = multiprocessing.Manager().list()\n",
    "    processes = []\n",
    "    for i in range(n_processes):\n",
    "        p = multiprocessing.Process(target=read_slice, args=[files, slices, i, data])\n",
    "        p.start()\n",
    "        processes.append(p)\n",
    "\n",
    "    for p in processes:\n",
    "        p.join()\n",
    "    \n",
    "    np.concatenate(tuple(data))\n",
    "    \n",
    "    return time.time() - start\n",
    "\n",
    "def runtime_measure(path, n_files):\n",
    "    if n_files == 0: return 0\n",
    "    start = time.time()\n",
    "    files = [uproot.open(path=path + filename + \":rootuple/CandidateTree\", object_cache=None, array_cache=None) for filename in sorted(os.listdir(path))[:n_files]]\n",
    "    data = []\n",
    "    for file in files:\n",
    "        data.append(file.arrays(\"candidate_vMass\", \n",
    "                              \"(candidate_charge == 0)\\\n",
    "                              & (candidate_cosAlpha > 0.99)\\\n",
    "                              & (candidate_lxy / candidate_lxyErr > 3.0)\\\n",
    "                              & (candidate_vProb > 0.05)\\\n",
    "                              & (ditrack_mass > 1.014) & (ditrack_mass < 1.024)\\\n",
    "                              & (candidate_vMass > 5.33) & (candidate_vMass < 5.4)\",\n",
    "                              array_cache=None,\n",
    "                              library=\"np\")[\"candidate_vMass\"])\n",
    "        \n",
    "    np.concatenate(tuple(data))\n",
    "    \n",
    "    return time.time() - start\n",
    "\n",
    "def runtime_vs_variable(path, target_dir, measure_function, variable, step, n_loops, var_max, constant=None):\n",
    "    if not os.path.exists(target_dir):\n",
    "        os.makedirs(target_dir)\n",
    "\n",
    "    result_path = (\"%s/runtime_vs_%s_%d_%d_%d_%d.csv\" % (target_dir, variable, constant, var_max, step, n_loops)) if constant else (\"%s/runtime_vs_%s_%d_%d_%d.csv\" % (target_dir, variable, var_max, step, n_loops))\n",
    "    \n",
    "    x = [get_total_size(path, a) for a in range(0, var_max + step, step)] if \"size\" in variable else [a for a in range(0, var_max + step, step)]\n",
    "        \n",
    "    with open(result_path, \"w+\", newline=\"\") as f:\n",
    "        csv.writer(f).writerow(x)\n",
    "    for n in range(n_loops):\n",
    "        y = [measure_function(*(path, i if \"size\" in variable else constant, constant if \"size\" in variable else i) if constant else (path, i)) for i in range(0, var_max + step, step)]\n",
    "        with open(result_path, \"a+\", newline=\"\") as f:\n",
    "            csv.writer(f).writerow(y)\n",
    "    \n",
    "\n"
   ]
  },
  {
   "cell_type": "code",
   "execution_count": 2,
   "id": "7aaca91b",
   "metadata": {},
   "outputs": [],
   "source": [
    "path = \"../data/128_files/\"\n",
    "target_dir = \"runtime_tests_uproot/test\""
   ]
  },
  {
   "cell_type": "code",
   "execution_count": 8,
   "id": "01355dc9",
   "metadata": {},
   "outputs": [],
   "source": [
    "def get_num_entries(path, n_files):\n",
    "    filenames = sorted(os.listdir(path))\n",
    "    num_entries = sum([uproot.open(path + filenames[i] + \":rootuple/CandidateTree\").num_entries for i in range(n_files)])\n",
    "    return num_entries"
   ]
  },
  {
   "cell_type": "code",
   "execution_count": 12,
   "id": "d540fb82",
   "metadata": {},
   "outputs": [
    {
     "data": {
      "text/plain": [
       "7154078"
      ]
     },
     "execution_count": 12,
     "metadata": {},
     "output_type": "execute_result"
    }
   ],
   "source": [
    "get_num_entries(path, 2)"
   ]
  },
  {
   "cell_type": "code",
   "execution_count": 5,
   "id": "218e0359",
   "metadata": {},
   "outputs": [],
   "source": [
    "def partition_files(path, n_files, n_processes):\n",
    "    filenames = sorted(os.listdir(path))\n",
    "    partitions = []\n",
    "    curr = 0\n",
    "    for i in range(n_processes):\n",
    "        if i >= n_files: break\n",
    "        n_files_in_partition = n_files // n_processes if i >= n_files % n_processes else n_files // n_processes + 1\n",
    "        files_to_read = []\n",
    "        for j in range(n_files_in_partition):\n",
    "            files_to_read.append(path + filenames[curr + j])\n",
    "        curr += n_files_in_partition\n",
    "        partitions.append(files_to_read)\n",
    "    return partitions"
   ]
  },
  {
   "cell_type": "code",
   "execution_count": 6,
   "id": "3bd0c080",
   "metadata": {},
   "outputs": [],
   "source": [
    "# partition_files(path, 128, 64)"
   ]
  },
  {
   "cell_type": "code",
   "execution_count": 7,
   "id": "00c44ef6",
   "metadata": {},
   "outputs": [],
   "source": [
    "def open_partition_mt(partition, files):\n",
    "    files += open_mt(partition)"
   ]
  },
  {
   "cell_type": "code",
   "execution_count": 8,
   "id": "049265fc",
   "metadata": {},
   "outputs": [],
   "source": [
    "def open_file(file, files):\n",
    "    files.append(uproot.open(path=file + \":rootuple/CandidateTree\"))"
   ]
  },
  {
   "cell_type": "code",
   "execution_count": 9,
   "id": "ca379368",
   "metadata": {},
   "outputs": [],
   "source": [
    "import threading\n",
    "def open_mt(partition):\n",
    "    files = []\n",
    "    threads = []\n",
    "    for file in partition:\n",
    "        t = threading.Thread(target=open_file, args=[file, files])\n",
    "        t.start()\n",
    "        threads.append(t)\n",
    "        \n",
    "    for thread in threads:\n",
    "        thread.join()\n",
    "        \n",
    "    return files"
   ]
  },
  {
   "cell_type": "code",
   "execution_count": 10,
   "id": "e82a4e5b",
   "metadata": {},
   "outputs": [],
   "source": [
    "def open_mp_mt(path, n_files, n_processes):\n",
    "    partitions = partition_files(path, n_files, n_processes)\n",
    "    \n",
    "    processes = []\n",
    "    files = multiprocessing.Manager().list()\n",
    "    \n",
    "    for i in range(n_processes):\n",
    "        p = multiprocessing.Process(target=open_partition_mt, args=[partitions[i], files])\n",
    "        p.start()\n",
    "        processes.append(p)\n",
    "        \n",
    "    for p in processes:\n",
    "        p.join()\n",
    "        p.close()\n",
    "    \n",
    "    return files"
   ]
  },
  {
   "cell_type": "code",
   "execution_count": 11,
   "id": "49225d28",
   "metadata": {},
   "outputs": [],
   "source": [
    "def open_partition(partition, files):\n",
    "    for file in partition:\n",
    "        files.append(uproot.open(path=file + \":rootuple/CandidateTree\"))"
   ]
  },
  {
   "cell_type": "code",
   "execution_count": 12,
   "id": "e103cf36",
   "metadata": {},
   "outputs": [],
   "source": [
    "def open_mp(path, n_files, n_processes):\n",
    "    partitions = partition_files(path, n_files, n_processes)\n",
    "    \n",
    "    processes = []\n",
    "    files = multiprocessing.Manager().list()\n",
    "    \n",
    "    for i in range(n_processes):\n",
    "        p = multiprocessing.Process(target=open_partition, args=[partitions[i], files])\n",
    "        p.start()\n",
    "        processes.append(p)\n",
    "        \n",
    "    for p in processes:\n",
    "        p.join()\n",
    "    \n",
    "    return files"
   ]
  },
  {
   "cell_type": "code",
   "execution_count": 13,
   "id": "289d4312",
   "metadata": {},
   "outputs": [],
   "source": [
    "def read_slice_detailed(files, slices, index, data, process_runtimes):\n",
    "    key = \"P%d\" % (index)\n",
    "    start_time = time.time()\n",
    "    data_slice = []\n",
    "    for i in range(slices[index][0], slices[index][2] + 1):\n",
    "        data_slice.append(files[i].arrays(\"candidate_vMass\", \n",
    "                                          \"(candidate_charge == 0)\\\n",
    "                                          & (candidate_cosAlpha > 0.99)\\\n",
    "                                          & (candidate_lxy / candidate_lxyErr > 3.0)\\\n",
    "                                          & (candidate_vProb > 0.05)\\\n",
    "                                          & (ditrack_mass > 1.014) & (ditrack_mass < 1.024)\\\n",
    "                                          & (candidate_vMass > 5.33) & (candidate_vMass < 5.4)\",\n",
    "                                          entry_start=slices[index][1] if i == slices[index][0] else None,\n",
    "                                          entry_stop=slices[index][3] if i == slices[index][2] else None,\n",
    "                                          array_cache=None,\n",
    "                                          library=\"np\",\n",
    "                                         )[\"candidate_vMass\"])\n",
    "    data.append(np.concatenate(tuple(data_slice)))\n",
    "    runtime = time.time() - start_time\n",
    "    \n",
    "    process_runtimes[key] = runtime"
   ]
  },
  {
   "cell_type": "code",
   "execution_count": 14,
   "id": "5ed16d93",
   "metadata": {},
   "outputs": [],
   "source": [
    "def runtime_measure_mp_detailed(path, n_files, n_processes):\n",
    "    start_time = time.time()\n",
    "    \n",
    "    start_time2 = time.time()\n",
    "    files = [uproot.open(path=path + filename + \":rootuple/CandidateTree\", object_cache=None, array_cache=None) for filename in sorted(os.listdir(path))[:n_files]]\n",
    "#     files = open_mp(path, n_files, 8)\n",
    "    runtime2 = time.time() - start_time2\n",
    "    slices = partition(files, n_processes)\n",
    "\n",
    "    processes = []\n",
    "    data = multiprocessing.Manager().list()\n",
    "    process_runtimes = multiprocessing.Manager().dict()\n",
    "    \n",
    "    for i in range(n_processes):\n",
    "        p = multiprocessing.Process(target=read_slice_detailed, args=[files, slices, i, data, process_runtimes])\n",
    "        p.start()\n",
    "        processes.append(p)\n",
    "        \n",
    "    for p in processes:\n",
    "        p.join()\n",
    "    \n",
    "    np.concatenate(tuple(data))\n",
    "    \n",
    "    runtime = time.time() - start_time\n",
    "    \n",
    "    return runtime, runtime2, dict(process_runtimes)"
   ]
  },
  {
   "cell_type": "code",
   "execution_count": 20,
   "id": "52ac98b9",
   "metadata": {},
   "outputs": [
    {
     "data": {
      "text/plain": [
       "(27.5116183757782,\n",
       " 13.680346250534058,\n",
       " {'P0': 8.814160108566284,\n",
       "  'P63': 8.008486986160278,\n",
       "  'P4': 9.21996283531189,\n",
       "  'P14': 9.653597116470337,\n",
       "  'P60': 8.812825679779053,\n",
       "  'P9': 9.872052431106567,\n",
       "  'P35': 9.744561195373535,\n",
       "  'P55': 9.608566284179688,\n",
       "  'P10': 10.727178812026978,\n",
       "  'P13': 11.082900524139404,\n",
       "  'P2': 11.288793563842773,\n",
       "  'P3': 11.322515487670898,\n",
       "  'P38': 10.815452575683594,\n",
       "  'P28': 11.039220809936523,\n",
       "  'P52': 10.662232875823975,\n",
       "  'P17': 11.3758065700531,\n",
       "  'P27': 11.254856824874878,\n",
       "  'P57': 10.685828685760498,\n",
       "  'P18': 11.469079732894897,\n",
       "  'P47': 11.012757539749146,\n",
       "  'P19': 11.554767370223999,\n",
       "  'P24': 11.577905178070068,\n",
       "  'P1': 11.924763202667236,\n",
       "  'P31': 11.459523916244507,\n",
       "  'P15': 11.761536836624146,\n",
       "  'P23': 11.850965023040771,\n",
       "  'P36': 11.610819339752197,\n",
       "  'P6': 12.169533967971802,\n",
       "  'P61': 11.126006841659546,\n",
       "  'P43': 11.594748735427856,\n",
       "  'P26': 12.05034327507019,\n",
       "  'P48': 11.681634664535522,\n",
       "  'P39': 12.123234987258911,\n",
       "  'P59': 11.655960083007812,\n",
       "  'P20': 12.470014810562134,\n",
       "  'P5': 12.727034091949463,\n",
       "  'P8': 12.724726915359497,\n",
       "  'P11': 12.6984703540802,\n",
       "  'P7': 12.764690399169922,\n",
       "  'P25': 12.496681451797485,\n",
       "  'P58': 11.82996416091919,\n",
       "  'P22': 12.600272178649902,\n",
       "  'P37': 12.408624172210693,\n",
       "  'P34': 12.572978973388672,\n",
       "  'P12': 12.931140899658203,\n",
       "  'P33': 12.647895812988281,\n",
       "  'P42': 12.479729413986206,\n",
       "  'P21': 12.884315013885498,\n",
       "  'P16': 12.963910341262817,\n",
       "  'P49': 12.425238370895386,\n",
       "  'P30': 12.791779279708862,\n",
       "  'P44': 12.571897268295288,\n",
       "  'P45': 12.574898958206177,\n",
       "  'P51': 12.51600694656372,\n",
       "  'P56': 12.37770700454712,\n",
       "  'P53': 12.519495010375977,\n",
       "  'P40': 12.82729172706604,\n",
       "  'P32': 12.951249599456787,\n",
       "  'P62': 12.33870005607605,\n",
       "  'P54': 12.545313358306885,\n",
       "  'P41': 12.906477212905884,\n",
       "  'P50': 12.746177196502686,\n",
       "  'P29': 13.190261602401733,\n",
       "  'P46': 12.971959829330444})"
      ]
     },
     "execution_count": 20,
     "metadata": {},
     "output_type": "execute_result"
    }
   ],
   "source": [
    "runtime_measure_mp_detailed(path, 128, 64)"
   ]
  },
  {
   "cell_type": "code",
   "execution_count": 21,
   "id": "3e1537c7",
   "metadata": {},
   "outputs": [
    {
     "data": {
      "text/plain": [
       "(26.21840810775757,\n",
       " 13.130914688110352,\n",
       " {'P0': 9.129749774932861,\n",
       "  'P31': 9.022169351577759,\n",
       "  'P18': 9.771424531936646,\n",
       "  'P1': 10.143312692642212,\n",
       "  'P14': 9.942578315734863,\n",
       "  'P10': 10.081230640411377,\n",
       "  'P7': 10.149985551834106,\n",
       "  'P20': 9.979991912841797,\n",
       "  'P17': 10.098279237747192,\n",
       "  'P13': 10.327157258987427,\n",
       "  'P6': 10.538482666015625,\n",
       "  'P3': 10.678572416305542,\n",
       "  'P22': 10.391110181808472,\n",
       "  'P21': 10.54996371269226,\n",
       "  'P29': 10.37537670135498,\n",
       "  'P30': 10.411382913589478,\n",
       "  'P2': 10.929961204528809,\n",
       "  'P12': 10.77019715309143,\n",
       "  'P19': 10.679438591003418,\n",
       "  'P28': 10.522900581359863,\n",
       "  'P25': 10.767223834991455,\n",
       "  'P5': 11.20777153968811,\n",
       "  'P16': 11.039603233337402,\n",
       "  'P24': 10.978237390518188,\n",
       "  'P26': 10.944135904312134,\n",
       "  'P4': 11.368788242340088,\n",
       "  'P9': 11.382571935653687,\n",
       "  'P15': 11.374600648880005,\n",
       "  'P11': 11.500488042831421,\n",
       "  'P23': 11.436966896057129,\n",
       "  'P27': 11.392338275909424,\n",
       "  'P8': 12.76976990699768})"
      ]
     },
     "execution_count": 21,
     "metadata": {},
     "output_type": "execute_result"
    }
   ],
   "source": [
    "runtime_measure_mp_detailed(path, 128, 32)"
   ]
  },
  {
   "cell_type": "code",
   "execution_count": 25,
   "id": "652b2457",
   "metadata": {},
   "outputs": [
    {
     "data": {
      "text/plain": [
       "32"
      ]
     },
     "execution_count": 25,
     "metadata": {},
     "output_type": "execute_result"
    }
   ],
   "source": [
    "os.cpu_count()"
   ]
  },
  {
   "cell_type": "code",
   "execution_count": null,
   "id": "5f993c26",
   "metadata": {},
   "outputs": [],
   "source": []
  }
 ],
 "metadata": {
  "kernelspec": {
   "display_name": "Python 3 (ipykernel)",
   "language": "python",
   "name": "python3"
  },
  "language_info": {
   "codemirror_mode": {
    "name": "ipython",
    "version": 3
   },
   "file_extension": ".py",
   "mimetype": "text/x-python",
   "name": "python",
   "nbconvert_exporter": "python",
   "pygments_lexer": "ipython3",
   "version": "3.9.13"
  }
 },
 "nbformat": 4,
 "nbformat_minor": 5
}
