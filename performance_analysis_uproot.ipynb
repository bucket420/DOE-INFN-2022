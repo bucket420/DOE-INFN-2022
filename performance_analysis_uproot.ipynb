{
 "cells": [
  {
   "cell_type": "code",
   "execution_count": 1,
   "id": "0ee9cb5f",
   "metadata": {},
   "outputs": [],
   "source": [
    "import csv\n",
    "import math\n",
    "import matplotlib.pyplot as plt\n",
    "import multiprocessing\n",
    "import numpy as np\n",
    "import os\n",
    "import time\n",
    "import uproot\n",
    "\n",
    "def get_total_size(path, n_files):\n",
    "    filenames = sorted(os.listdir(path))\n",
    "    total_size = sum([os.path.getsize(path + filenames[i]) for i in range(n_files)])\n",
    "    return total_size / (2**30)\n",
    "\n",
    "def col_average(data):\n",
    "    n_rows = len(data)\n",
    "    n_cols = len(data[0])\n",
    "    return [sum([data[i][j] for i in range(1, n_rows)]) / (n_rows - 1) for j in range(n_cols)]\n",
    "\n",
    "def col_standard_deviation(data):\n",
    "    n_rows = len(data)\n",
    "    n_cols = len(data[0])\n",
    "    mean = col_average(data)\n",
    "    return [(sum([(data[i][j] - mean[j])**2 for i in range(1, n_rows)]) / (n_rows - 1))**0.5 for j in range(n_cols)]\n",
    "\n",
    "    \n",
    "def partition_helper(slice_entries, file_entries, file_curr, entry_curr):\n",
    "    if slice_entries <= file_entries[file_curr] - entry_curr:\n",
    "        return [file_curr, slice_entries + entry_curr]\n",
    "    elif file_curr == len(file_entries) - 1:\n",
    "        return [file_curr, file_entries[-1]]\n",
    "    else:\n",
    "        return partition_helper(slice_entries - file_entries[file_curr] + entry_curr, file_entries, file_curr + 1, 0)\n",
    "\n",
    "def partition(files, n_processes):\n",
    "    file_entries = [file.num_entries for file in files]\n",
    "    slice_entries = math.ceil(sum(file_entries) / n_processes)\n",
    "    slices = []\n",
    "    file_start = 0\n",
    "    entry_start = 0\n",
    "    for i in range(n_processes):\n",
    "        slices.append([file_start, entry_start] + partition_helper(slice_entries, file_entries, file_start, entry_start))\n",
    "        file_start = slices[-1][-2]\n",
    "        entry_start = slices[-1][-1]\n",
    "    return slices\n",
    "\n",
    "def read_slice(files, slices, index, data):\n",
    "    data_slice = []\n",
    "    for i in range(slices[index][0], slices[index][2] + 1):\n",
    "        data_slice.append(files[i].arrays(\"candidate_vMass\", \n",
    "                                          \"(candidate_charge == 0)\\\n",
    "                                          & (candidate_cosAlpha > 0.99)\\\n",
    "                                          & (candidate_lxy / candidate_lxyErr > 3.0)\\\n",
    "                                          & (candidate_vProb > 0.05)\\\n",
    "                                          & (ditrack_mass > 1.014) & (ditrack_mass < 1.024)\\\n",
    "                                          & (candidate_vMass > 5.33) & (candidate_vMass < 5.4)\",\n",
    "                                          entry_start=slices[index][1] if i == slices[index][0] else None,\n",
    "                                          entry_stop=slices[index][3] if i == slices[index][2] else None,\n",
    "                                          array_cache=None,\n",
    "                                          library=\"np\",\n",
    "                                         )[\"candidate_vMass\"])\n",
    "    data.append(np.concatenate(tuple(data_slice)))\n",
    "\n",
    "def runtime_measure_mp(path, n_files, n_processes):\n",
    "    if n_files == 0: return 0\n",
    "    if n_processes == 0: return runtime_measure(path, n_files)\n",
    "    start = time.time()\n",
    "    files = [uproot.open(path=path + filename + \":rootuple/CandidateTree\", object_cache=None, array_cache=None) for filename in sorted(os.listdir(path))[:n_files]]\n",
    "    slices = partition(files, n_processes)\n",
    "    data = multiprocessing.Manager().list()\n",
    "    processes = []\n",
    "    for i in range(n_processes):\n",
    "        p = multiprocessing.Process(target=read_slice, args=[files, slices, i, data])\n",
    "        p.start()\n",
    "        processes.append(p)\n",
    "\n",
    "    for p in processes:\n",
    "        p.join()\n",
    "    \n",
    "    np.concatenate(tuple(data))\n",
    "    \n",
    "    return time.time() - start\n",
    "\n",
    "def runtime_measure(path, n_files):\n",
    "    if n_files == 0: return 0\n",
    "    start = time.time()\n",
    "    files = [uproot.open(path=path + filename + \":rootuple/CandidateTree\", object_cache=None, array_cache=None) for filename in sorted(os.listdir(path))[:n_files]]\n",
    "    data = []\n",
    "    for file in files:\n",
    "        data.append(file.arrays(\"candidate_vMass\", \n",
    "                              \"(candidate_charge == 0)\\\n",
    "                              & (candidate_cosAlpha > 0.99)\\\n",
    "                              & (candidate_lxy / candidate_lxyErr > 3.0)\\\n",
    "                              & (candidate_vProb > 0.05)\\\n",
    "                              & (ditrack_mass > 1.014) & (ditrack_mass < 1.024)\\\n",
    "                              & (candidate_vMass > 5.33) & (candidate_vMass < 5.4)\",\n",
    "                              array_cache=None,\n",
    "                              library=\"np\")[\"candidate_vMass\"])\n",
    "        \n",
    "    np.concatenate(tuple(data))\n",
    "    \n",
    "    return time.time() - start\n",
    "\n",
    "def runtime_vs_variable(path, target_dir, measure_function, variable, step, n_loops, var_max, constant=None):\n",
    "    if not os.path.exists(target_dir):\n",
    "        os.makedirs(target_dir)\n",
    "\n",
    "    result_path = (\"%s/runtime_vs_%s_%d_%d_%d_%d.csv\" % (target_dir, variable, constant, var_max, step, n_loops)) if constant else (\"%s/runtime_vs_%s_%d_%d_%d.csv\" % (target_dir, variable, var_max, step, n_loops))\n",
    "    \n",
    "    x = [get_total_size(path, a) for a in range(0, var_max + step, step)] if \"size\" in variable else [a for a in range(0, var_max + step, step)]\n",
    "        \n",
    "    with open(result_path, \"w+\", newline=\"\") as f:\n",
    "        csv.writer(f).writerow(x)\n",
    "    for n in range(n_loops):\n",
    "        y = [measure_function(*(path, i if \"size\" in variable else constant, constant if \"size\" in variable else i) if constant else (path, i)) for i in range(0, var_max + step, step)]\n",
    "        with open(result_path, \"a+\", newline=\"\") as f:\n",
    "            csv.writer(f).writerow(y)\n",
    "    \n",
    "\n"
   ]
  },
  {
   "cell_type": "code",
   "execution_count": 2,
   "id": "7aaca91b",
   "metadata": {},
   "outputs": [],
   "source": [
    "path = \"../data/128_files/\"\n",
    "target_dir = \"runtime_tests_uproot/test\""
   ]
  },
  {
   "cell_type": "code",
   "execution_count": 3,
   "id": "01355dc9",
   "metadata": {},
   "outputs": [],
   "source": [
    "def get_num_entries(path, n_files):\n",
    "    filenames = sorted(os.listdir(path))\n",
    "    num_entries = sum([uproot.open(path + filenames[i] + \":rootuple/CandidateTree\").num_entries for i in range(n_files)])\n",
    "    return num_entries"
   ]
  },
  {
   "cell_type": "code",
   "execution_count": 4,
   "id": "d540fb82",
   "metadata": {},
   "outputs": [
    {
     "data": {
      "text/plain": [
       "457860912"
      ]
     },
     "execution_count": 4,
     "metadata": {},
     "output_type": "execute_result"
    }
   ],
   "source": [
    "get_num_entries(path, 128)"
   ]
  },
  {
   "cell_type": "code",
   "execution_count": 6,
   "id": "a5e412b0",
   "metadata": {},
   "outputs": [
    {
     "data": {
      "text/plain": [
       "126.77721692249179"
      ]
     },
     "execution_count": 6,
     "metadata": {},
     "output_type": "execute_result"
    }
   ],
   "source": [
    "get_total_size(path, 128)"
   ]
  },
  {
   "cell_type": "code",
   "execution_count": 5,
   "id": "218e0359",
   "metadata": {},
   "outputs": [],
   "source": [
    "def partition_files(path, n_files, n_processes):\n",
    "    filenames = sorted(os.listdir(path))\n",
    "    partitions = []\n",
    "    curr = 0\n",
    "    for i in range(n_processes):\n",
    "        if i >= n_files: break\n",
    "        n_files_in_partition = n_files // n_processes if i >= n_files % n_processes else n_files // n_processes + 1\n",
    "        files_to_read = []\n",
    "        for j in range(n_files_in_partition):\n",
    "            files_to_read.append(path + filenames[curr + j])\n",
    "        curr += n_files_in_partition\n",
    "        partitions.append(files_to_read)\n",
    "    return partitions"
   ]
  },
  {
   "cell_type": "code",
   "execution_count": 6,
   "id": "3bd0c080",
   "metadata": {},
   "outputs": [],
   "source": [
    "# partition_files(path, 128, 64)"
   ]
  },
  {
   "cell_type": "code",
   "execution_count": 14,
   "id": "289d4312",
   "metadata": {},
   "outputs": [],
   "source": [
    "def read_slice_detailed(files, slices, index, data, process_runtimes):\n",
    "    key = \"P%d\" % (index)\n",
    "    start_time = time.time()\n",
    "    data_slice = []\n",
    "    for i in range(slices[index][0], slices[index][2] + 1):\n",
    "        data_slice.append(files[i].arrays(\"candidate_vMass\", \n",
    "                                          \"(candidate_charge == 0)\\\n",
    "                                          & (candidate_cosAlpha > 0.99)\\\n",
    "                                          & (candidate_lxy / candidate_lxyErr > 3.0)\\\n",
    "                                          & (candidate_vProb > 0.05)\\\n",
    "                                          & (ditrack_mass > 1.014) & (ditrack_mass < 1.024)\\\n",
    "                                          & (candidate_vMass > 5.33) & (candidate_vMass < 5.4)\",\n",
    "                                          entry_start=slices[index][1] if i == slices[index][0] else None,\n",
    "                                          entry_stop=slices[index][3] if i == slices[index][2] else None,\n",
    "                                          array_cache=None,\n",
    "                                          library=\"np\",\n",
    "                                         )[\"candidate_vMass\"])\n",
    "    data.append(np.concatenate(tuple(data_slice)))\n",
    "    runtime = time.time() - start_time\n",
    "    \n",
    "    process_runtimes[key] = runtime"
   ]
  },
  {
   "cell_type": "code",
   "execution_count": 15,
   "id": "5ed16d93",
   "metadata": {},
   "outputs": [],
   "source": [
    "def runtime_measure_mp_detailed(path, n_files, n_processes):\n",
    "    start_time = time.time()\n",
    "    \n",
    "    start_time2 = time.time()\n",
    "    files = [uproot.open(path=path + filename + \":rootuple/CandidateTree\", object_cache=None, array_cache=None) for filename in sorted(os.listdir(path))[:n_files]]\n",
    "#     files = open_mp(path, n_files, 8)\n",
    "    runtime2 = time.time() - start_time2\n",
    "    slices = partition(files, n_processes)\n",
    "\n",
    "    processes = []\n",
    "    data = multiprocessing.Manager().list()\n",
    "    process_runtimes = multiprocessing.Manager().dict()\n",
    "    \n",
    "    for i in range(n_processes):\n",
    "        p = multiprocessing.Process(target=read_slice_detailed, args=[files, slices, i, data, process_runtimes])\n",
    "        p.start()\n",
    "        processes.append(p)\n",
    "        \n",
    "    for p in processes:\n",
    "        p.join()\n",
    "    \n",
    "    np.concatenate(tuple(data))\n",
    "    \n",
    "    runtime = time.time() - start_time\n",
    "    \n",
    "    return runtime, runtime2, dict(process_runtimes)"
   ]
  },
  {
   "cell_type": "code",
   "execution_count": 16,
   "id": "52ac98b9",
   "metadata": {},
   "outputs": [
    {
     "data": {
      "text/plain": [
       "(16.877119302749634,\n",
       " 8.633413076400757,\n",
       " {'P0': 2.3061718940734863,\n",
       "  'P2': 3.4635045528411865,\n",
       "  'P1': 3.560978651046753,\n",
       "  'P11': 3.4315545558929443,\n",
       "  'P9': 3.452666997909546,\n",
       "  'P10': 3.482663154602051,\n",
       "  'P3': 3.7990365028381348,\n",
       "  'P13': 3.357825517654419,\n",
       "  'P8': 3.8803114891052246,\n",
       "  'P4': 3.9433705806732178,\n",
       "  'P18': 3.3946096897125244,\n",
       "  'P12': 3.7330987453460693,\n",
       "  'P19': 3.470576047897339,\n",
       "  'P15': 3.5607736110687256,\n",
       "  'P14': 3.622859239578247,\n",
       "  'P17': 3.722782611846924,\n",
       "  'P20': 3.6657941341400146,\n",
       "  'P22': 3.6409919261932373,\n",
       "  'P21': 3.662630081176758,\n",
       "  'P5': 4.456023216247559,\n",
       "  'P31': 3.5433173179626465,\n",
       "  'P36': 3.47725248336792,\n",
       "  'P6': 4.542925834655762,\n",
       "  'P25': 3.8495779037475586,\n",
       "  'P33': 3.6438939571380615,\n",
       "  'P34': 3.686098337173462,\n",
       "  'P7': 4.714405536651611,\n",
       "  'P27': 3.9191792011260986,\n",
       "  'P35': 3.76322603225708,\n",
       "  'P24': 4.036141395568848,\n",
       "  'P37': 3.7718703746795654,\n",
       "  'P28': 4.018613815307617,\n",
       "  'P26': 4.089170694351196,\n",
       "  'P39': 3.79947829246521,\n",
       "  'P32': 3.939697265625,\n",
       "  'P40': 3.566865921020508,\n",
       "  'P29': 4.075510025024414,\n",
       "  'P23': 4.4243669509887695,\n",
       "  'P16': 4.6848955154418945,\n",
       "  'P38': 4.125380516052246,\n",
       "  'P42': 3.653468370437622,\n",
       "  'P30': 4.483218431472778,\n",
       "  'P41': 4.028199195861816,\n",
       "  'P45': 3.5201337337493896,\n",
       "  'P43': 4.231287717819214,\n",
       "  'P44': 4.2541608810424805,\n",
       "  'P46': 3.4699625968933105,\n",
       "  'P63': 2.4244234561920166,\n",
       "  'P47': 3.4880454540252686,\n",
       "  'P48': 3.429072141647339,\n",
       "  'P49': 3.4146339893341064,\n",
       "  'P50': 3.422942876815796,\n",
       "  'P51': 3.4993467330932617,\n",
       "  'P55': 3.2364308834075928,\n",
       "  'P57': 3.2619106769561768,\n",
       "  'P60': 3.218576669692993,\n",
       "  'P52': 3.4285807609558105,\n",
       "  'P56': 3.4460577964782715,\n",
       "  'P54': 3.5138895511627197,\n",
       "  'P53': 3.5327260494232178,\n",
       "  'P62': 3.3382184505462646,\n",
       "  'P58': 3.539154052734375,\n",
       "  'P59': 3.7806084156036377,\n",
       "  'P61': 3.716508388519287})"
      ]
     },
     "execution_count": 16,
     "metadata": {},
     "output_type": "execute_result"
    }
   ],
   "source": [
    "runtime_measure_mp_detailed(path, 128, 64)"
   ]
  },
  {
   "cell_type": "code",
   "execution_count": 17,
   "id": "3e1537c7",
   "metadata": {},
   "outputs": [
    {
     "data": {
      "text/plain": [
       "(15.391176700592041,\n",
       " 9.195393323898315,\n",
       " {'P0': 4.074832201004028,\n",
       "  'P31': 4.035709619522095,\n",
       "  'P3': 4.826854944229126,\n",
       "  'P1': 4.847188711166382,\n",
       "  'P6': 4.850580453872681,\n",
       "  'P2': 4.8972742557525635,\n",
       "  'P4': 4.8943421840667725,\n",
       "  'P5': 4.906720161437988,\n",
       "  'P9': 4.908140659332275,\n",
       "  'P7': 4.941329717636108,\n",
       "  'P11': 4.930885076522827,\n",
       "  'P10': 4.960983037948608,\n",
       "  'P14': 4.997405290603638,\n",
       "  'P19': 4.968256711959839,\n",
       "  'P12': 5.030791282653809,\n",
       "  'P21': 4.97875714302063,\n",
       "  'P20': 4.9986937046051025,\n",
       "  'P17': 5.030205011367798,\n",
       "  'P13': 5.075993299484253,\n",
       "  'P18': 5.039189577102661,\n",
       "  'P15': 5.067828416824341,\n",
       "  'P16': 5.081832647323608,\n",
       "  'P28': 4.989311695098877,\n",
       "  'P22': 5.048276662826538,\n",
       "  'P26': 5.028354167938232,\n",
       "  'P23': 5.069641351699829,\n",
       "  'P24': 5.064610958099365,\n",
       "  'P27': 5.046087980270386,\n",
       "  'P29': 5.042645692825317,\n",
       "  'P30': 5.045025110244751,\n",
       "  'P25': 5.090800046920776,\n",
       "  'P8': 5.949615240097046})"
      ]
     },
     "execution_count": 17,
     "metadata": {},
     "output_type": "execute_result"
    }
   ],
   "source": [
    "runtime_measure_mp_detailed(path, 128, 32)"
   ]
  },
  {
   "cell_type": "code",
   "execution_count": 25,
   "id": "652b2457",
   "metadata": {},
   "outputs": [
    {
     "data": {
      "text/plain": [
       "32"
      ]
     },
     "execution_count": 25,
     "metadata": {},
     "output_type": "execute_result"
    }
   ],
   "source": [
    "os.cpu_count()"
   ]
  },
  {
   "cell_type": "code",
   "execution_count": null,
   "id": "5f993c26",
   "metadata": {},
   "outputs": [],
   "source": []
  }
 ],
 "metadata": {
  "kernelspec": {
   "display_name": "Python 3 (ipykernel)",
   "language": "python",
   "name": "python3"
  },
  "language_info": {
   "codemirror_mode": {
    "name": "ipython",
    "version": 3
   },
   "file_extension": ".py",
   "mimetype": "text/x-python",
   "name": "python",
   "nbconvert_exporter": "python",
   "pygments_lexer": "ipython3",
   "version": "3.9.13"
  }
 },
 "nbformat": 4,
 "nbformat_minor": 5
}
