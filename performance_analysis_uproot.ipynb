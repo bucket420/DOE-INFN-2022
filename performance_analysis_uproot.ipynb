{
 "cells": [
  {
   "cell_type": "code",
   "execution_count": 2,
   "id": "f1abf57f",
   "metadata": {},
   "outputs": [],
   "source": [
    "import uproot\n",
    "import matplotlib.pyplot as plt\n",
    "import numpy as np\n",
    "import os\n",
    "import time\n",
    "import multiprocessing\n",
    "import math\n",
    "import csv"
   ]
  },
  {
   "cell_type": "code",
   "execution_count": 3,
   "id": "fdc7eb8e",
   "metadata": {},
   "outputs": [],
   "source": [
    "path = \"../merged/\""
   ]
  },
  {
   "cell_type": "code",
   "execution_count": 4,
   "id": "8a931ce9",
   "metadata": {},
   "outputs": [],
   "source": [
    "def get_total_size(path, n_files):\n",
    "    filenames = sorted(os.listdir(path))\n",
    "    total_size = sum([os.path.getsize(path + filenames[i]) for i in range(n_files)])\n",
    "    return total_size / (2**30)"
   ]
  },
  {
   "cell_type": "code",
   "execution_count": 5,
   "id": "c154d7db",
   "metadata": {},
   "outputs": [],
   "source": [
    "def col_average(data):\n",
    "    n_rows = len(data)\n",
    "    n_cols = len(data[0])\n",
    "    return [sum([data[i][j] for i in range(1, n_rows)]) / (n_rows - 1) for j in range(n_cols)]"
   ]
  },
  {
   "cell_type": "code",
   "execution_count": 6,
   "id": "2a18c08c",
   "metadata": {},
   "outputs": [],
   "source": [
    "def col_standard_deviation(data):\n",
    "    n_rows = len(data)\n",
    "    n_cols = len(data[0])\n",
    "    mean = col_average(data)\n",
    "    return [(sum([(data[i][j] - mean[j])**2 for i in range(1, n_rows)]) / (n_rows - 1))**0.5 for j in range(n_cols)]"
   ]
  },
  {
   "cell_type": "code",
   "execution_count": 7,
   "id": "2492d624",
   "metadata": {},
   "outputs": [],
   "source": [
    "def read_part_of_data(files, n_entries, index, result):\n",
    "    data = []\n",
    "    for i in range(len(files)):\n",
    "        data.append(files[i].arrays(\"candidate_vMass\", \n",
    "                              \"(candidate_charge == 0)\\\n",
    "                              & (candidate_cosAlpha > 0.99)\\\n",
    "                              & (candidate_lxy / candidate_lxyErr > 3.0)\\\n",
    "                              & (candidate_vProb > 0.05)\\\n",
    "                              & (ditrack_mass > 1.014) & (ditrack_mass < 1.024)\\\n",
    "                              & (candidate_vMass > 5.33) & (candidate_vMass < 5.4)\",\n",
    "                              entry_start=n_entries[i] * index,\n",
    "                              entry_stop=n_entries[i] * (index + 1),\n",
    "                              array_cache=None,\n",
    "                              library=\"np\")[\"candidate_vMass\"])\n",
    "    result.append(np.concatenate(tuple(data)))"
   ]
  },
  {
   "cell_type": "code",
   "execution_count": 300,
   "id": "9d5ca3e1",
   "metadata": {},
   "outputs": [],
   "source": [
    "def runtime_measure_mp(path, n_files, n_processes):\n",
    "    start = time.time()\n",
    "    files = [uproot.open(path=path + filename + \":rootuple/CandidateTree\", object_cache=None, array_cache=None) for filename in sorted(os.listdir(path))[:n_files]]\n",
    "    n_entries = [math.ceil(file.num_entries / n_processes) for file in files]\n",
    "    result = multiprocessing.Manager().list()\n",
    "    processes = []\n",
    "    for i in range(n_processes):\n",
    "        p = multiprocessing.Process(target=read_part_of_data, args=[files, n_entries, i, result])\n",
    "        p.start()\n",
    "        processes.append(p)\n",
    "\n",
    "    for p in processes:\n",
    "        p.join()\n",
    "    \n",
    "    np.concatenate(tuple(result))\n",
    "    \n",
    "    return time.time() - start"
   ]
  },
  {
   "cell_type": "code",
   "execution_count": null,
   "id": "7f78d9e7",
   "metadata": {},
   "outputs": [],
   "source": []
  },
  {
   "cell_type": "code",
   "execution_count": 271,
   "id": "5db340c6",
   "metadata": {},
   "outputs": [],
   "source": [
    "def partition_helper(slice_entries, file_entries, file_curr, entry_curr):\n",
    "    if slice_entries <= file_entries[file_curr] - entry_curr:\n",
    "        return [file_curr, slice_entries + entry_curr]\n",
    "    elif file_curr == len(file_entries) - 1:\n",
    "        return [file_curr, file_entries[-1]]\n",
    "    else:\n",
    "        return partition_helper(slice_entries - file_entries[file_curr] + entry_curr, file_entries, file_curr + 1, 0)\n",
    "\n",
    "def partition(files, n_processes):\n",
    "    file_entries = [file.num_entries for file in files]\n",
    "    slice_entries = math.ceil(sum(file_entries) / n_processes)\n",
    "    slices = []\n",
    "    file_start = 0\n",
    "    entry_start = 0\n",
    "    while not bool(slices) or slices[-1][-1] != (file_entries[-1]):\n",
    "        slices.append([file_start, entry_start] + partition_helper(slice_entries, file_entries, file_start, entry_start))\n",
    "        file_start = slices[-1][-2]\n",
    "        entry_start = slices[-1][-1]\n",
    "    return slices"
   ]
  },
  {
   "cell_type": "code",
   "execution_count": 276,
   "id": "9bec340d",
   "metadata": {},
   "outputs": [],
   "source": [
    "def read_part_of_data_test(files, partitions, index, result):\n",
    "    data = []\n",
    "    for i in range(partitions[index][0], partitions[index][2] + 1):\n",
    "        data.append(files[i].arrays(\"candidate_vMass\", \n",
    "                              \"(candidate_charge == 0)\\\n",
    "                              & (candidate_cosAlpha > 0.99)\\\n",
    "                              & (candidate_lxy / candidate_lxyErr > 3.0)\\\n",
    "                              & (candidate_vProb > 0.05)\\\n",
    "                              & (ditrack_mass > 1.014) & (ditrack_mass < 1.024)\\\n",
    "                              & (candidate_vMass > 5.33) & (candidate_vMass < 5.4)\",\n",
    "                              entry_start=partitions[index][1] if i == partitions[index][0] else None,\n",
    "                              entry_stop=partitions[index][3] + 1 if i == partitions[index][2] else None,\n",
    "                              array_cache=None,\n",
    "                              library=\"np\")[\"candidate_vMass\"])\n",
    "    result.append(np.concatenate(tuple(data)))"
   ]
  },
  {
   "cell_type": "code",
   "execution_count": 298,
   "id": "813a2629",
   "metadata": {},
   "outputs": [],
   "source": [
    "def runtime_measure_mp_test(path, n_files, n_processes):\n",
    "    start = time.time()\n",
    "    files = [uproot.open(path=path + filename + \":rootuple/CandidateTree\", object_cache=None, array_cache=None) for filename in sorted(os.listdir(path))[:n_files]]\n",
    "    partitions = partition(files, n_processes)\n",
    "    result = multiprocessing.Manager().list()\n",
    "    processes = []\n",
    "    for i in range(n_processes):\n",
    "        p = multiprocessing.Process(target=read_part_of_data_test, args=[files, partitions, i, result])\n",
    "        p.start()\n",
    "        processes.append(p)\n",
    "\n",
    "    for p in processes:\n",
    "        p.join()\n",
    "    \n",
    "    np.concatenate(tuple(result))\n",
    "    \n",
    "    return time.time() - start"
   ]
  },
  {
   "cell_type": "code",
   "execution_count": 331,
   "id": "7f89b59b",
   "metadata": {},
   "outputs": [
    {
     "data": {
      "text/plain": [
       "3.836001396179199"
      ]
     },
     "execution_count": 331,
     "metadata": {},
     "output_type": "execute_result"
    }
   ],
   "source": [
    "runtime_measure_mp_test(path, 8, 16)"
   ]
  },
  {
   "cell_type": "code",
   "execution_count": 332,
   "id": "c3068bb6",
   "metadata": {},
   "outputs": [
    {
     "data": {
      "text/plain": [
       "3.4293620586395264"
      ]
     },
     "execution_count": 332,
     "metadata": {},
     "output_type": "execute_result"
    }
   ],
   "source": [
    "runtime_measure_mp(path, 8, 16)"
   ]
  },
  {
   "cell_type": "code",
   "execution_count": 9,
   "id": "9c17cdaa",
   "metadata": {},
   "outputs": [],
   "source": [
    "def runtime_vs_size_mp(path, n_processes, max_files, step, n_loops, target_dir):\n",
    "    result_path = (\"runtime_tests_uproot/%s/runtime_vs_size_mp_%d_%d_%d_%d.csv\" % (target_dir, n_processes, max_files, step, n_loops))\n",
    "    x = [get_total_size(path, a) for a in range(step, max_files + step, step)]\n",
    "    with open(result_path, \"w+\", newline=\"\") as f:\n",
    "        csv.writer(f).writerow(x)\n",
    "    for n in range(n_loops):\n",
    "        y = [runtime_measure_mp(path, i, n_processes) for i in range(step, max_files + step, step)]\n",
    "        with open(result_path, \"a+\", newline=\"\") as f:\n",
    "            csv.writer(f).writerow(y)"
   ]
  },
  {
   "cell_type": "code",
   "execution_count": 10,
   "id": "5a7c5ed2",
   "metadata": {},
   "outputs": [],
   "source": [
    "def runtime_vs_size_plot_mp(path, n_processes, max_files, step, n_loops, target_dir):\n",
    "    if not os.path.exists(\"runtime_tests_uproot/%s\" % (target_dir)):\n",
    "        os.mkdir(\"runtime_tests_uproot/%s\" % (target_dir))\n",
    "    if not os.path.exists(\"figures/uproot/%s\" % (target_dir)):\n",
    "        os.mkdir(\"figures/uproot/%s\" % (target_dir))\n",
    "    result_path = (\"runtime_tests_uproot/%s/runtime_vs_size_mp_%d_%d_%d_%d.csv\" % (target_dir, n_processes, max_files, step, n_loops))\n",
    "    if not os.path.exists(result_path):\n",
    "        runtime_vs_size_mp(path, n_processes, max_files, step, n_loops, target_dir)\n",
    "    with open(result_path, \"r\") as f:\n",
    "        data = [[float(a) for a in row] for row in csv.reader(f)]\n",
    "        plt.figure(figsize = (20, 8))\n",
    "        plt.title('Runtime vs Size (%d processes)' % (n_processes))\n",
    "        plt.xlabel('Size (GB)')\n",
    "        plt.ylabel('Runtime (s)')\n",
    "        #plt.scatter(data[0], col_average(data))\n",
    "        #for r in range(1, len(data)):\n",
    "            #plt.scatter(data[0], data[r])\n",
    "        plt.errorbar(data[0], col_average(data[1:]), yerr=col_standard_deviation(data[1:]), fmt=\"o\", ecolor=\"orange\")\n",
    "        for i in range(len(data[0])): \n",
    "            plt.annotate(\"%.2f(%d)\" % (round(col_average(data[1:])[i], 2), (i + 1) * step), (data[0][i], col_average(data[1:])[i]))\n",
    "        plt.savefig('figures/uproot/%s/runtime_vs_size_mp_%d_%d_%d_%d.png' % (target_dir, n_processes, max_files, step, n_loops), bbox_inches='tight')"
   ]
  },
  {
   "cell_type": "code",
   "execution_count": 11,
   "id": "06f15b59",
   "metadata": {},
   "outputs": [],
   "source": [
    "def runtime_vs_processes(path, n_files, max_processes, step, n_loops, target_dir):\n",
    "    parent_dir = path.split('/')[-2]\n",
    "    result_path = (\"runtime_tests_uproot/%s/runtime_vs_processes_%d_%d_%d_%d.csv\" % (target_dir, n_files, max_processes, step, n_loops))\n",
    "    x = [a for a in range(step, max_processes + step, step)]\n",
    "    with open(result_path, \"w+\", newline=\"\") as f:\n",
    "        csv.writer(f).writerow(x)\n",
    "    for n in range(n_loops):\n",
    "        y = [runtime_measure_mp(path, n_files, i) for i in range(step, max_processes + step, step)]\n",
    "        with open(result_path, \"a+\", newline=\"\") as f:\n",
    "            csv.writer(f).writerow(y)"
   ]
  },
  {
   "cell_type": "code",
   "execution_count": 12,
   "id": "f47a8f48",
   "metadata": {},
   "outputs": [],
   "source": [
    "def runtime_vs_processes_plot(path, n_files, max_processes, step, n_loops, target_dir):\n",
    "    parent_dir = path.split('/')[-2]\n",
    "    if not os.path.exists(\"runtime_tests_uproot/%s\" % (target_dir)):\n",
    "        os.mkdir(\"runtime_tests_uproot/%s\" % (target_dir))\n",
    "    if not os.path.exists(\"figures/uproot/%s\" % (target_dir)):\n",
    "        os.mkdir(\"figures/uproot/%s\" % (target_dir))\n",
    "    result_path = (\"runtime_tests_uproot/%s/runtime_vs_processes_%d_%d_%d_%d.csv\" % (target_dir, n_files, max_processes, step, n_loops))\n",
    "    if not os.path.exists(result_path):\n",
    "        runtime_vs_processes(path, n_files, max_processes, step, n_loops, target_dir)\n",
    "    with open(result_path, \"r\") as f:\n",
    "        data = [[float(a) for a in row] for row in csv.reader(f)]\n",
    "        plt.figure(figsize = (20, 8))\n",
    "        plt.title('Runtime vs Processes (%d files, %.2f GB)' % (n_files, get_total_size(path, n_files)))\n",
    "        plt.xlabel('Processes')\n",
    "        plt.ylabel('Runtime (s)')\n",
    "        #plt.scatter(data[0], col_average(data))\n",
    "        #for r in range(1, len(data)):\n",
    "            #plt.scatter(data[0], data[r])\n",
    "        plt.xticks(range(step, max_processes + 1, step))\n",
    "        plt.errorbar(data[0], col_average(data[:]), yerr=col_standard_deviation(data[:]), fmt=\"o\", ecolor=\"orange\")\n",
    "        for i in range(len(data[0])): \n",
    "            plt.annotate(round(col_average(data[:])[i], 2), (data[0][i], col_average(data[:])[i]))\n",
    "        plt.savefig('figures/uproot/%s/runtime_vs_processes_%d_%d_%d_%d.png' % (target_dir, n_files, max_processes, step, n_loops), bbox_inches='tight')"
   ]
  },
  {
   "cell_type": "code",
   "execution_count": 13,
   "id": "91ae58de",
   "metadata": {},
   "outputs": [
    {
     "data": {
      "image/png": "[encoded data removed]",
      "text/plain": [
       "<Figure size 1440x576 with 1 Axes>"
      ]
     },
     "metadata": {
      "needs_background": "light"
     },
     "output_type": "display_data"
    }
   ],
   "source": [
    "runtime_vs_processes_plot(path, 60, 60, 4, 10, \"merged\")"
   ]
  },
  {
   "cell_type": "code",
   "execution_count": 66,
   "id": "977a7f2d",
   "metadata": {},
   "outputs": [
    {
     "data": {
      "image/png": "[encoded data removed]",
      "text/plain": [
       "<Figure size 1440x576 with 1 Axes>"
      ]
     },
     "metadata": {
      "needs_background": "light"
     },
     "output_type": "display_data"
    }
   ],
   "source": [
    "runtime_vs_processes_plot(path, 80, 80, 5, 10, \"merged\")"
   ]
  },
  {
   "cell_type": "code",
   "execution_count": null,
   "id": "eb36a02f",
   "metadata": {},
   "outputs": [],
   "source": []
  }
 ],
 "metadata": {
  "kernelspec": {
   "display_name": "Python 3 (ipykernel)",
   "language": "python",
   "name": "python3"
  },
  "language_info": {
   "codemirror_mode": {
    "name": "ipython",
    "version": 3
   },
   "file_extension": ".py",
   "mimetype": "text/x-python",
   "name": "python",
   "nbconvert_exporter": "python",
   "pygments_lexer": "ipython3",
   "version": "3.9.13"
  }
 },
 "nbformat": 4,
 "nbformat_minor": 5
}
