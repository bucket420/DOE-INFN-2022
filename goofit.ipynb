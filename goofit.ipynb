{
 "cells": [
  {
   "cell_type": "code",
   "execution_count": 2,
   "id": "bd43fcb0",
   "metadata": {},
   "outputs": [
    {
     "name": "stdout",
     "output_type": "stream",
     "text": [
      "Welcome to JupyROOT 6.24/06\n"
     ]
    }
   ],
   "source": [
    "import ROOT\n",
    "import matplotlib.pyplot as plt\n",
    "import numpy as np\n",
    "import goofit as gf\n",
    "import uproot\n",
    "import multiprocessing"
   ]
  },
  {
   "cell_type": "code",
   "execution_count": 20,
   "id": "81df5777",
   "metadata": {},
   "outputs": [],
   "source": [
    "data = uproot.open(\"filtered_data/mass.root:CandidateTree\").arrays(library=\"np\")[\"candidate_vMass\"]"
   ]
  },
  {
   "cell_type": "code",
   "execution_count": 21,
   "id": "066c39a9",
   "metadata": {},
   "outputs": [],
   "source": [
    "mass = gf.Observable('mass', 5.33, 5.4)\n",
    "mean = gf.Variable('mu', 5.37, 5.33, 5.4)\n",
    "sigma = gf.Variable('sigma', 0.1, 0.01, 0.2)\n",
    "gauss = gf.GaussianPdf(\"gauss\", mass, mean, sigma1)\n",
    "\n",
    "# sigma2 = gf.Variable('sigma2', 0.01, 0.001, 0.1)\n",
    "# gauss2 = gf.PolynomialPdf(\"gauss2\", mass, mean, sigma2)\n"
   ]
  },
  {
   "cell_type": "code",
   "execution_count": 151,
   "id": "fdc1cd0f",
   "metadata": {},
   "outputs": [],
   "source": [
    "a0_0 = gf.Variable(\"a0_0\", 1.0)\n",
    "\n",
    "poly0 = gf.PolynomialPdf(\"poly0\", mass, [a0_0])"
   ]
  },
  {
   "cell_type": "code",
   "execution_count": 152,
   "id": "d2f45c02",
   "metadata": {},
   "outputs": [],
   "source": [
    "# a0 = gf.Variable(\"a0\", 1.2, 1, 2)\n",
    "# a1 = gf.Variable(\"a1\", 0.5, 0.0, 1.0)\n",
    "# a2 = gf.Variable(\"a2\", -0.2, 0.0, 1.0)\n",
    "a1_0 = gf.Variable(\"a1_0\", 0.0)\n",
    "a1_1 = gf.Variable(\"a1_1\", 1.0)\n",
    "\n",
    "poly1 = gf.PolynomialPdf(\"poly1\", mass, [a1_0, a1_1])"
   ]
  },
  {
   "cell_type": "code",
   "execution_count": 153,
   "id": "dde9de4f",
   "metadata": {},
   "outputs": [],
   "source": [
    "a2_0 = gf.Variable(\"a2_0\", -1.0)\n",
    "a2_1 = gf.Variable(\"a2_1\", 0.0)\n",
    "a2_2 = gf.Variable(\"a2_2\", 2.0)\n",
    "\n",
    "poly2 = gf.PolynomialPdf(\"poly2\", mass, [a2_0, a2_1, a2_2])"
   ]
  },
  {
   "cell_type": "code",
   "execution_count": 154,
   "id": "65010e1d",
   "metadata": {},
   "outputs": [],
   "source": [
    "a0 = gf.Variable(\"a0\", 1.0)\n",
    "a1 = gf.Variable(\"a1\", 0.5, 0.0, 1.0)\n",
    "a2 = gf.Variable(\"a2\", -0.3, -0.5, 1.0)\n",
    "\n",
    "chebyshev = gf.AddPdf('bkg', [a0, a1, a2], [poly0, poly1, poly2])"
   ]
  },
  {
   "cell_type": "code",
   "execution_count": null,
   "id": "8d25caf0",
   "metadata": {},
   "outputs": [],
   "source": []
  },
  {
   "cell_type": "code",
   "execution_count": 155,
   "id": "6883fbe1",
   "metadata": {},
   "outputs": [],
   "source": [
    "f0 = gf.Variable('f_0', .5, 0, 1)"
   ]
  },
  {
   "cell_type": "code",
   "execution_count": 156,
   "id": "b3d0b3ee",
   "metadata": {},
   "outputs": [],
   "source": [
    "pdf = gf.AddPdf('pdf', [f0], [gauss, chebyshev])"
   ]
  },
  {
   "cell_type": "code",
   "execution_count": 157,
   "id": "b11814df",
   "metadata": {},
   "outputs": [],
   "source": [
    "ds = gf.UnbinnedDataSet(mass)\n",
    "ds.from_matrix([data], filter=True)"
   ]
  },
  {
   "cell_type": "code",
   "execution_count": 158,
   "id": "a263984e",
   "metadata": {},
   "outputs": [
    {
     "name": "stdout",
     "output_type": "stream",
     "text": [
      "MnSeedGenerator: for initial parameters FCN = -1066189.129345\n",
      "MnSeedGenerator: Initial state:   - FCN =  -1066189.129345 Edm =      1357.76 NCalls =     19\n",
      "MnSeedGenerator: Negative G2 found - new state:   - FCN =   -1066194.92642 Edm =      1376.06 NCalls =     33\n",
      "VariableMetric: start iterating until Edm is < 0.0001\n",
      "VariableMetric: Initial state   - FCN =   -1066194.92642 Edm =      1376.06 NCalls =     33\n",
      "VariableMetric: Iteration #   0 - FCN =   -1066194.92642 Edm =      1376.06 NCalls =     33\n",
      "VariableMetric: Iteration #   1 - FCN =  -1067404.269508 Edm =    0.0924089 NCalls =     47\n",
      "VariableMetric: Iteration #   2 - FCN =   -1067404.39453 Edm =    0.0405675 NCalls =     60\n",
      "VariableMetric: Iteration #   3 - FCN =  -1067406.839993 Edm =     0.918191 NCalls =     79\n",
      "VariableMetric: Iteration #   4 - FCN =  -1067407.085487 Edm =     0.620236 NCalls =     91\n",
      "VariableMetric: Iteration #   5 - FCN =  -1067408.002925 Edm =    0.0666914 NCalls =    103\n",
      "VariableMetric: Iteration #   6 - FCN =  -1067408.053576 Edm =   0.00914108 NCalls =    115\n",
      "VariableMetric: Iteration #   7 - FCN =  -1067408.060306 Edm =  0.000912059 NCalls =    127\n",
      "VariableMetric: Iteration #   8 - FCN =  -1067408.060496 Edm =  0.000345466 NCalls =    140\n",
      "VariableMetric: Iteration #   9 - FCN =  -1067408.060658 Edm =  0.000459215 NCalls =    153\n",
      "VariableMetric: Iteration #  10 - FCN =  -1067408.060828 Edm =  0.000718862 NCalls =    166\n",
      "VariableMetric: Iteration #  11 - FCN =  -1067408.138988 Edm =    0.0981796 NCalls =    184\n",
      "VariableMetric: Iteration #  12 - FCN =   -1067408.13945 Edm =   0.00713064 NCalls =    197\n",
      "VariableMetric: Iteration #  13 - FCN =  -1067408.192344 Edm =    0.0660482 NCalls =    210\n",
      "VariableMetric: Iteration #  14 - FCN =  -1067408.201127 Edm =   0.00586329 NCalls =    222\n",
      "VariableMetric: Iteration #  15 - FCN =  -1067408.247544 Edm =    0.0287884 NCalls =    235\n",
      "VariableMetric: Iteration #  16 - FCN =  -1067408.404557 Edm =     0.164446 NCalls =    248\n",
      "VariableMetric: Iteration #  17 - FCN =  -1067408.413097 Edm =    0.0168773 NCalls =    261\n",
      "VariableMetric: Iteration #  18 - FCN =  -1067408.429775 Edm =   0.00909449 NCalls =    273\n",
      "VariableMetric: Iteration #  19 - FCN =  -1067408.437535 Edm =   0.00670919 NCalls =    286\n",
      "VariableMetric: Iteration #  20 - FCN =  -1067408.457733 Edm =   0.00420117 NCalls =    299\n",
      "VariableMetric: Iteration #  21 - FCN =   -1067408.47549 Edm =   0.00607239 NCalls =    312\n",
      "VariableMetric: Iteration #  22 - FCN =  -1067408.475623 Edm =   0.00418505 NCalls =    326\n",
      "VariableMetric: Iteration #  23 - FCN =  -1067408.475729 Edm =    0.0027358 NCalls =    339\n",
      "VariableMetric: Iteration #  24 - FCN =  -1067408.475988 Edm =   0.00160132 NCalls =    352\n",
      "VariableMetric: Iteration #  25 - FCN =  -1067408.475988 Edm =   0.00160132 NCalls =    363\n",
      "\n",
      "WARNING: Minuit did not converge.\n",
      "\n",
      "# of function calls: 352\n",
      "minimum function Value: -1067408.475988\n",
      "minimum edm: 0.001601322556546\n",
      "minimum internal state vector: LAVector parameters:\n",
      "     0.1585315116381\n",
      "    0.04119965353769\n",
      "     -1.523685641213\n",
      "      36.08615533062\n",
      "   -0.02444488770141\n",
      "\n",
      "minimum internal covariance matrix: LASymMatrix parameters:\n",
      "  3.9177634e-05 -4.0979899e-07  5.3565351e-05  -0.0030849943 -0.00065743231\n",
      " -4.0979899e-07  1.7113793e-06 -4.7118651e-07  -0.0010645061 -0.00059576766\n",
      "  5.3565351e-05 -4.7118651e-07   0.0001372161  -0.0076526249  -0.0011896715\n",
      "  -0.0030849943  -0.0010645061  -0.0076526249      24.914561       1.870065\n",
      " -0.00065743231 -0.00059576766  -0.0011896715       1.870065      1.1498288\n",
      "\n",
      "\n",
      "# ext. ||   Name    ||   type  ||     Value     ||  Error +/- \n",
      "\n",
      "   0   ||       f_0 || limited ||     0.5789341517888 ||0.002185205464892\n",
      "   1   ||        mu || limited ||      5.366441579967 ||3.234874471714e-05\n",
      "   2   ||    sigma1 || limited ||     0.0101054027965 ||3.705654607994e-05\n",
      "   3   ||        a0 ||  const  ||                   1 ||\n",
      "   4   ||        a1 || limited ||  0.0004443044959799 ||0.9770135705867\n",
      "   5   ||        a2 || limited ||     0.2316681600575 ||0.5155745762131\n",
      "   6   ||      a0_0 ||  const  ||                   1 ||\n",
      "   7   ||      a1_0 ||  const  ||                   0 ||\n",
      "   8   ||      a1_1 ||  const  ||                   1 ||\n",
      "   9   ||      a2_0 ||  const  ||                  -1 ||\n",
      "  10   ||      a2_1 ||  const  ||                   0 ||\n",
      "  11   ||      a2_2 ||  const  ||                   2 ||\n",
      "\n",
      "\n",
      "\n",
      "WARNING: FunctionMinimum is invalid: \n",
      "\t Edm is above max\n",
      "\n",
      "The minimization took: 538.89 ms\n",
      "Average time per call: 1.5315 ms\n",
      "HesseFailed: 0\n",
      "HasCovariance: 1\n",
      "HasValidCovariance: 1\n",
      "HasValidParameters: 1\n",
      "IsAboveMaxEdm: 1\n",
      "HasReachedCallLimit: 0\n",
      "HasAccurateCovar: 1\n",
      "HasPosDefCovar : 1\n",
      "HasMadePosDefCovar : 0\n"
     ]
    },
    {
     "data": {
      "text/plain": [
       "<goofit.minuit2.FunctionMinimum at 0x7fa551200870>"
      ]
     },
     "execution_count": 158,
     "metadata": {},
     "output_type": "execute_result"
    },
    {
     "name": "stderr",
     "output_type": "stream",
     "text": [
      "Info: VariableMetricBuilder: no improvement in line search\n",
      "Info: VariableMetricBuilder: machine accuracy limits further improvement.\n",
      "Info in VariableMetricBuilder: INVALID function minimum - edm is above tolerance, : edm = 0.00160132\n",
      "Info in VariableMetricBuilder: Required tolerance  is 10 x edmval  : edmval = 0.0001\n"
     ]
    }
   ],
   "source": [
    "pdf.fitTo(ds)"
   ]
  },
  {
   "cell_type": "code",
   "execution_count": 159,
   "id": "afee3310",
   "metadata": {},
   "outputs": [
    {
     "data": {
      "text/plain": [
       "0.5789341517887979"
      ]
     },
     "execution_count": 159,
     "metadata": {},
     "output_type": "execute_result"
    }
   ],
   "source": [
    "f0.value"
   ]
  },
  {
   "cell_type": "code",
   "execution_count": 160,
   "id": "92a83a86",
   "metadata": {},
   "outputs": [],
   "source": [
    "grid1, points1 = gauss.evaluatePdf(mass)\n",
    "xs1 = grid1.to_matrix().flatten()\n",
    "points1 = np.asarray(points1)\n",
    "\n",
    "grid2, points2 = poly.evaluatePdf(mass)\n",
    "xs2 = grid2.to_matrix().flatten()\n",
    "points2 = np.asarray(points2)"
   ]
  },
  {
   "cell_type": "code",
   "execution_count": 161,
   "id": "e0b94f53",
   "metadata": {},
   "outputs": [],
   "source": [
    "grid, points = pdf.evaluatePdf(mass)\n",
    "xs = grid.to_matrix().flatten()"
   ]
  },
  {
   "cell_type": "code",
   "execution_count": 162,
   "id": "b0c2045f",
   "metadata": {},
   "outputs": [
    {
     "data": {
      "image/png": "[encoded data removed]",
      "text/plain": [
       "<Figure size 864x288 with 1 Axes>"
      ]
     },
     "metadata": {
      "needs_background": "light"
     },
     "output_type": "display_data"
    }
   ],
   "source": [
    "fig, ax = plt.subplots(figsize=(12,4))\n",
    "ax.plot(xs, points, label='Total')\n",
    "ax.plot(xs1, points1 * f0.value, label = \"signal\")\n",
    "ax.plot(xs2, points2 * (1 - f0.value), label = \"bkg\")\n",
    "ax.hist(data, bins=200, density=True, alpha=.4, label='data')\n",
    "ax.set_xlim(5.32, 5.41)\n",
    "ax.set_xlabel('mass')\n",
    "ax.set_ylabel('density')\n",
    "plt.legend()\n",
    "plt.show()"
   ]
  },
  {
   "cell_type": "code",
   "execution_count": null,
   "id": "db064277",
   "metadata": {},
   "outputs": [],
   "source": []
  },
  {
   "cell_type": "code",
   "execution_count": null,
   "id": "b75509a6",
   "metadata": {},
   "outputs": [],
   "source": []
  }
 ],
 "metadata": {
  "kernelspec": {
   "display_name": "Python 3 (ipykernel)",
   "language": "python",
   "name": "python3"
  },
  "language_info": {
   "codemirror_mode": {
    "name": "ipython",
    "version": 3
   },
   "file_extension": ".py",
   "mimetype": "text/x-python",
   "name": "python",
   "nbconvert_exporter": "python",
   "pygments_lexer": "ipython3",
   "version": "3.9.13"
  }
 },
 "nbformat": 4,
 "nbformat_minor": 5
}
