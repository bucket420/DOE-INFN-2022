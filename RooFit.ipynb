{
 "cells": [
  {
   "cell_type": "code",
   "execution_count": null,
   "metadata": {
    "scrolled": false
   },
   "outputs": [],
   "source": [
    "ROOT::RDataFrame d(\"rootuple/CandidateTree\", \"/lustre/cms/store/user/adiflori/jpsikk_DataRunII_UltraLegacy_miniAODv2_v1_m4To6/Charmonium/crab_Charmonium_Run2018D-UL2018_MiniAODv2-v1_MINIAOD__1SKK_20220512_114449/220512_094551/0000/rootuple.root\");\n",
    "\n",
    "auto cut = d.Filter(\"candidate_charge == 0\")\n",
    "          .Filter(\"candidate_cosAlpha * candidate_cosAlpha > 0.99 * 0.99\")\n",
    "          .Filter(\"candidate_vProb > 0.05\")\n",
    "          .Filter(\"candidate_lxy / candidate_lxyErr > 3.0\")\n",
    "          .Filter(\"ditrack_mass > 1.014\")\n",
    "          .Filter(\"ditrack_mass < 1.024\");\n",
    "\n",
    "auto hist1 = cut.Histo1D({\"candidate_vMass\", \"candidate mass\", 200, 5.33, 5.4}, \"candidate_vMass\");\n",
    "\n",
    "TCanvas canvas;\n",
    "\n",
    "Double_t xMin = hist1->GetXaxis()->GetXmin();\n",
    "Double_t xMax = hist1->GetXaxis()->GetXmax();\n",
    "Int_t nBins = hist1->GetNbinsX();\n",
    "RooRealVar xVar(\"xVar\", \"m(JPsiPhi)\", xMin, xMax);\n",
    "xVar.setBins(nBins);\n",
    "RooDataHist jpsiphiHist(\"JPsiPhi_Hist\", hist1->GetTitle(), RooArgSet(xVar), RooFit::Import(*hist1, kFALSE));\n",
    "\n",
    "RooRealVar mG(\"mean\", \"mean\", 5.37, 5.33, 5.41);\n",
    "RooRealVar sigma1(\"sigma1\", \"sigma1\", 0.005, 0.0001, 0.01);\n",
    "RooGaussian sigPDF(\"sigPDF\", \"Signal\", xVar, mG, sigma1);\n",
    "\n",
    "RooRealVar c1(\"c1\", \"c1\", -0.1, -10, 10);\n",
    "RooRealVar c2(\"c2\", \"c2\", -0.1, -10, 10);\n",
    "RooChebychev bkgPDF(\"bkgPDF\", \"Background\", xVar, RooArgSet(c1, c2));\n",
    "\n",
    "RooRealVar nSig(\"nSig\", \"nSig\", 1.5e+4, 1, 2e+4);\n",
    "RooRealVar nBkg(\"nBkg\", \"nBkg\", 0.5e+4, 1, 2e+4);\n",
    "\n",
    "RooAddPdf totalPDF(\"totalPDF\", \"totalPDF\", RooArgList(sigPDF, bkgPDF), RooArgList(nSig, nBkg));\n",
    "\n",
    "totalPDF.fitTo(jpsiphiHist, RooFit::Extended(kTRUE));\n",
    "\n",
    "RooPlot* xframe = xVar.frame();\n",
    "\n",
    "jpsiphiHist.plotOn(xframe);\n",
    "totalPDF.plotOn(xframe);\n",
    "totalPDF.plotOn(xframe, RooFit::Components(RooArgSet(sigPDF)), RooFit::LineColor(kRed));\n",
    "totalPDF.plotOn(xframe, RooFit::Components(RooArgSet(bkgPDF)), RooFit::LineColor(kGreen));\n",
    "\n",
    "\n",
    "xframe->Draw();\n",
    "canvas.Draw();"
   ]
  },
  {
   "cell_type": "code",
   "execution_count": null,
   "metadata": {},
   "outputs": [],
   "source": []
  }
 ],
 "metadata": {
  "kernelspec": {
   "display_name": "ROOT C++",
   "language": "c++",
   "name": "root"
  },
  "language_info": {
   "codemirror_mode": "text/x-c++src",
   "file_extension": ".C",
   "mimetype": " text/x-c++src",
   "name": "c++"
  }
 },
 "nbformat": 4,
 "nbformat_minor": 4
}
