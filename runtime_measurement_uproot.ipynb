{
 "cells": [
  {
   "cell_type": "markdown",
   "id": "e9a7dd3c",
   "metadata": {},
   "source": [
    "# Measuring the performance of Uproot"
   ]
  },
  {
   "cell_type": "markdown",
   "id": "862f42e7",
   "metadata": {},
   "source": [
    "First, import all modules we are going to use."
   ]
  },
  {
   "cell_type": "code",
   "execution_count": 2,
   "id": "0c16a442",
   "metadata": {},
   "outputs": [],
   "source": [
    "import csv\n",
    "import math\n",
    "import matplotlib.pyplot as plt\n",
    "import multiprocessing\n",
    "import numpy as np\n",
    "import os\n",
    "import sys\n",
    "import time\n",
    "import uproot"
   ]
  },
  {
   "cell_type": "markdown",
   "id": "d811771f",
   "metadata": {},
   "source": [
    "The two `runtime_measure` functions below return the total runtime of the following operations:  \n",
    "1. Accessing the `TTree`’s in the ROOT files  \n",
    "2. Apply specific filters on the data to expose the invariant mass distribution of the B0s meson  \n",
    "3. Convert the `TBranch` containing the mass of the meson to a `numpy` array  \n",
    " \n",
    "The functions share two common parameters:  \n",
    "- `path`: the path to the folder containing the ROOT files  \n",
    "- `n_files`: the number of file you want to process"
   ]
  },
  {
   "cell_type": "markdown",
   "id": "14f2709f",
   "metadata": {},
   "source": [
    "## 1. Default runtime measurement\n",
    "The function below measures the runtime when multiprocessing is not used."
   ]
  },
  {
   "cell_type": "code",
   "execution_count": 3,
   "id": "264ff102",
   "metadata": {},
   "outputs": [],
   "source": [
    "def runtime_measure(path, n_files):\n",
    "    if n_files == 0: return 0\n",
    "    start = time.time()\n",
    "    files = [uproot.open(path=path + filename + \":rootuple/CandidateTree\", object_cache=None, array_cache=None) for filename in sorted(os.listdir(path))[:n_files]]\n",
    "    data = []\n",
    "    for file in files:\n",
    "        data.append(file.arrays(\"candidate_vMass\", \n",
    "                              \"(candidate_charge == 0)\\\n",
    "                              & (candidate_cosAlpha > 0.99)\\\n",
    "                              & (candidate_lxy / candidate_lxyErr > 3.0)\\\n",
    "                              & (candidate_vProb > 0.05)\\\n",
    "                              & (ditrack_mass > 1.014) & (ditrack_mass < 1.024)\\\n",
    "                              & (candidate_vMass > 5.33) & (candidate_vMass < 5.4)\",\n",
    "                              array_cache=None,\n",
    "                              library=\"np\")[\"candidate_vMass\"])\n",
    "        \n",
    "    np.concatenate(tuple(data))\n",
    "    \n",
    "    return time.time() - start"
   ]
  },
  {
   "cell_type": "markdown",
   "id": "ea7a4196",
   "metadata": {},
   "source": [
    "## 2. Runtime measurement with multiprocessing"
   ]
  },
  {
   "cell_type": "markdown",
   "id": "47e963f3",
   "metadata": {},
   "source": [
    "First, we need to split the data so that the workload is distributed as equally as possible among all subprocesses. Since **Uproot** allows us to specify the number of entries we want to read from each `TTree`, one entry is our smallest unit of data. This means we can have a distribution in which each subprocess will handle approximately the same number of entries. \n",
    "\n",
    "We can distribute the workload with the help of the `partition` function below. It takes 2 parameters:\n",
    "- `file_entries`: a list containing the number of entries in each file that will be read. \n",
    "- `n_processes`: the number of subprocesses we want to create. \n",
    "\n",
    "The function will returns the indices of the first and last entries that one subprocess will read, such that approximately `n_entries` / `n_processes` entries will be distributed to each subprocess, where `n_entries` is the total number of entries in the files."
   ]
  },
  {
   "cell_type": "code",
   "execution_count": 4,
   "id": "f93c3c03",
   "metadata": {},
   "outputs": [],
   "source": [
    "def partition_helper(slice_entries, file_entries, file_curr, entry_curr):\n",
    "    if slice_entries <= file_entries[file_curr] - entry_curr:\n",
    "        return [file_curr, slice_entries + entry_curr]\n",
    "    elif file_curr == len(file_entries) - 1:\n",
    "        return [file_curr, file_entries[-1]]\n",
    "    else:\n",
    "        return partition_helper(slice_entries - file_entries[file_curr] + entry_curr, file_entries, file_curr + 1, 0)\n",
    "\n",
    "def partition(file_entries, n_processes):\n",
    "    slice_entries = math.ceil(sum(file_entries) / n_processes)\n",
    "    slices = []\n",
    "    file_start = 0\n",
    "    entry_start = 0\n",
    "    for i in range(n_processes):\n",
    "        slices.append([file_start, entry_start] + partition_helper(slice_entries, file_entries, file_start, entry_start))\n",
    "        file_start = slices[-1][-2]\n",
    "        entry_start = slices[-1][-1]\n",
    "    return slices"
   ]
  },
  {
   "cell_type": "markdown",
   "id": "45177281",
   "metadata": {},
   "source": [
    "Let's do an example to see how this works. Suppose we want to read the first 5 files in our dataset."
   ]
  },
  {
   "cell_type": "code",
   "execution_count": 17,
   "id": "f7a294ff",
   "metadata": {},
   "outputs": [],
   "source": [
    "path = \"../data/128_files/\"\n",
    "files = [uproot.open(path=path + filename + \":rootuple/CandidateTree\", object_cache=None, array_cache=None) for filename in sorted(os.listdir(path))[:5]]"
   ]
  },
  {
   "cell_type": "markdown",
   "id": "c0da89ef",
   "metadata": {},
   "source": [
    "The number of entries in the files are:"
   ]
  },
  {
   "cell_type": "code",
   "execution_count": 6,
   "id": "2c1e7517",
   "metadata": {},
   "outputs": [
    {
     "name": "stdout",
     "output_type": "stream",
     "text": [
      "3577039\n",
      "3577039\n",
      "3577039\n",
      "3577039\n",
      "3577039\n"
     ]
    }
   ],
   "source": [
    "for file in files:\n",
    "    print(file.num_entries) "
   ]
  },
  {
   "cell_type": "markdown",
   "id": "c1fd53ba",
   "metadata": {},
   "source": [
    "Now we use `partition` to see how we can distribute this to 4 processes."
   ]
  },
  {
   "cell_type": "code",
   "execution_count": 8,
   "id": "424cf91d",
   "metadata": {},
   "outputs": [
    {
     "data": {
      "text/plain": [
       "[[0, 0, 1, 894260],\n",
       " [1, 894260, 2, 1788520],\n",
       " [2, 1788520, 3, 2682780],\n",
       " [3, 2682780, 4, 3577039]]"
      ]
     },
     "execution_count": 8,
     "metadata": {},
     "output_type": "execute_result"
    }
   ],
   "source": [
    "partition([file.num_entries for file in files], 4)"
   ]
  },
  {
   "cell_type": "markdown",
   "id": "919ff750",
   "metadata": {},
   "source": [
    "The 4 subarrays above indicate what the 4 subprocesses will read. For example, the first subarray means the first subprocess will read from the 0th entry of the 0th file to the 894260th entry of the 1st file. We can verify that this is close to our desired distribution."
   ]
  },
  {
   "cell_type": "code",
   "execution_count": 7,
   "id": "788951f6",
   "metadata": {},
   "outputs": [
    {
     "name": "stdout",
     "output_type": "stream",
     "text": [
      "First process will read 4471299 entries.\n",
      "Second process will read 4471299 entries.\n",
      "Third process will read 4471299 entries.\n",
      "Fourth process will read 4471298 entries.\n",
      "Desired number of entries each process will read: 4471298.75.\n"
     ]
    }
   ],
   "source": [
    "print(\"First process will read %d entries.\" % (files[0].num_entries + 894260))\n",
    "print(\"Second process will read %d entries.\" % (files[1].num_entries - 894260 + 1788520))\n",
    "print(\"Third process will read %d entries.\" % (files[2].num_entries - 1788520 + 2682780))\n",
    "print(\"Fourth process will read %d entries.\" % (files[3].num_entries - 2682780 + 3577039))\n",
    "print(\"Desired number of entries each process will read: %.2f.\" % (sum([file.num_entries for file in files]) / 4))"
   ]
  },
  {
   "cell_type": "markdown",
   "id": "79330691",
   "metadata": {},
   "source": [
    "A subprocess can then perform the operations mentioned previously by calling `read_slice`. It takes 4 parameters:\n",
    "- `paths`: a list of paths to the files that will be read. \n",
    "- `slices`: the array returned by `partition`. \n",
    "- `index`: the index of the subprocess.\n",
    "- `result`: a list shared among all subprocesses\n",
    "\n",
    "The function will add the `numpy` arrays containing the mass of the B0s meson to `result`. After the last subprocess finishes, all arrays in `result` will be concatenated together."
   ]
  },
  {
   "cell_type": "code",
   "execution_count": 14,
   "id": "7a5dbf94",
   "metadata": {},
   "outputs": [],
   "source": [
    "def read_slice(paths, slices, index, result):\n",
    "    data_slice = []\n",
    "    for i in range(slices[index][0], slices[index][2] + 1):\n",
    "        with uproot.open(paths[i], object_cache=None, array_cache=None) as file:\n",
    "            data_slice.append(file.arrays(\"candidate_vMass\", \n",
    "                                  \"(candidate_charge == 0)\\\n",
    "                                  & (candidate_cosAlpha > 0.99)\\\n",
    "                                  & (candidate_lxy / candidate_lxyErr > 3.0)\\\n",
    "                                  & (candidate_vProb > 0.05)\\\n",
    "                                  & (ditrack_mass > 1.014) & (ditrack_mass < 1.024)\\\n",
    "                                  & (candidate_vMass > 5.33) & (candidate_vMass < 5.4)\",\n",
    "                                  entry_start=slices[index][1] if i == slices[index][0] else None,\n",
    "                                  entry_stop=slices[index][3] if i == slices[index][2] else None,\n",
    "                                  array_cache=None,\n",
    "                                  library=\"np\")[\"candidate_vMass\"])\n",
    "    result.append(np.concatenate(tuple(data_slice)))"
   ]
  },
  {
   "cell_type": "markdown",
   "id": "58282c02",
   "metadata": {},
   "source": [
    "Finally, `runtime_measure_mp` measures the runtime of **Uproot** using explicit multiprocessing."
   ]
  },
  {
   "cell_type": "code",
   "execution_count": 15,
   "id": "6c67fef3",
   "metadata": {},
   "outputs": [],
   "source": [
    "def runtime_measure_mp(path, n_files, n_processes):\n",
    "    if n_files == 0: return 0\n",
    "    if n_processes == 0: return runtime_measure(path, n_files)\n",
    "    start = time.time()\n",
    "    paths = [path + filename + \":rootuple/CandidateTree\" for filename in sorted(os.listdir(path))[:n_files]]\n",
    "    file_entries = [n[2] for n in uproot.num_entries([p for p in paths])]\n",
    "    slices = partition(file_entries, n_processes)\n",
    "    result = multiprocessing.Manager().list()\n",
    "    processes = []\n",
    "    for i in range(n_processes):\n",
    "        p = multiprocessing.Process(target=read_slice, args=[paths, slices, i, result])\n",
    "        p.start()\n",
    "        processes.append(p)\n",
    "\n",
    "    for p in processes:\n",
    "        p.join()\n",
    "    \n",
    "    np.concatenate(tuple(result))\n",
    "    \n",
    "    return time.time() - start"
   ]
  },
  {
   "cell_type": "code",
   "execution_count": 18,
   "id": "48cea489",
   "metadata": {},
   "outputs": [
    {
     "data": {
      "text/plain": [
       "6.600629091262817"
      ]
     },
     "execution_count": 18,
     "metadata": {},
     "output_type": "execute_result"
    }
   ],
   "source": [
    "runtime_measure_mp(path, 128, 64)"
   ]
  },
  {
   "cell_type": "markdown",
   "id": "ae372645",
   "metadata": {},
   "source": [
    "## Run the measurements multiple times and save the results"
   ]
  },
  {
   "cell_type": "markdown",
   "id": "47b3de78",
   "metadata": {},
   "source": [
    "`runtime_vs_variable` runs one of the `runtime_measure` functions above multiple times with varying number of processes or files, and then saves the result in a csv file. The file can then be used to produce a plot with the variable on the x-axis and runtime on the y-axis.\n",
    "\n",
    "### List of parameters:\n",
    "- `path`: path to the directory containing the ROOT files.\n",
    "- `target_dir`: path to the directory where the resulting csv file will be stored.\n",
    "- `measure_function`: reference to one of the `runtime_measure` functions above.\n",
    "- `variable`: a string indicating the varying parameter. Can have the following values:\n",
    "    - `\"processes\"`: the number of files is constant, while the number of subprocesses varies.\n",
    "    - `\"size\"`: the number of files varies. Implicit multithreading is used without specifying the number of threads.\n",
    "    - `\"size_mp\"`: the number of files varies. Multiprocessing is used with a constant number of subprocesses.\n",
    "- `step`: difference between 2 consective x-values.\n",
    "- `n_loops`: the number of times each measurement is repeated.\n",
    "- `var_max`: the maximum value of the variable (x).\n",
    "- `constant`: the value of the constant. When parallelism is not used, this is not needed adn is set to `None`.\n",
    "\n",
    "### Resulting csv file:\n",
    "The name of the resulting csv files indicates the arguments passed to the function.\n",
    "Examples:\n",
    "- `runtime_vs_processes_128_128_4_20.csv`: the number of **processes** varies, the number of files is constant and equals **128**, the maximum number of processes used is **128**, the number of processes is incremented by **4** each time, and every measurement is repeated **20** times.\n",
    "- `runtime_vs_size_mp_32_128_4_20.csv`: the number of files (**size**) varies, **m**ulti**p**rocessing is used with **32** subprocesses, the maximum number of files read is **128**, the number of files is incremented by **4** each time, and every measurement is repeated **20** times."
   ]
  },
  {
   "cell_type": "code",
   "execution_count": 19,
   "id": "0ee9cb5f",
   "metadata": {},
   "outputs": [],
   "source": [
    "def runtime_vs_variable(path, target_dir, measure_function, variable, step, n_loops, var_max, constant=None):\n",
    "    if not os.path.exists(target_dir):\n",
    "        os.makedirs(target_dir)\n",
    "\n",
    "    result_path = (\"%s/runtime_vs_%s_%d_%d_%d_%d.csv\" % (target_dir, variable, constant, var_max, step, n_loops)) if constant else (\"%s/runtime_vs_%s_%d_%d_%d.csv\" % (target_dir, variable, var_max, step, n_loops))\n",
    "    \n",
    "    x = [a for a in range(0, var_max + step, step)]\n",
    "    \n",
    "    if not os.path.exists(result_path):\n",
    "        with open(result_path, \"w\", newline=\"\") as f:\n",
    "            csv.writer(f).writerow(x)\n",
    "    for n in range(n_loops):\n",
    "        with open(result_path, \"r\") as f:\n",
    "            if sum(1 for row in csv.reader(f)) == n_loops + 1: break\n",
    "        y = [measure_function(*(path, i if \"size\" in variable else constant, constant if \"size\" in variable else i) if constant else (path, i)) for i in range(0, var_max + step, step)]\n",
    "        with open(result_path, \"a\", newline=\"\") as f:\n",
    "            csv.writer(f).writerow(y)"
   ]
  },
  {
   "cell_type": "markdown",
   "id": "1a40b107",
   "metadata": {},
   "source": [
    "## Example"
   ]
  },
  {
   "cell_type": "markdown",
   "id": "13976677",
   "metadata": {},
   "source": [
    "First, let's set the path to the ROOT files and the target directory."
   ]
  },
  {
   "cell_type": "code",
   "execution_count": 21,
   "id": "44f636ad",
   "metadata": {},
   "outputs": [],
   "source": [
    "path = \"../data/128_files/\"\n",
    "target_dir = \"runtime_tests_uproot/128_files/wn-gpu-8-3-22\""
   ]
  },
  {
   "cell_type": "markdown",
   "id": "bf3d2ce6",
   "metadata": {},
   "source": [
    "Now we can run the measurements. This will take a long time, so it's recommended to run the Python file `runtime_measurement_uproot.py` in a screen instead."
   ]
  },
  {
   "cell_type": "code",
   "execution_count": 9,
   "id": "c431b7cf",
   "metadata": {},
   "outputs": [],
   "source": [
    "# runtime_vs_variable(path, target_dir, runtime_measure_mp, \"processes\", 4, 20, 128, 128)\n",
    "# runtime_vs_variable(path, target_dir, runtime_measure_mp, \"size_mp\", 4, 20, 128, 64)\n",
    "# runtime_vs_variable(path, target_dir, runtime_measure_mp, \"size_mp\", 4, 20, 128, 32)\n",
    "# runtime_vs_variable(path, target_dir, runtime_measure, \"size\", 4, 20, 128)\n",
    "# runtime_vs_variable(path, target_dir, runtime_measure_mp, \"processes\", 8, 1, 128, 128)"
   ]
  },
  {
   "cell_type": "markdown",
   "id": "8d02680f",
   "metadata": {},
   "source": [
    "Let's plot the result."
   ]
  },
  {
   "cell_type": "code",
   "execution_count": null,
   "id": "503d12a1",
   "metadata": {},
   "outputs": [],
   "source": [
    "from ipynb.fs.defs.plot import plot"
   ]
  },
  {
   "cell_type": "code",
   "execution_count": null,
   "id": "9acf352f",
   "metadata": {},
   "outputs": [],
   "source": [
    "plot(path,\n",
    "     'Runtime vs Processes',\n",
    "     'Processes',\n",
    "     'Runtime (s)',\n",
    "     \"runtime_tests_uproot/128_files/wn-gpu-8-3-22/runtime_vs_processes_128_128_8_1.csv\",\n",
    "     \"uproot\",\n",
    "     plot_type=\"errorbars\"\n",
    "    )"
   ]
  },
  {
   "cell_type": "code",
   "execution_count": 27,
   "id": "07338b75",
   "metadata": {},
   "outputs": [
    {
     "data": {
      "image/png": "[encoded data removed]",
      "text/plain": [
       "<Figure size 1440x720 with 1 Axes>"
      ]
     },
     "metadata": {
      "needs_background": "light"
     },
     "output_type": "display_data"
    }
   ],
   "source": [
    "plot(path,\n",
    "     'Runtime vs Size (64 Processes)',\n",
    "     'Size (GB)',\n",
    "     'Runtime (s)',\n",
    "     \"runtime_tests_uproot/128_files/wn-gpu-8-3-22/runtime_vs_size_mp_64_128_4_20.csv\",\n",
    "     \"uproot\",\n",
    "     plot_type=\"errorbars\"\n",
    "    )"
   ]
  },
  {
   "cell_type": "markdown",
   "id": "c78c1b35",
   "metadata": {},
   "source": [
    "## Some extra details"
   ]
  },
  {
   "cell_type": "markdown",
   "id": "319c1ba4",
   "metadata": {},
   "source": [
    "The `runtime_measure_mp_detailed` function below do the same thing as `runtime_measure_mp`, but it prints out the total runtime, the time it takes to open all the files using **Uproot**, and the runtime of each subprocess."
   ]
  },
  {
   "cell_type": "code",
   "execution_count": 10,
   "id": "cc88fff9",
   "metadata": {},
   "outputs": [],
   "source": [
    "def read_slice_detailed(paths, slices, index, data, process_runtimes):\n",
    "    key = \"P%d\" % (index)\n",
    "    start_time = time.time()\n",
    "    data_slice = []\n",
    "    for i in range(slices[index][0], slices[index][2] + 1):\n",
    "        with uproot.open(paths[i], object_cache=None, array_cache=None) as file:\n",
    "            data_slice.append(file.arrays(\"candidate_vMass\", \n",
    "                                  \"(candidate_charge == 0)\\\n",
    "                                  & (candidate_cosAlpha > 0.99)\\\n",
    "                                  & (candidate_lxy / candidate_lxyErr > 3.0)\\\n",
    "                                  & (candidate_vProb > 0.05)\\\n",
    "                                  & (ditrack_mass > 1.014) & (ditrack_mass < 1.024)\\\n",
    "                                  & (candidate_vMass > 5.33) & (candidate_vMass < 5.4)\",\n",
    "                                  entry_start=slices[index][1] if i == slices[index][0] else None,\n",
    "                                  entry_stop=slices[index][3] if i == slices[index][2] else None,\n",
    "                                  array_cache=None,\n",
    "                                  library=\"np\")[\"candidate_vMass\"])\n",
    "    data.append(np.concatenate(tuple(data_slice)))\n",
    "    runtime = time.time() - start_time\n",
    "    \n",
    "    process_runtimes[key] = runtime"
   ]
  },
  {
   "cell_type": "code",
   "execution_count": 25,
   "id": "390e92f7",
   "metadata": {},
   "outputs": [],
   "source": [
    "def runtime_measure_mp_detailed(path, n_files, n_processes):\n",
    "    start_time = time.time()\n",
    "    \n",
    "    start_time2 = time.time()        \n",
    "    \n",
    "    paths = [path + filename + \":rootuple/CandidateTree\" for filename in sorted(os.listdir(path))[:n_files]]\n",
    "    file_entries = [n[2] for n in uproot.num_entries([p for p in paths])]\n",
    "    slices = partition(file_entries, n_processes)\n",
    "    processes = []\n",
    "    data = multiprocessing.Manager().list()\n",
    "    process_runtimes = multiprocessing.Manager().dict()\n",
    "    \n",
    "    runtime2 = time.time() - start_time2\n",
    "    \n",
    "    for i in range(n_processes):\n",
    "        p = multiprocessing.Process(target=read_slice_detailed, args=[paths, slices, i, data, process_runtimes])\n",
    "        p.start()\n",
    "        processes.append(p)\n",
    "      \n",
    "    for p in processes:\n",
    "        p.join()\n",
    "        p.close()\n",
    "        \n",
    "    np.concatenate(tuple(data))\n",
    "    \n",
    "    runtime = time.time() - start_time\n",
    "    \n",
    "    return runtime, runtime2, dict(process_runtimes)"
   ]
  },
  {
   "cell_type": "code",
   "execution_count": 27,
   "id": "10830eea",
   "metadata": {},
   "outputs": [
    {
     "data": {
      "text/plain": [
       "(4.89504075050354,\n",
       " 0.0980837345123291,\n",
       " {'P0': 2.693713903427124,\n",
       "  'P63': 2.943613052368164,\n",
       "  'P14': 3.5450360774993896,\n",
       "  'P11': 3.637692451477051,\n",
       "  'P8': 3.65533447265625,\n",
       "  'P3': 3.67421555519104,\n",
       "  'P7': 3.662386178970337,\n",
       "  'P4': 3.6829617023468018,\n",
       "  'P2': 3.6938886642456055,\n",
       "  'P9': 3.7585947513580322,\n",
       "  'P12': 3.77144718170166,\n",
       "  'P15': 3.7633347511291504,\n",
       "  'P13': 3.791041374206543,\n",
       "  'P1': 3.850189685821533,\n",
       "  'P6': 3.8434884548187256,\n",
       "  'P10': 3.8536505699157715,\n",
       "  'P5': 3.8957087993621826,\n",
       "  'P26': 3.984619379043579,\n",
       "  'P45': 3.9829318523406982,\n",
       "  'P55': 3.905766487121582,\n",
       "  'P25': 4.117630958557129,\n",
       "  'P39': 4.050380706787109,\n",
       "  'P43': 4.03571081161499,\n",
       "  'P47': 4.016438245773315,\n",
       "  'P33': 4.098776578903198,\n",
       "  'P61': 3.9479851722717285,\n",
       "  'P28': 4.156238555908203,\n",
       "  'P62': 3.9675185680389404,\n",
       "  'P35': 4.157055854797363,\n",
       "  'P31': 4.186197280883789,\n",
       "  'P23': 4.229789733886719,\n",
       "  'P51': 4.087503910064697,\n",
       "  'P56': 4.061591386795044,\n",
       "  'P44': 4.178409576416016,\n",
       "  'P36': 4.238752841949463,\n",
       "  'P29': 4.280698776245117,\n",
       "  'P38': 4.239518404006958,\n",
       "  'P24': 4.307537794113159,\n",
       "  'P41': 4.225321292877197,\n",
       "  'P30': 4.2826714515686035,\n",
       "  'P37': 4.251385688781738,\n",
       "  'P32': 4.277836084365845,\n",
       "  'P50': 4.169059753417969,\n",
       "  'P40': 4.240614414215088,\n",
       "  'P52': 4.155770778656006,\n",
       "  'P21': 4.3380608558654785,\n",
       "  'P27': 4.316181659698486,\n",
       "  'P20': 4.35387659072876,\n",
       "  'P60': 4.136927604675293,\n",
       "  'P42': 4.263815402984619,\n",
       "  'P48': 4.229189157485962,\n",
       "  'P46': 4.26418662071228,\n",
       "  'P49': 4.326069593429565,\n",
       "  'P53': 4.295907735824585,\n",
       "  'P17': 4.499940633773804,\n",
       "  'P34': 4.42048978805542,\n",
       "  'P59': 4.263129234313965,\n",
       "  'P57': 4.276706695556641,\n",
       "  'P54': 4.299129486083984,\n",
       "  'P22': 4.487247467041016,\n",
       "  'P18': 4.513506174087524,\n",
       "  'P58': 4.300826549530029,\n",
       "  'P19': 4.536178112030029,\n",
       "  'P16': 4.699481010437012})"
      ]
     },
     "execution_count": 27,
     "metadata": {},
     "output_type": "execute_result"
    }
   ],
   "source": [
    "runtime_measure_mp_detailed(path, 128, 64)"
   ]
  },
  {
   "cell_type": "code",
   "execution_count": null,
   "id": "0bd5055a",
   "metadata": {},
   "outputs": [],
   "source": []
  },
  {
   "cell_type": "code",
   "execution_count": null,
   "id": "d2d8cd65",
   "metadata": {},
   "outputs": [],
   "source": []
  }
 ],
 "metadata": {
  "kernelspec": {
   "display_name": "Python 3 (ipykernel)",
   "language": "python",
   "name": "python3"
  },
  "language_info": {
   "codemirror_mode": {
    "name": "ipython",
    "version": 3
   },
   "file_extension": ".py",
   "mimetype": "text/x-python",
   "name": "python",
   "nbconvert_exporter": "python",
   "pygments_lexer": "ipython3",
   "version": "3.9.13"
  }
 },
 "nbformat": 4,
 "nbformat_minor": 5
}
