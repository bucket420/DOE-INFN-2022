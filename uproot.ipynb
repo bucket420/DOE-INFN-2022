{
 "cells": [
  {
   "cell_type": "code",
   "execution_count": 1,
   "metadata": {},
   "outputs": [],
   "source": [
    "import uproot\n",
    "import pandas as pd\n",
    "import matplotlib.pyplot as plt"
   ]
  },
  {
   "cell_type": "code",
   "execution_count": 2,
   "metadata": {},
   "outputs": [
    {
     "name": "stdout",
     "output_type": "stream",
     "text": [
      "{'rootuple;1': 'TDirectory', 'rootuple/CandidateTree;1': 'TTree', 'rootuple/UpsTree;1': 'TTree'}\n"
     ]
    }
   ],
   "source": [
    "file = uproot.open(\"/lustre/cms/store/user/adiflori/jpsikk_DataRunII_UltraLegacy_miniAODv2_v1_m4To6/Charmonium/crab_Charmonium_Run2018D-UL2018_MiniAODv2-v1_MINIAOD__1SKK_20220512_114449/220512_094551/0000/rootuple.root\")\n",
    "print(file.classnames())"
   ]
  },
  {
   "cell_type": "code",
   "execution_count": 3,
   "metadata": {},
   "outputs": [
    {
     "name": "stdout",
     "output_type": "stream",
     "text": [
      "The history saving thread hit an unexpected error (OperationalError('database is locked')).History will not be written to the database.\n"
     ]
    }
   ],
   "source": [
    "#file[\"rootuple\"][\"CandidateTree\"].arrays(library=\"pd\").to_hdf(\"raw/data.h5\", key=\"candidate\")\n",
    "#file[\"rootuple\"][\"UpsTree\"].arrays(library=\"pd\").to_hdf(\"raw/data.h5\", key=\"ups\")"
   ]
  },
  {
   "cell_type": "code",
   "execution_count": 4,
   "metadata": {},
   "outputs": [],
   "source": [
    "ups_data = pd.read_hdf(\"raw/data.h5\", key=\"ups\")\n",
    "candidate_data = pd.read_hdf(\"raw/data.h5\", key=\"candidate\")"
   ]
  },
  {
   "cell_type": "code",
   "execution_count": 5,
   "metadata": {},
   "outputs": [
    {
     "name": "stdout",
     "output_type": "stream",
     "text": [
      "name                 | typename                 | interpretation                \n",
      "---------------------+--------------------------+-------------------------------\n",
      "run                  | int32_t                  | AsDtype('>i4')\n",
      "event                | int32_t                  | AsDtype('>i4')\n",
      "nCandPerEvent        | int32_t                  | AsDtype('>i4')\n",
      "numPrimaryVertices   | int32_t                  | AsDtype('>i4')\n",
      "trigger              | int32_t                  | AsDtype('>i4')\n",
      "candidate_p4         | TLorentzVector           | AsStridedObjects(Model_TLor...\n",
      "track1_p4            | TLorentzVector           | AsStridedObjects(Model_TLor...\n",
      "track2_p4            | TLorentzVector           | AsStridedObjects(Model_TLor...\n",
      "ditrack_p4           | TLorentzVector           | AsStridedObjects(Model_TLor...\n",
      "dimuon_p4            | TLorentzVector           | AsStridedObjects(Model_TLor...\n",
      "muonp_p4             | TLorentzVector           | AsStridedObjects(Model_TLor...\n",
      "muonn_p4             | TLorentzVector           | AsStridedObjects(Model_TLor...\n",
      "invm1Skk             | double                   | AsDtype('>f8')\n",
      "invm2Skk             | double                   | AsDtype('>f8')\n",
      "iPVwithmuons         | int32_t                  | AsDtype('>i4')\n",
      "dimuon_vertexWeight  | int32_t                  | AsDtype('>i4')\n",
      "dimuon_vProb         | double                   | AsDtype('>f8')\n",
      "dimuon_vNChi2        | double                   | AsDtype('>f8')\n",
      "dimuon_DCA           | double                   | AsDtype('>f8')\n",
      "dimuon_ctauPV        | double                   | AsDtype('>f8')\n",
      "dimuon_ctauErrPV     | double                   | AsDtype('>f8')\n",
      "dimuon_cosAlpha      | double                   | AsDtype('>f8')\n",
      "dimuon_nSigma        | double                   | AsDtype('>f8')\n",
      "candidate_vMass      | double                   | AsDtype('>f8')\n",
      "candidate_vProb      | double                   | AsDtype('>f8')\n",
      "candidate_vChi2      | double                   | AsDtype('>f8')\n",
      "candidate_cosAlpha   | double                   | AsDtype('>f8')\n",
      "candidate_ctauPV     | double                   | AsDtype('>f8')\n",
      "candidate_ctauErrPV  | double                   | AsDtype('>f8')\n",
      "candidate_charge     | int32_t                  | AsDtype('>i4')\n",
      "candidate_lxy        | double                   | AsDtype('>f8')\n",
      "candidate_lxyErr     | double                   | AsDtype('>f8')\n",
      "candidate_lxyz       | double                   | AsDtype('>f8')\n",
      "candidate_lxyzErr    | double                   | AsDtype('>f8')\n",
      "ditrack_mass         | double                   | AsDtype('>f8')\n",
      "thePrimaryV_X        | double                   | AsDtype('>f8')\n",
      "thePrimaryV_Y        | double                   | AsDtype('>f8')\n",
      "thePrimaryV_Z        | double                   | AsDtype('>f8')\n",
      "TheDecayVertex_X     | double                   | AsDtype('>f8')\n",
      "TheDecayVertex_Y     | double                   | AsDtype('>f8')\n",
      "TheDecayVertex_Z     | double                   | AsDtype('>f8')\n",
      "thePrimaryV_2D_po... | double                   | AsDtype('>f8')\n",
      "thePrimaryV_3D_po... | double                   | AsDtype('>f8')\n",
      "TheDecayVertex_2D... | double                   | AsDtype('>f8')\n",
      "TheDecayVertex_3D... | double                   | AsDtype('>f8')\n",
      "TheVertexDistance_2D | double                   | AsDtype('>f8')\n",
      "TheVertexDistance_3D | double                   | AsDtype('>f8')\n",
      "track1_d0            | double                   | AsDtype('>f8')\n",
      "track1_d0Err         | double                   | AsDtype('>f8')\n",
      "track1_dz            | double                   | AsDtype('>f8')\n",
      "track1_dzErr         | double                   | AsDtype('>f8')\n",
      "track1_dxy           | double                   | AsDtype('>f8')\n",
      "track1_dxyErr        | double                   | AsDtype('>f8')\n",
      "track1_nvsh          | int32_t                  | AsDtype('>i4')\n",
      "track1_nvph          | int32_t                  | AsDtype('>i4')\n",
      "track1_dRdimuon      | double                   | AsDtype('>f8')\n",
      "track1_charge        | double                   | AsDtype('>f8')\n",
      "track1_PV            | int32_t                  | AsDtype('>i4')\n",
      "track1_refVtx        | int32_t                  | AsDtype('>i4')\n",
      "track1_pvAssocQ      | int32_t                  | AsDtype('>i4')\n",
      "track1_dzAssocPV     | double                   | AsDtype('>f8')\n",
      "track2_d0            | double                   | AsDtype('>f8')\n",
      "track2_d0Err         | double                   | AsDtype('>f8')\n",
      "track2_dz            | double                   | AsDtype('>f8')\n",
      "track2_dzErr         | double                   | AsDtype('>f8')\n",
      "track2_dxy           | double                   | AsDtype('>f8')\n",
      "track2_dxyErr        | double                   | AsDtype('>f8')\n",
      "track2_nvsh          | int32_t                  | AsDtype('>i4')\n",
      "track2_nvph          | int32_t                  | AsDtype('>i4')\n",
      "track2_dRdimuon      | double                   | AsDtype('>f8')\n",
      "track2_charge        | double                   | AsDtype('>f8')\n",
      "track2_PV            | int32_t                  | AsDtype('>i4')\n",
      "track2_refVtx        | int32_t                  | AsDtype('>i4')\n",
      "track2_pvAssocQ      | int32_t                  | AsDtype('>i4')\n",
      "track2_dzAssocPV     | double                   | AsDtype('>f8')\n",
      "ditrack_dRdimuon     | double                   | AsDtype('>f8')\n",
      "track1_SQopQop       | double                   | AsDtype('>f8')\n",
      "track1_SQopLam       | double                   | AsDtype('>f8')\n",
      "track1_SQopPhi       | double                   | AsDtype('>f8')\n",
      "track1_SQopDxy       | double                   | AsDtype('>f8')\n",
      "track1_SQopDsz       | double                   | AsDtype('>f8')\n",
      "track1_SLamLam       | double                   | AsDtype('>f8')\n",
      "track1_SLamPhi       | double                   | AsDtype('>f8')\n",
      "track1_SLamDxy       | double                   | AsDtype('>f8')\n",
      "track1_SLamDsz       | double                   | AsDtype('>f8')\n",
      "track1_SPhiPhi       | double                   | AsDtype('>f8')\n",
      "track1_SPhiDxy       | double                   | AsDtype('>f8')\n",
      "track1_SPhiDsz       | double                   | AsDtype('>f8')\n",
      "track1_SDxyDxy       | double                   | AsDtype('>f8')\n",
      "track1_SDxyDsz       | double                   | AsDtype('>f8')\n",
      "track1_SDszDsz       | double                   | AsDtype('>f8')\n",
      "track2_SQopQop       | double                   | AsDtype('>f8')\n",
      "track2_SQopLam       | double                   | AsDtype('>f8')\n",
      "track2_SQopPhi       | double                   | AsDtype('>f8')\n",
      "track2_SQopDxy       | double                   | AsDtype('>f8')\n",
      "track2_SQopDsz       | double                   | AsDtype('>f8')\n",
      "track2_SLamLam       | double                   | AsDtype('>f8')\n",
      "track2_SLamPhi       | double                   | AsDtype('>f8')\n",
      "track2_SLamDxy       | double                   | AsDtype('>f8')\n",
      "track2_SLamDsz       | double                   | AsDtype('>f8')\n",
      "track2_SPhiPhi       | double                   | AsDtype('>f8')\n",
      "track2_SPhiDxy       | double                   | AsDtype('>f8')\n",
      "track2_SPhiDsz       | double                   | AsDtype('>f8')\n",
      "track2_SDxyDxy       | double                   | AsDtype('>f8')\n",
      "track2_SDxyDsz       | double                   | AsDtype('>f8')\n",
      "track2_SDszDsz       | double                   | AsDtype('>f8')\n",
      "vChi2KalmanKK        | double                   | AsDtype('>f8')\n",
      "vNDFKalmanKK         | double                   | AsDtype('>f8')\n",
      "vProbKalmanKK        | double                   | AsDtype('>f8')\n",
      "vChi2KinematicKK     | double                   | AsDtype('>f8')\n",
      "vNDFKinematicKK      | double                   | AsDtype('>f8')\n",
      "vProbKinematicKK     | double                   | AsDtype('>f8')\n",
      "track1_minEigen      | double                   | AsDtype('>f8')\n",
      "track2_minEigen      | double                   | AsDtype('>f8')\n"
     ]
    }
   ],
   "source": [
    "file[\"rootuple\"][\"CandidateTree\"].show()"
   ]
  },
  {
   "cell_type": "code",
   "execution_count": 6,
   "metadata": {},
   "outputs": [],
   "source": [
    "cut = (candidate_data['candidate_charge'] == 0)\\\n",
    "    & (abs(candidate_data['candidate_cosAlpha']) > 0.99)\\\n",
    "    & (candidate_data['candidate_lxy'] / candidate_data['candidate_lxyErr'] > 3.0)\\\n",
    "    & (candidate_data['candidate_vProb'] > 0.05)\\\n",
    "    & (candidate_data['ditrack_mass'] > 1.014) & (candidate_data['ditrack_mass'] < 1.024)"
   ]
  },
  {
   "cell_type": "code",
   "execution_count": 7,
   "metadata": {},
   "outputs": [
    {
     "data": {
      "text/plain": [
       "<AxesSubplot:>"
      ]
     },
     "execution_count": 7,
     "metadata": {},
     "output_type": "execute_result"
    },
    {
     "data": {
      "image/png": "[encoded data removed]",
      "text/plain": [
       "<Figure size 1080x360 with 1 Axes>"
      ]
     },
     "metadata": {
      "needs_background": "light"
     },
     "output_type": "display_data"
    }
   ],
   "source": [
    "candidate_data[cut]['candidate_vMass'].hist(bins=200, figsize=(15, 5), range=(5.25, 5.5))\n",
    "#candidate_data[-cut]['candidate_vMass'].hist(bins=200, figsize=(15, 5), histtype=\"step\", range=(5.25, 5.5))"
   ]
  },
  {
   "cell_type": "code",
   "execution_count": 8,
   "metadata": {},
   "outputs": [],
   "source": [
    "#candidate_data[cut]['candidate_vMass'].plot(kind='kde', figsize=(15, 5))\n"
   ]
  },
  {
   "cell_type": "code",
   "execution_count": 9,
   "metadata": {},
   "outputs": [
    {
     "data": {
      "text/plain": [
       "<AxesSubplot:>"
      ]
     },
     "execution_count": 9,
     "metadata": {},
     "output_type": "execute_result"
    },
    {
     "data": {
      "image/png": "[encoded data removed]",
      "text/plain": [
       "<Figure size 1080x360 with 1 Axes>"
      ]
     },
     "metadata": {
      "needs_background": "light"
     },
     "output_type": "display_data"
    }
   ],
   "source": [
    "candidate_data[cut]['ditrack_mass'].hist(bins=200, figsize=(15, 5))\n",
    "#candidate_data[-cut]['ditrack_mass'].hist(bins=200, figsize=(15, 5), histtype=\"step\")"
   ]
  },
  {
   "cell_type": "code",
   "execution_count": null,
   "metadata": {},
   "outputs": [],
   "source": []
  },
  {
   "cell_type": "code",
   "execution_count": null,
   "metadata": {},
   "outputs": [],
   "source": []
  }
 ],
 "metadata": {
  "kernelspec": {
   "display_name": "Python 3",
   "language": "python",
   "name": "python3"
  },
  "language_info": {
   "codemirror_mode": {
    "name": "ipython",
    "version": 3
   },
   "file_extension": ".py",
   "mimetype": "text/x-python",
   "name": "python",
   "nbconvert_exporter": "python",
   "pygments_lexer": "ipython3",
   "version": "3.8.2"
  }
 },
 "nbformat": 4,
 "nbformat_minor": 5
}
