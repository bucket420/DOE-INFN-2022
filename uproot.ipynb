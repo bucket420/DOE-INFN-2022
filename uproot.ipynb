{
 "cells": [
  {
   "cell_type": "code",
   "execution_count": null,
   "id": "f1abf57f",
   "metadata": {},
   "outputs": [],
   "source": [
    "import uproot\n",
    "import matplotlib.pyplot as plt\n",
    "import numpy as np\n",
    "import os\n",
    "import time\n",
    "import multiprocessing\n",
    "import math\n",
    "import csv\n",
    "import pandas as pd\n",
    "import scipy\n",
    "import tensorflow as tf\n",
    "import zfit"
   ]
  },
  {
   "cell_type": "code",
   "execution_count": null,
   "id": "1c97d91b",
   "metadata": {},
   "outputs": [],
   "source": [
    "def partition_helper(slice_entries, file_entries, file_curr, entry_curr):\n",
    "    if slice_entries <= file_entries[file_curr] - entry_curr:\n",
    "        return [file_curr, slice_entries + entry_curr]\n",
    "    elif file_curr == len(file_entries) - 1:\n",
    "        return [file_curr, file_entries[-1]]\n",
    "    else:\n",
    "        return partition_helper(slice_entries - file_entries[file_curr] + entry_curr, file_entries, file_curr + 1, 0)\n",
    "\n",
    "def partition(files, n_processes):\n",
    "    file_entries = [file.num_entries for file in files]\n",
    "    slice_entries = math.ceil(sum(file_entries) / n_processes)\n",
    "    slices = []\n",
    "    file_start = 0\n",
    "    entry_start = 0\n",
    "    for i in range(n_processes):\n",
    "        slices.append([file_start, entry_start] + partition_helper(slice_entries, file_entries, file_start, entry_start))\n",
    "        file_start = slices[-1][-2]\n",
    "        entry_start = slices[-1][-1]\n",
    "    return slices\n",
    "\n",
    "def read_slice(files, slices, index, expressions, cut, data):\n",
    "    data_slice = []\n",
    "    for i in range(slices[index][0], slices[index][2] + 1):\n",
    "        data_slice.append(files[i].arrays(expressions=expressions, \n",
    "                              cut=cut,\n",
    "                              entry_start=slices[index][1] if i == slices[index][0] else None,\n",
    "                              entry_stop=slices[index][3] if i == slices[index][2] else None,\n",
    "                              library=\"pd\"))\n",
    "    data.append(pd.concat(data_slice))\n",
    "\n",
    "def to_pandas(path, tree, n_files, n_processes, expressions, cut=None):\n",
    "    files = [uproot.open(path=path + filename + \":\" + tree) for filename in sorted(os.listdir(path))[:n_files]]\n",
    "    slices = partition(files, n_processes)\n",
    "    data = multiprocessing.Manager().list()\n",
    "    processes = []\n",
    "    for i in range(n_processes):\n",
    "        p = multiprocessing.Process(target=read_slice, args=[files, slices, i, expressions, cut, data])\n",
    "        p.start()\n",
    "        processes.append(p)\n",
    "\n",
    "    for p in processes:\n",
    "        p.join()\n",
    "    \n",
    "    return pd.concat(data)"
   ]
  },
  {
   "cell_type": "code",
   "execution_count": null,
   "id": "97b213db",
   "metadata": {},
   "outputs": [],
   "source": [
    "path = \"../data/128_files/\""
   ]
  },
  {
   "cell_type": "code",
   "execution_count": null,
   "id": "ab650f78",
   "metadata": {},
   "outputs": [],
   "source": [
    "start = time.time()\n",
    "data = to_pandas(path, \"rootuple/CandidateTree\", 128, 32, \n",
    "                \"candidate_vMass\",\n",
    "                \"(candidate_charge == 0)\\\n",
    "                & (candidate_cosAlpha > 0.99)\\\n",
    "                & (candidate_lxy / candidate_lxyErr > 3.0)\\\n",
    "                & (candidate_vProb > 0.05)\\\n",
    "                & (ditrack_mass > 1.014) & (ditrack_mass < 1.024)\\\n",
    "                & (candidate_vMass > 5.33) & (candidate_vMass < 5.4)\")\n",
    "time.time() - start"
   ]
  },
  {
   "cell_type": "code",
   "execution_count": null,
   "id": "bbdbad96",
   "metadata": {},
   "outputs": [],
   "source": [
    "plt.figure(figsize=(15, 5))\n",
    "plt.hist(data[\"candidate_vMass\"], bins=200)\n",
    "plt.show()"
   ]
  },
  {
   "cell_type": "code",
   "execution_count": null,
   "id": "9aaca678",
   "metadata": {},
   "outputs": [],
   "source": [
    "# def parameter(name, value, lower=None, upper=None):\n",
    "#     try:\n",
    "        "
   ]
  },
  {
   "cell_type": "code",
   "execution_count": null,
   "id": "4ad663d2",
   "metadata": {},
   "outputs": [],
   "source": []
  },
  {
   "cell_type": "code",
   "execution_count": null,
   "id": "04ec8445",
   "metadata": {},
   "outputs": [],
   "source": [
    "mu = zfit.Parameter(\"mu\", 5.36, 5.2, 5.4)\n",
    "sigma = zfit.Parameter(\"sigma\", 0.1, 0.01, 0.2)\n",
    "frac = zfit.Parameter(\"frac_gauss\", 0.5, 0, 1)"
   ]
  },
  {
   "cell_type": "code",
   "execution_count": null,
   "id": "b173f9d9",
   "metadata": {},
   "outputs": [],
   "source": [
    "a0 = zfit.Parameter(\"a0\", 0.5, 0.0, 1.0)\n",
    "a1 = zfit.Parameter(\"a1\", 0.2, 0.0, 1.0)"
   ]
  },
  {
   "cell_type": "code",
   "execution_count": null,
   "id": "f5c5eb66",
   "metadata": {},
   "outputs": [],
   "source": [
    "mu.lower = 5.33\n",
    "mu.upper = 5.40\n",
    "mu.set_value(5.366)\n",
    "\n",
    "sigma.lower = 0.001\n",
    "sigma.upper = 0.2\n",
    "sigma.set_value(0.1)\n",
    "\n",
    "a0.lower = 0.0\n",
    "a0.upper = 1.0\n",
    "a0.set_value(0.1)\n",
    "\n",
    "a1.lower = -1\n",
    "a1.upper = 1.0\n",
    "a1.set_value(-0.2)\n",
    "\n",
    "frac.lower = 0.0\n",
    "frac.upper = 1.0\n",
    "frac.set_value(0.5)"
   ]
  },
  {
   "cell_type": "code",
   "execution_count": null,
   "id": "c5c8cc26",
   "metadata": {},
   "outputs": [],
   "source": [
    "mass = zfit.Space('candidate_vMass', limits=(5.33, 5.4))\n",
    "gauss = zfit.pdf.Gauss(obs=mass, mu=mu, sigma=sigma)\n",
    "chebyshev = zfit.pdf.Chebyshev(obs=mass, coeffs=[a0, a1])"
   ]
  },
  {
   "cell_type": "code",
   "execution_count": null,
   "id": "a1c3f038",
   "metadata": {},
   "outputs": [],
   "source": [
    "model = zfit.pdf.SumPDF([gauss, chebyshev], frac)"
   ]
  },
  {
   "cell_type": "code",
   "execution_count": null,
   "id": "2f8475d4",
   "metadata": {},
   "outputs": [],
   "source": [
    "nll = zfit.loss.UnbinnedNLL(model=model, data=zfit.Data.from_pandas(data))  # loss\n",
    "\n",
    "# Load and instantiate a minimizer\n",
    "minimizer = zfit.minimize.Minuit()\n",
    "minimum = minimizer.minimize(loss=nll)\n",
    "\n",
    "\n",
    "print(minimum)"
   ]
  },
  {
   "cell_type": "code",
   "execution_count": null,
   "id": "fa8c68f6",
   "metadata": {},
   "outputs": [],
   "source": [
    "mass_range = (5.33, 5.4)\n",
    "n_bins = 200\n",
    "\n",
    "plt.figure(figsize=(15, 5))\n",
    "plt.hist(data[\"candidate_vMass\"], bins=n_bins)\n",
    "\n",
    "mass = np.linspace(*range, num=1000)\n",
    "pdf_fit = zfit.run(model.pdf(mass))\n",
    "scale = len(data[\"candidate_vMass\"]) / n_bins * (range[1] - range[0]) * pdf_fit\n",
    "\n",
    "plt.plot(mass, scale)"
   ]
  },
  {
   "cell_type": "code",
   "execution_count": null,
   "id": "e55beff4",
   "metadata": {},
   "outputs": [],
   "source": []
  },
  {
   "cell_type": "code",
   "execution_count": null,
   "id": "2853ea09",
   "metadata": {},
   "outputs": [],
   "source": []
  }
 ],
 "metadata": {
  "kernelspec": {
   "display_name": "Python 3 (ipykernel)",
   "language": "python",
   "name": "python3"
  },
  "language_info": {
   "codemirror_mode": {
    "name": "ipython",
    "version": 3
   },
   "file_extension": ".py",
   "mimetype": "text/x-python",
   "name": "python",
   "nbconvert_exporter": "python",
   "pygments_lexer": "ipython3",
   "version": "3.9.13"
  }
 },
 "nbformat": 4,
 "nbformat_minor": 5
}
