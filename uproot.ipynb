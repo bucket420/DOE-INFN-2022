{
 "cells": [
  {
   "cell_type": "code",
   "execution_count": 4,
   "id": "d0ff2015",
   "metadata": {},
   "outputs": [],
   "source": [
    "import uproot\n",
    "import pandas as pd\n",
    "import matplotlib.pyplot as plt\n",
    "import numpy as np\n",
    "import os\n",
    "import time"
   ]
  },
  {
   "cell_type": "code",
   "execution_count": 7,
   "id": "c1d14858",
   "metadata": {},
   "outputs": [
    {
     "name": "stdout",
     "output_type": "stream",
     "text": [
      "{'rootuple;1': 'TDirectory', 'rootuple/CandidateTree;1': 'TTree', 'rootuple/UpsTree;1': 'TTree'}\n"
     ]
    },
    {
     "data": {
      "text/plain": [
       "1.4288340201601386"
      ]
     },
     "execution_count": 7,
     "metadata": {},
     "output_type": "execute_result"
    }
   ],
   "source": [
    "file = uproot.open(path=\"/lustre/cms/store/user/adiflori/jpsikk_DataRunII_UltraLegacy_miniAODv2_v1_m4To6/Charmonium/crab_Charmonium_Run2018D-UL2018_MiniAODv2-v1_MINIAOD__1SKK_20220512_114449/220512_094551/0000/rootuple.root\")\n",
    "print(file.classnames())\n",
    "os.path.getsize(\"/lustre/cms/store/user/adiflori/jpsikk_DataRunII_UltraLegacy_miniAODv2_v1_m4To6/Charmonium/crab_Charmonium_Run2018D-UL2018_MiniAODv2-v1_MINIAOD__1SKK_20220512_114449/220512_094551/0000/rootuple.root\") / 2**30"
   ]
  },
  {
   "cell_type": "code",
   "execution_count": 12,
   "id": "0cba80db",
   "metadata": {},
   "outputs": [
    {
     "data": {
      "text/plain": [
       "1.6332695484161377"
      ]
     },
     "execution_count": 12,
     "metadata": {},
     "output_type": "execute_result"
    }
   ],
   "source": [
    "start_time = time.time()\n",
    "data = file[\"rootuple\"][\"CandidateTree\"].arrays(\n",
    "    [\"candidate_charge\", \"candidate_cosAlpha\", \"candidate_lxy\", \"candidate_lxyErr\", \"candidate_vProb\", \"ditrack_mass\", \"candidate_vMass\"], \n",
    "    library=\"np\",\n",
    ")\n",
    "time.time() - start_time"
   ]
  },
  {
   "cell_type": "code",
   "execution_count": 18,
   "id": "ea6303a7",
   "metadata": {},
   "outputs": [
    {
     "data": {
      "text/plain": [
       "{'candidate_charge': array([ 0,  2, -2, ..., -2,  2,  0], dtype=int32),\n",
       " 'candidate_cosAlpha': array([ 0.99958491,  0.99920046, -0.45697042, ..., -0.27336007,\n",
       "         0.98827177,  0.99999809]),\n",
       " 'candidate_lxy': array([0.14828931, 0.12896161, 0.00205554, ..., 0.01309498, 0.01197009,\n",
       "        0.08299624]),\n",
       " 'candidate_lxyErr': array([0.01104137, 0.01085308, 0.00403024, ..., 0.00317806, 0.00643969,\n",
       "        0.00626239]),\n",
       " 'candidate_vProb': array([2.83941418e-01, 3.11477488e-05, 1.39193043e-01, ...,\n",
       "        0.00000000e+00, 0.00000000e+00, 0.00000000e+00]),\n",
       " 'ditrack_mass': array([1.03657763, 1.03341069, 1.01429184, ..., 1.04203303, 1.02181807,\n",
       "        1.02441725]),\n",
       " 'candidate_vMass': array([4.19217682, 4.22157955, 4.40745735, ..., 5.80941629, 5.12995481,\n",
       "        5.29369688])}"
      ]
     },
     "execution_count": 18,
     "metadata": {},
     "output_type": "execute_result"
    }
   ],
   "source": [
    "candidate_data"
   ]
  },
  {
   "cell_type": "code",
   "execution_count": 3,
   "id": "5ce763d0",
   "metadata": {},
   "outputs": [],
   "source": [
    "#file[\"rootuple\"][\"CandidateTree\"].arrays(library=\"pd\").to_hdf(\"raw/data.h5\", key=\"candidate\")\n",
    "#file[\"rootuple\"][\"UpsTree\"].arrays(library=\"pd\").to_hdf(\"raw/data.h5\", key=\"ups\")"
   ]
  },
  {
   "cell_type": "code",
   "execution_count": 4,
   "id": "b298c248",
   "metadata": {},
   "outputs": [],
   "source": [
    "# ups_data = pd.read_hdf(\"raw/data.h5\", key=\"ups\")\n",
    "# candidate_data = pd.read_hdf(\"raw/data.h5\", key=\"candidate\")"
   ]
  },
  {
   "cell_type": "code",
   "execution_count": 9,
   "id": "c94dfc38",
   "metadata": {},
   "outputs": [
    {
     "name": "stderr",
     "output_type": "stream",
     "text": [
      "\n",
      "KeyboardInterrupt\n",
      "\n"
     ]
    }
   ],
   "source": [
    "candidate_data = file[\"rootuple\"][\"CandidateTree\"]['candidate_vMass'].arrays(library=\"pd\")\n",
    "candidate_data"
   ]
  },
  {
   "cell_type": "code",
   "execution_count": 6,
   "id": "3b068ac6",
   "metadata": {},
   "outputs": [
    {
     "name": "stdout",
     "output_type": "stream",
     "text": [
      "name                 | typename                 | interpretation                \n",
      "---------------------+--------------------------+-------------------------------\n",
      "run                  | int32_t                  | AsDtype('>i4')\n",
      "event                | int32_t                  | AsDtype('>i4')\n",
      "nCandPerEvent        | int32_t                  | AsDtype('>i4')\n",
      "numPrimaryVertices   | int32_t                  | AsDtype('>i4')\n",
      "trigger              | int32_t                  | AsDtype('>i4')\n",
      "candidate_p4         | TLorentzVector           | AsStridedObjects(Model_TLor...\n",
      "track1_p4            | TLorentzVector           | AsStridedObjects(Model_TLor...\n",
      "track2_p4            | TLorentzVector           | AsStridedObjects(Model_TLor...\n",
      "ditrack_p4           | TLorentzVector           | AsStridedObjects(Model_TLor...\n",
      "dimuon_p4            | TLorentzVector           | AsStridedObjects(Model_TLor...\n",
      "muonp_p4             | TLorentzVector           | AsStridedObjects(Model_TLor...\n",
      "muonn_p4             | TLorentzVector           | AsStridedObjects(Model_TLor...\n",
      "invm1Skk             | double                   | AsDtype('>f8')\n",
      "invm2Skk             | double                   | AsDtype('>f8')\n",
      "iPVwithmuons         | int32_t                  | AsDtype('>i4')\n",
      "dimuon_vertexWeight  | int32_t                  | AsDtype('>i4')\n",
      "dimuon_vProb         | double                   | AsDtype('>f8')\n",
      "dimuon_vNChi2        | double                   | AsDtype('>f8')\n",
      "dimuon_DCA           | double                   | AsDtype('>f8')\n",
      "dimuon_ctauPV        | double                   | AsDtype('>f8')\n",
      "dimuon_ctauErrPV     | double                   | AsDtype('>f8')\n",
      "dimuon_cosAlpha      | double                   | AsDtype('>f8')\n",
      "dimuon_nSigma        | double                   | AsDtype('>f8')\n",
      "candidate_vMass      | double                   | AsDtype('>f8')\n",
      "candidate_vProb      | double                   | AsDtype('>f8')\n",
      "candidate_vChi2      | double                   | AsDtype('>f8')\n",
      "candidate_cosAlpha   | double                   | AsDtype('>f8')\n",
      "candidate_ctauPV     | double                   | AsDtype('>f8')\n",
      "candidate_ctauErrPV  | double                   | AsDtype('>f8')\n",
      "candidate_charge     | int32_t                  | AsDtype('>i4')\n",
      "candidate_lxy        | double                   | AsDtype('>f8')\n",
      "candidate_lxyErr     | double                   | AsDtype('>f8')\n",
      "candidate_lxyz       | double                   | AsDtype('>f8')\n",
      "candidate_lxyzErr    | double                   | AsDtype('>f8')\n",
      "ditrack_mass         | double                   | AsDtype('>f8')\n",
      "thePrimaryV_X        | double                   | AsDtype('>f8')\n",
      "thePrimaryV_Y        | double                   | AsDtype('>f8')\n",
      "thePrimaryV_Z        | double                   | AsDtype('>f8')\n",
      "TheDecayVertex_X     | double                   | AsDtype('>f8')\n",
      "TheDecayVertex_Y     | double                   | AsDtype('>f8')\n",
      "TheDecayVertex_Z     | double                   | AsDtype('>f8')\n",
      "thePrimaryV_2D_po... | double                   | AsDtype('>f8')\n",
      "thePrimaryV_3D_po... | double                   | AsDtype('>f8')\n",
      "TheDecayVertex_2D... | double                   | AsDtype('>f8')\n",
      "TheDecayVertex_3D... | double                   | AsDtype('>f8')\n",
      "TheVertexDistance_2D | double                   | AsDtype('>f8')\n",
      "TheVertexDistance_3D | double                   | AsDtype('>f8')\n",
      "track1_d0            | double                   | AsDtype('>f8')\n",
      "track1_d0Err         | double                   | AsDtype('>f8')\n",
      "track1_dz            | double                   | AsDtype('>f8')\n",
      "track1_dzErr         | double                   | AsDtype('>f8')\n",
      "track1_dxy           | double                   | AsDtype('>f8')\n",
      "track1_dxyErr        | double                   | AsDtype('>f8')\n",
      "track1_nvsh          | int32_t                  | AsDtype('>i4')\n",
      "track1_nvph          | int32_t                  | AsDtype('>i4')\n",
      "track1_dRdimuon      | double                   | AsDtype('>f8')\n",
      "track1_charge        | double                   | AsDtype('>f8')\n",
      "track1_PV            | int32_t                  | AsDtype('>i4')\n",
      "track1_refVtx        | int32_t                  | AsDtype('>i4')\n",
      "track1_pvAssocQ      | int32_t                  | AsDtype('>i4')\n",
      "track1_dzAssocPV     | double                   | AsDtype('>f8')\n",
      "track2_d0            | double                   | AsDtype('>f8')\n",
      "track2_d0Err         | double                   | AsDtype('>f8')\n",
      "track2_dz            | double                   | AsDtype('>f8')\n",
      "track2_dzErr         | double                   | AsDtype('>f8')\n",
      "track2_dxy           | double                   | AsDtype('>f8')\n",
      "track2_dxyErr        | double                   | AsDtype('>f8')\n",
      "track2_nvsh          | int32_t                  | AsDtype('>i4')\n",
      "track2_nvph          | int32_t                  | AsDtype('>i4')\n",
      "track2_dRdimuon      | double                   | AsDtype('>f8')\n",
      "track2_charge        | double                   | AsDtype('>f8')\n",
      "track2_PV            | int32_t                  | AsDtype('>i4')\n",
      "track2_refVtx        | int32_t                  | AsDtype('>i4')\n",
      "track2_pvAssocQ      | int32_t                  | AsDtype('>i4')\n",
      "track2_dzAssocPV     | double                   | AsDtype('>f8')\n",
      "ditrack_dRdimuon     | double                   | AsDtype('>f8')\n",
      "track1_SQopQop       | double                   | AsDtype('>f8')\n",
      "track1_SQopLam       | double                   | AsDtype('>f8')\n",
      "track1_SQopPhi       | double                   | AsDtype('>f8')\n",
      "track1_SQopDxy       | double                   | AsDtype('>f8')\n",
      "track1_SQopDsz       | double                   | AsDtype('>f8')\n",
      "track1_SLamLam       | double                   | AsDtype('>f8')\n",
      "track1_SLamPhi       | double                   | AsDtype('>f8')\n",
      "track1_SLamDxy       | double                   | AsDtype('>f8')\n",
      "track1_SLamDsz       | double                   | AsDtype('>f8')\n",
      "track1_SPhiPhi       | double                   | AsDtype('>f8')\n",
      "track1_SPhiDxy       | double                   | AsDtype('>f8')\n",
      "track1_SPhiDsz       | double                   | AsDtype('>f8')\n",
      "track1_SDxyDxy       | double                   | AsDtype('>f8')\n",
      "track1_SDxyDsz       | double                   | AsDtype('>f8')\n",
      "track1_SDszDsz       | double                   | AsDtype('>f8')\n",
      "track2_SQopQop       | double                   | AsDtype('>f8')\n",
      "track2_SQopLam       | double                   | AsDtype('>f8')\n",
      "track2_SQopPhi       | double                   | AsDtype('>f8')\n",
      "track2_SQopDxy       | double                   | AsDtype('>f8')\n",
      "track2_SQopDsz       | double                   | AsDtype('>f8')\n",
      "track2_SLamLam       | double                   | AsDtype('>f8')\n",
      "track2_SLamPhi       | double                   | AsDtype('>f8')\n",
      "track2_SLamDxy       | double                   | AsDtype('>f8')\n",
      "track2_SLamDsz       | double                   | AsDtype('>f8')\n",
      "track2_SPhiPhi       | double                   | AsDtype('>f8')\n",
      "track2_SPhiDxy       | double                   | AsDtype('>f8')\n",
      "track2_SPhiDsz       | double                   | AsDtype('>f8')\n",
      "track2_SDxyDxy       | double                   | AsDtype('>f8')\n",
      "track2_SDxyDsz       | double                   | AsDtype('>f8')\n",
      "track2_SDszDsz       | double                   | AsDtype('>f8')\n",
      "vChi2KalmanKK        | double                   | AsDtype('>f8')\n",
      "vNDFKalmanKK         | double                   | AsDtype('>f8')\n",
      "vProbKalmanKK        | double                   | AsDtype('>f8')\n",
      "vChi2KinematicKK     | double                   | AsDtype('>f8')\n",
      "vNDFKinematicKK      | double                   | AsDtype('>f8')\n",
      "vProbKinematicKK     | double                   | AsDtype('>f8')\n",
      "track1_minEigen      | double                   | AsDtype('>f8')\n",
      "track2_minEigen      | double                   | AsDtype('>f8')\n"
     ]
    }
   ],
   "source": [
    "file[\"rootuple\"][\"CandidateTree\"].show()"
   ]
  },
  {
   "cell_type": "code",
   "execution_count": 7,
   "id": "ceb1ab7a",
   "metadata": {},
   "outputs": [],
   "source": [
    "cut = (candidate_data['candidate_charge'] == 0)\\\n",
    "    & (candidate_data['candidate_cosAlpha'] > 0.99)\\\n",
    "    & (candidate_data['candidate_lxy'] / candidate_data['candidate_lxyErr'] > 3.0)\\\n",
    "    & (candidate_data['candidate_vProb'] > 0.05)\\\n",
    "    & (candidate_data['ditrack_mass'] > 1.014) & (candidate_data['ditrack_mass'] < 1.024)\\\n",
    "    & (candidate_data['candidate_vMass'] > 5.33) & (candidate_data['candidate_vMass'] < 5.4)"
   ]
  },
  {
   "cell_type": "code",
   "execution_count": 8,
   "id": "297ce352",
   "metadata": {},
   "outputs": [
    {
     "data": {
      "text/plain": [
       "<AxesSubplot:>"
      ]
     },
     "execution_count": 8,
     "metadata": {},
     "output_type": "execute_result"
    },
    {
     "data": {
      "image/png": "[encoded data removed]",
      "text/plain": [
       "<Figure size 1080x360 with 1 Axes>"
      ]
     },
     "metadata": {
      "needs_background": "light"
     },
     "output_type": "display_data"
    }
   ],
   "source": [
    "candidate_data[cut]['candidate_vMass'].hist(bins=200, figsize=(15, 5), range=(5.33, 5.4))\n",
    "#candidate_data[-cut]['candidate_vMass'].hist(bins=200, figsize=(15, 5), histtype=\"step\", range=(5.25, 5.5))"
   ]
  },
  {
   "cell_type": "code",
   "execution_count": 10,
   "id": "c57e710f",
   "metadata": {},
   "outputs": [
    {
     "data": {
      "text/plain": [
       "<AxesSubplot:>"
      ]
     },
     "execution_count": 10,
     "metadata": {},
     "output_type": "execute_result"
    },
    {
     "data": {
      "image/png": "[encoded data removed]",
      "text/plain": [
       "<Figure size 1080x360 with 1 Axes>"
      ]
     },
     "metadata": {
      "needs_background": "light"
     },
     "output_type": "display_data"
    }
   ],
   "source": [
    "candidate_data[cut]['ditrack_mass'].hist(bins=200, figsize=(15, 5))\n",
    "#candidate_data[-cut]['ditrack_mass'].hist(bins=200, figsize=(15, 5), histtype=\"step\")"
   ]
  },
  {
   "cell_type": "code",
   "execution_count": 14,
   "id": "028870dd",
   "metadata": {},
   "outputs": [],
   "source": [
    "path = \"../merged/\""
   ]
  },
  {
   "cell_type": "code",
   "execution_count": 15,
   "id": "41aeee75",
   "metadata": {},
   "outputs": [],
   "source": [
    "filenames = sorted(os.listdir(path))\n",
    "files_to_read = []\n",
    "for i in range(5):\n",
    "    files_to_read.append(path + filenames[i] + \":rootuple/CandidateTree\")\n"
   ]
  },
  {
   "cell_type": "code",
   "execution_count": 31,
   "id": "d29154c3",
   "metadata": {},
   "outputs": [
    {
     "data": {
      "text/plain": [
       "11.660010576248169"
      ]
     },
     "execution_count": 31,
     "metadata": {},
     "output_type": "execute_result"
    }
   ],
   "source": [
    "import uproot\n",
    "import pandas as pd\n",
    "import matplotlib.pyplot as plt\n",
    "import numpy as np\n",
    "import os\n",
    "import time\n",
    "\n",
    "path = \"../merged/\"\n",
    "filenames = sorted(os.listdir(path))\n",
    "files_to_read = []\n",
    "for i in range(5):\n",
    "    files_to_read.append(path + filenames[i] + \":rootuple/CandidateTree\")\n",
    "\n",
    "start_time = time.time()\n",
    "array = uproot.concatenate(\n",
    "    files_to_read, \n",
    "    \"candidate_vMass\",\n",
    "    \"(candidate_charge == 0)\\\n",
    "    & (candidate_cosAlpha > 0.99)\\\n",
    "    & (candidate_lxy / candidate_lxyErr > 3.0)\\\n",
    "    & (candidate_vProb > 0.05)\\\n",
    "    & (ditrack_mass > 1.014) & (ditrack_mass < 1.024)\\\n",
    "    & (candidate_vMass > 5.33) & (candidate_vMass < 5.4)\",\n",
    "    library=\"np\",\n",
    "    #num_workers=1\n",
    ")\n",
    "time.time() - start_time"
   ]
  },
  {
   "cell_type": "code",
   "execution_count": 2,
   "id": "d39b6f62",
   "metadata": {},
   "outputs": [],
   "source": [
    "import time\n",
    "from concurrent.futures import ThreadPoolExecutor\n",
    "import multiprocessing\n",
    "import math\n",
    "import numpy as np\n",
    "import uproot\n",
    "import os"
   ]
  },
  {
   "cell_type": "code",
   "execution_count": 86,
   "id": "da9192df",
   "metadata": {},
   "outputs": [],
   "source": [
    "# start = time.time()\n",
    "# file = uproot.open(path=path, object_cache=None, array_cache=None)\n",
    "# data = file.arrays(\n",
    "#     \"candidate_vMass\", \n",
    "#     \"(candidate_charge == 0)\\\n",
    "#     & (candidate_cosAlpha > 0.99)\\\n",
    "#     & (candidate_lxy / candidate_lxyErr > 3.0)\\\n",
    "#     & (candidate_vProb > 0.05)\\\n",
    "#     & (ditrack_mass > 1.014) & (ditrack_mass < 1.024)\\\n",
    "#     & (candidate_vMass > 5.33) & (candidate_vMass < 5.4)\",\n",
    "#     entry_start=1000,\n",
    "#     entry_stop=2000,\n",
    "#     array_cache=None,\n",
    "#     library=\"np\"\n",
    "# )[\"candidate_vMass\"]\n",
    "\n",
    "# time.time() - start"
   ]
  },
  {
   "cell_type": "code",
   "execution_count": 51,
   "id": "27232e74",
   "metadata": {},
   "outputs": [],
   "source": [
    "def read_chunk(file, entry_start, entry_stop, result):\n",
    "    data = uproot.open(path=file, object_cache=None, array_cache=None)\n",
    "    result.append(data.arrays(\"candidate_vMass\", \n",
    "                              \"(candidate_charge == 0)\\\n",
    "                              & (candidate_cosAlpha > 0.99)\\\n",
    "                              & (candidate_lxy / candidate_lxyErr > 3.0)\\\n",
    "                              & (candidate_vProb > 0.05)\\\n",
    "                              & (ditrack_mass > 1.014) & (ditrack_mass < 1.024)\\\n",
    "                              & (candidate_vMass > 5.33) & (candidate_vMass < 5.4)\",\n",
    "                              entry_start=entry_start,\n",
    "                              entry_stop=entry_stop,\n",
    "                              array_cache=None,\n",
    "                              library=\"np\")[\"candidate_vMass\"])"
   ]
  },
  {
   "cell_type": "code",
   "execution_count": 57,
   "id": "ee4b4355",
   "metadata": {},
   "outputs": [],
   "source": [
    "def read_one_file(file, n_processes):\n",
    "    chunk_size = math.ceil(uproot.open(path=file, object_cache=None, array_cache=None).num_entries / n_processes)\n",
    "    processes = []\n",
    "    result = multiprocessing.Manager().list()\n",
    "    for i in range(n_processes):\n",
    "        p = multiprocessing.Process(target=read_chunk, args=[file, i * chunk_size, (i + 1) * chunk_size, result])\n",
    "        p.start()\n",
    "        processes.append(p)\n",
    "\n",
    "    for p in processes:\n",
    "        p.join()\n",
    "\n",
    "    np.concatenate(tuple(result))\n",
    "    return np.concatenate(tuple(result))"
   ]
  },
  {
   "cell_type": "code",
   "execution_count": 58,
   "id": "bf3f7ee0",
   "metadata": {},
   "outputs": [],
   "source": [
    "def read_multiple_files(path, n_files, n_processes):\n",
    "    start = time.time()\n",
    "    filenames = sorted(os.listdir(path))\n",
    "    data = []\n",
    "    for i in range(n_files):\n",
    "        data.append(read_one_file(path + filenames[i] + \":rootuple/CandidateTree\", n_processes))\n",
    "    np.concatenate(tuple(data))\n",
    "    return time.time() - start\n",
    "    "
   ]
  },
  {
   "cell_type": "code",
   "execution_count": 136,
   "id": "b35588ae",
   "metadata": {},
   "outputs": [],
   "source": [
    "def read_part_of_data(files, n_entries, index, result):\n",
    "    data = []\n",
    "    for i in range(len(files)):\n",
    "#         data = uproot.open(path=files[i], object_cache=None, array_cache=None)\n",
    "        data.append(files[i].arrays(\"candidate_vMass\", \n",
    "                              \"(candidate_charge == 0)\\\n",
    "                              & (candidate_cosAlpha > 0.99)\\\n",
    "                              & (candidate_lxy / candidate_lxyErr > 3.0)\\\n",
    "                              & (candidate_vProb > 0.05)\\\n",
    "                              & (ditrack_mass > 1.014) & (ditrack_mass < 1.024)\\\n",
    "                              & (candidate_vMass > 5.33) & (candidate_vMass < 5.4)\",\n",
    "                              entry_start=n_entries[i] * index,\n",
    "                              entry_stop=n_entries[i] * (index + 1),\n",
    "                              array_cache=None,\n",
    "                              library=\"np\")[\"candidate_vMass\"])\n",
    "    result.append(np.concatenate(tuple(data)))"
   ]
  },
  {
   "cell_type": "code",
   "execution_count": 137,
   "id": "51ef8c23",
   "metadata": {},
   "outputs": [],
   "source": [
    "def uproot_mp(path, n_files, n_processes):\n",
    "    start = time.time()\n",
    "    files = [uproot.open(path=path + filename + \":rootuple/CandidateTree\", object_cache=None, array_cache=None) for filename in sorted(os.listdir(path))[:n_files]]\n",
    "    n_entries = [math.ceil(file.num_entries / n_processes) for file in files]\n",
    "    result = multiprocessing.Manager().list()\n",
    "    processes = []\n",
    "    for i in range(n_processes):\n",
    "        p = multiprocessing.Process(target=read_part_of_data, args=[files, n_entries, i, result])\n",
    "        p.start()\n",
    "        processes.append(p)\n",
    "\n",
    "    for p in processes:\n",
    "        p.join()\n",
    "    \n",
    "    np.concatenate(tuple(result))\n",
    "    \n",
    "    return time.time() - start\n",
    "    "
   ]
  },
  {
   "cell_type": "code",
   "execution_count": 140,
   "id": "a76b47d8",
   "metadata": {},
   "outputs": [
    {
     "data": {
      "text/plain": [
       "1.949794054031372"
      ]
     },
     "execution_count": 140,
     "metadata": {},
     "output_type": "execute_result"
    }
   ],
   "source": [
    "uproot_mp(path, 4, 16)"
   ]
  },
  {
   "cell_type": "code",
   "execution_count": 7,
   "id": "bda525c4",
   "metadata": {},
   "outputs": [],
   "source": [
    "path = \"../merged/\""
   ]
  },
  {
   "cell_type": "code",
   "execution_count": 8,
   "id": "3532344d",
   "metadata": {},
   "outputs": [],
   "source": [
    "def get_num_entries(files_to_read):\n",
    "    print([uproot.open(path=file, object_cache=None, array_cache=None).num_entries for file in files_to_read])\n",
    "    return sum([uproot.open(path=file, object_cache=None, array_cache=None).num_entries for file in files_to_read])\n",
    "        "
   ]
  },
  {
   "cell_type": "code",
   "execution_count": 6,
   "id": "779d2b85",
   "metadata": {},
   "outputs": [
    {
     "name": "stdout",
     "output_type": "stream",
     "text": [
      "[3731211, 4025397]\n"
     ]
    },
    {
     "data": {
      "text/plain": [
       "7756608"
      ]
     },
     "execution_count": 6,
     "metadata": {},
     "output_type": "execute_result"
    }
   ],
   "source": [
    "files_to_read = [path + filename + \":rootuple/CandidateTree\" for filename in sorted(os.listdir(path))[:2]]\n",
    "get_num_entries(files_to_read)"
   ]
  },
  {
   "cell_type": "code",
   "execution_count": 29,
   "id": "403cc7a6",
   "metadata": {},
   "outputs": [],
   "source": [
    "def append_chunk(chunk, result):\n",
    "    print(len(chunk[\"candidate_vMass\"]))\n",
    "    result.append(chunk[\"candidate_vMass\"])"
   ]
  },
  {
   "cell_type": "code",
   "execution_count": 47,
   "id": "1d1244ff",
   "metadata": {},
   "outputs": [
    {
     "data": {
      "text/plain": [
       "14.990437269210815"
      ]
     },
     "execution_count": 47,
     "metadata": {},
     "output_type": "execute_result"
    }
   ],
   "source": [
    "# path = \"../merged/\"\n",
    "# filenames = sorted(os.listdir(path))\n",
    "# files_to_read = []\n",
    "# for i in range(8):\n",
    "#     files_to_read.append(path + filenames[i] + \":rootuple/CandidateTree\")\n",
    "\n",
    "# start_time = time.time()\n",
    "# array = uproot.concatenate(\n",
    "#     files_to_read, \n",
    "#     \"candidate_vMass\",\n",
    "#     \"(candidate_charge == 0)\\\n",
    "#     & (candidate_cosAlpha > 0.99)\\\n",
    "#     & (candidate_lxy / candidate_lxyErr > 3.0)\\\n",
    "#     & (candidate_vProb > 0.05)\\\n",
    "#     & (ditrack_mass > 1.014) & (ditrack_mass < 1.024)\\\n",
    "#     & (candidate_vMass > 5.33) & (candidate_vMass < 5.4)\",\n",
    "#     library=\"np\",\n",
    "#     #num_workers=1\n",
    "# )\n",
    "# time.time() - start_time"
   ]
  },
  {
   "cell_type": "code",
   "execution_count": 49,
   "id": "9257bf7a",
   "metadata": {},
   "outputs": [
    {
     "name": "stdout",
     "output_type": "stream",
     "text": [
      "37698209\n",
      "9424553\n",
      "\n",
      "1578\n",
      "1688\n",
      "1837\n",
      "2575\n",
      "2354\n",
      "1877\n",
      "2124\n",
      "1718\n"
     ]
    },
    {
     "data": {
      "text/plain": [
       "16.736073970794678"
      ]
     },
     "execution_count": 49,
     "metadata": {},
     "output_type": "execute_result"
    }
   ],
   "source": [
    "read_multiple_files(path, 8, 4)"
   ]
  },
  {
   "cell_type": "code",
   "execution_count": null,
   "id": "ac0cc45d",
   "metadata": {},
   "outputs": [],
   "source": []
  },
  {
   "cell_type": "code",
   "execution_count": 84,
   "id": "ba84f825",
   "metadata": {},
   "outputs": [
    {
     "data": {
      "text/plain": [
       "2.0521323680877686"
      ]
     },
     "execution_count": 84,
     "metadata": {},
     "output_type": "execute_result"
    }
   ],
   "source": [
    "start = time.time()\n",
    "file = uproot.open(path=path + \"file1.root:rootuple/CandidateTree\", object_cache=None, array_cache=None)\n",
    "data = file.arrays(\n",
    "    \"candidate_vMass\", \n",
    "    \"(candidate_charge == 0)\\\n",
    "    & (candidate_cosAlpha > 0.99)\\\n",
    "    & (candidate_lxy / candidate_lxyErr > 3.0)\\\n",
    "    & (candidate_vProb > 0.05)\\\n",
    "    & (ditrack_mass > 1.014) & (ditrack_mass < 1.024)\\\n",
    "    & (candidate_vMass > 5.33) & (candidate_vMass < 5.4)\",\n",
    "#     entry_start=1000,\n",
    "#     entry_stop=2000,\n",
    "    array_cache=None,\n",
    "    library=\"np\"\n",
    ")[\"candidate_vMass\"]\n",
    "\n",
    "time.time() - start"
   ]
  },
  {
   "cell_type": "code",
   "execution_count": 85,
   "id": "9a8d9390",
   "metadata": {},
   "outputs": [
    {
     "data": {
      "text/plain": [
       "1688"
      ]
     },
     "execution_count": 85,
     "metadata": {},
     "output_type": "execute_result"
    }
   ],
   "source": [
    "len(data)"
   ]
  },
  {
   "cell_type": "code",
   "execution_count": null,
   "id": "a6475ba6",
   "metadata": {},
   "outputs": [],
   "source": []
  }
 ],
 "metadata": {
  "kernelspec": {
   "display_name": "Python 3 (ipykernel)",
   "language": "python",
   "name": "python3"
  },
  "language_info": {
   "codemirror_mode": {
    "name": "ipython",
    "version": 3
   },
   "file_extension": ".py",
   "mimetype": "text/x-python",
   "name": "python",
   "nbconvert_exporter": "python",
   "pygments_lexer": "ipython3",
   "version": "3.9.13"
  }
 },
 "nbformat": 4,
 "nbformat_minor": 5
}
