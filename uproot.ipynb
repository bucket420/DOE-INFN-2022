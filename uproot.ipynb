{
 "cells": [
  {
   "cell_type": "code",
   "execution_count": 1,
   "id": "f1abf57f",
   "metadata": {},
   "outputs": [
    {
     "name": "stderr",
     "output_type": "stream",
     "text": [
      "/lustrehome/hdhoang2001/.conda/envs/new/lib/python3.9/site-packages/zfit/__init__.py:37: UserWarning: TensorFlow warnings are by default suppressed by zfit. In order to show them, set the environment variable ZFIT_DISABLE_TF_WARNINGS=0. In order to suppress the TensorFlow warnings AND this warning, set ZFIT_DISABLE_TF_WARNINGS=1.\n",
      "  warnings.warn(\"TensorFlow warnings are by default suppressed by zfit.\"\n",
      "/lustrehome/hdhoang2001/.conda/envs/new/lib/python3.9/site-packages/tensorflow_addons/utils/ensure_tf_install.py:53: UserWarning: Tensorflow Addons supports using Python ops for all Tensorflow versions above or equal to 2.7.0 and strictly below 2.10.0 (nightly versions are not supported). \n",
      " The versions of TensorFlow you are currently using is 2.6.5 and is not supported. \n",
      "Some things might work, some things might not.\n",
      "If you were to encounter a bug, do not file an issue.\n",
      "If you want to make sure you're using a tested and supported configuration, either change the TensorFlow version or the TensorFlow Addons's version. \n",
      "You can find the compatibility matrix in TensorFlow Addon's readme:\n",
      "https://github.com/tensorflow/addons\n",
      "  warnings.warn(\n"
     ]
    }
   ],
   "source": [
    "import csv\n",
    "import math\n",
    "import matplotlib.pyplot as plt\n",
    "import multiprocessing\n",
    "import numpy as np\n",
    "import os\n",
    "import pandas as pd\n",
    "import scipy\n",
    "import tensorflow as tf\n",
    "import time\n",
    "import uproot\n",
    "import zfit"
   ]
  },
  {
   "cell_type": "code",
   "execution_count": 2,
   "id": "1c97d91b",
   "metadata": {},
   "outputs": [],
   "source": [
    "def partition_helper(slice_entries, file_entries, file_curr, entry_curr):\n",
    "    if slice_entries <= file_entries[file_curr] - entry_curr:\n",
    "        return [file_curr, slice_entries + entry_curr]\n",
    "    elif file_curr == len(file_entries) - 1:\n",
    "        return [file_curr, file_entries[-1]]\n",
    "    else:\n",
    "        return partition_helper(slice_entries - file_entries[file_curr] + entry_curr, file_entries, file_curr + 1, 0)\n",
    "\n",
    "def partition(files, n_processes):\n",
    "    file_entries = [file.num_entries for file in files]\n",
    "    slice_entries = math.ceil(sum(file_entries) / n_processes)\n",
    "    slices = []\n",
    "    file_start = 0\n",
    "    entry_start = 0\n",
    "    for i in range(n_processes):\n",
    "        slices.append([file_start, entry_start] + partition_helper(slice_entries, file_entries, file_start, entry_start))\n",
    "        file_start = slices[-1][-2]\n",
    "        entry_start = slices[-1][-1]\n",
    "    return slices\n",
    "\n",
    "def read_slice(files, slices, index, expressions, cut, data):\n",
    "    data_slice = []\n",
    "    for i in range(slices[index][0], slices[index][2] + 1):\n",
    "        data_slice.append(files[i].arrays(expressions=expressions, \n",
    "                              cut=cut,\n",
    "                              entry_start=slices[index][1] if i == slices[index][0] else None,\n",
    "                              entry_stop=slices[index][3] if i == slices[index][2] else None,\n",
    "                              library=\"pd\"))\n",
    "    data.append(pd.concat(data_slice))\n",
    "\n",
    "def to_pandas(path, tree, n_files, n_processes, expressions, cut=None):\n",
    "    files = [uproot.open(path=path + filename + \":\" + tree) for filename in sorted(os.listdir(path))[:n_files]]\n",
    "    slices = partition(files, n_processes)\n",
    "    data = multiprocessing.Manager().list()\n",
    "    processes = []\n",
    "    for i in range(n_processes):\n",
    "        p = multiprocessing.Process(target=read_slice, args=[files, slices, i, expressions, cut, data])\n",
    "        p.start()\n",
    "        processes.append(p)\n",
    "\n",
    "    for p in processes:\n",
    "        p.join()\n",
    "    \n",
    "    return pd.concat(data)"
   ]
  },
  {
   "cell_type": "code",
   "execution_count": 3,
   "id": "97b213db",
   "metadata": {},
   "outputs": [],
   "source": [
    "path = \"../data/128_files/\""
   ]
  },
  {
   "cell_type": "code",
   "execution_count": 4,
   "id": "ab650f78",
   "metadata": {},
   "outputs": [
    {
     "data": {
      "text/plain": [
       "40.87145137786865"
      ]
     },
     "execution_count": 4,
     "metadata": {},
     "output_type": "execute_result"
    }
   ],
   "source": [
    "start = time.time()\n",
    "data = to_pandas(path, \"rootuple/CandidateTree\", 128, 64, \n",
    "                \"candidate_vMass\",\n",
    "                \"(candidate_charge == 0)\\\n",
    "                & (candidate_cosAlpha > 0.99)\\\n",
    "                & (candidate_lxy / candidate_lxyErr > 3.0)\\\n",
    "                & (candidate_vProb > 0.05)\\\n",
    "                & (ditrack_mass > 1.014) & (ditrack_mass < 1.024)\\\n",
    "                & (candidate_vMass > 5.33) & (candidate_vMass < 5.4)\")\n",
    "time.time() - start"
   ]
  },
  {
   "cell_type": "code",
   "execution_count": 5,
   "id": "bbdbad96",
   "metadata": {},
   "outputs": [
    {
     "data": {
      "image/png": "[encoded data removed]",
      "text/plain": [
       "<Figure size 1080x360 with 1 Axes>"
      ]
     },
     "metadata": {
      "needs_background": "light"
     },
     "output_type": "display_data"
    }
   ],
   "source": [
    "plt.figure(figsize=(15, 5))\n",
    "plt.hist(data[\"candidate_vMass\"], bins=200)\n",
    "plt.show()"
   ]
  },
  {
   "cell_type": "code",
   "execution_count": 6,
   "id": "e7972a18",
   "metadata": {},
   "outputs": [
    {
     "name": "stdout",
     "output_type": "stream",
     "text": [
      "The history saving thread hit an unexpected error (OperationalError('database is locked')).History will not be written to the database.\n"
     ]
    }
   ],
   "source": [
    "def parameter(name, value, lower=None, upper=None):\n",
    "    try:\n",
    "        return zfit.Parameter(name, value, lower, upper)\n",
    "    except zfit.exception.NameAlreadyTakenError:\n",
    "        del zfit.Parameter._existing_params[name]\n",
    "        return zfit.Parameter(name, value, lower, upper)"
   ]
  },
  {
   "cell_type": "code",
   "execution_count": 7,
   "id": "4566e119",
   "metadata": {},
   "outputs": [],
   "source": [
    "mass = zfit.Space('candidate_vMass', limits=(5.33, 5.4))\n",
    "\n",
    "mu = parameter(\"mu\", 5.37, 5.33, 5.4)\n",
    "sigma = parameter(\"sigma\", 0.01, 0.001, 0.2)\n",
    "signal = zfit.pdf.Gauss(obs=mass, mu=mu, sigma=sigma)\n",
    "\n",
    "a0 = parameter(\"a0\", 0.5, 0.0, 1.0)\n",
    "a1 = parameter(\"a1\", -0.3, -0.5, 1.0)\n",
    "bkg = zfit.pdf.Chebyshev(obs=mass, coeffs=[a0, a1])\n",
    "\n",
    "fraction = parameter(\"fraction\", 0.5, 0, 1)\n",
    "\n",
    "model = zfit.pdf.SumPDF([signal, bkg], fraction)"
   ]
  },
  {
   "cell_type": "code",
   "execution_count": 8,
   "id": "2f8475d4",
   "metadata": {},
   "outputs": [
    {
     "name": "stderr",
     "output_type": "stream",
     "text": [
      "/lustrehome/hdhoang2001/.conda/envs/new/lib/python3.9/site-packages/zfit/core/loss.py:205: AdvancedFeatureWarning: Either you're using an advanced feature OR causing unwanted behavior. To turn this warning off, use `zfit.settings.advanced_warnings['inconsistent_fitrange']` = False`  or 'all' (use with care) with `zfit.settings.advanced_warnings['all'] = False\n",
      "PDFs [<zfit.<class 'zfit.models.functor.SumPDF'>  params=[Composed_autoparam_1, fraction]] as well as `data` [<zfit.core.data.Data object at 0x7f052c936a90>] have different ranges [(<zfit Space obs=('candidate_vMass',), axes=(0,), limits=(array([[5.33]]), array([[5.4]]))>, <zfit Space obs=('candidate_vMass',), axes=(0,), limits=None>)] they are defined in. The data range will cut the data while the norm range defines the normalization.\n",
      "  warn_advanced_feature(f\"PDFs {non_consistent['model']} as \"\n"
     ]
    },
    {
     "name": "stdout",
     "output_type": "stream",
     "text": [
      "FitResult of\n",
      "<UnbinnedNLL model=[<zfit.<class 'zfit.models.functor.SumPDF'>  params=[Composed_autoparam_1, fraction]] data=[<zfit.core.data.Data object at 0x7f052c936a90>] constraints=[]> \n",
      "with\n",
      "<Minuit Minuit tol=0.001>\n",
      "\n",
      "╒═════════╤═════════════╤══════════════════╤═════════╤═════════════╕\n",
      "│ valid   │ converged   │ param at limit   │ edm     │ min value   │\n",
      "╞═════════╪═════════════╪══════════════════╪═════════╪═════════════╡\n",
      "│ True    │ True        │ False            │ 1.8e-06 │ -7740       │\n",
      "╘═════════╧═════════════╧══════════════════╧═════════╧═════════════╛\n",
      "\n",
      "Parameters\n",
      "name         value    at limit\n",
      "--------  --------  ----------\n",
      "fraction    0.4156       False\n",
      "mu           5.367       False\n",
      "sigma     0.008588       False\n",
      "a0         0.02812       False\n",
      "a1         -0.3602       False\n"
     ]
    }
   ],
   "source": [
    "nll = zfit.loss.UnbinnedNLL(model=model, data=zfit.Data.from_pandas(data))  # loss\n",
    "\n",
    "minimizer = zfit.minimize.Minuit()\n",
    "minimum = minimizer.minimize(loss=nll)\n",
    "\n",
    "print(minimum)"
   ]
  },
  {
   "cell_type": "code",
   "execution_count": 9,
   "id": "fa8c68f6",
   "metadata": {},
   "outputs": [
    {
     "data": {
      "text/plain": [
       "<matplotlib.legend.Legend at 0x7ee2005ae580>"
      ]
     },
     "execution_count": 9,
     "metadata": {},
     "output_type": "execute_result"
    },
    {
     "data": {
      "image/png": "[encoded data removed]",
      "text/plain": [
       "<Figure size 1080x360 with 1 Axes>"
      ]
     },
     "metadata": {
      "needs_background": "light"
     },
     "output_type": "display_data"
    }
   ],
   "source": [
    "mass_range = (5.33, 5.4)\n",
    "n_bins = 200\n",
    "\n",
    "plt.figure(figsize=(15, 5))\n",
    "plt.hist(data[\"candidate_vMass\"], bins=n_bins, color=\"navajowhite\")\n",
    "\n",
    "mass = np.linspace(*mass_range, num=1000)\n",
    "\n",
    "pdf = zfit.run(model.pdf(mass))\n",
    "gauss = (signal.pdf(mass) * fraction).numpy()\n",
    "chebyshev = (bkg.pdf(mass) * (1 - fraction)).numpy()\n",
    "\n",
    "scale = len(data[\"candidate_vMass\"]) / n_bins * (mass_range[1] - mass_range[0])\n",
    "\n",
    "plt.plot(mass, pdf * scale, label=\"Sum\")\n",
    "plt.plot(mass, gauss * scale, label=\"Signal\")\n",
    "plt.plot(mass, chebyshev * scale, label=\"Background\")\n",
    "plt.legend()"
   ]
  },
  {
   "cell_type": "code",
   "execution_count": null,
   "id": "e55beff4",
   "metadata": {},
   "outputs": [],
   "source": []
  },
  {
   "cell_type": "code",
   "execution_count": null,
   "id": "f8a05222",
   "metadata": {},
   "outputs": [],
   "source": []
  }
 ],
 "metadata": {
  "kernelspec": {
   "display_name": "Python 3 (ipykernel)",
   "language": "python",
   "name": "python3"
  },
  "language_info": {
   "codemirror_mode": {
    "name": "ipython",
    "version": 3
   },
   "file_extension": ".py",
   "mimetype": "text/x-python",
   "name": "python",
   "nbconvert_exporter": "python",
   "pygments_lexer": "ipython3",
   "version": "3.9.13"
  }
 },
 "nbformat": 4,
 "nbformat_minor": 5
}
