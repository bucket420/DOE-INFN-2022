{
 "cells": [
  {
   "cell_type": "code",
   "execution_count": 64,
   "id": "f1abf57f",
   "metadata": {},
   "outputs": [],
   "source": [
    "import csv\n",
    "import math\n",
    "import matplotlib.pyplot as plt\n",
    "import multiprocessing\n",
    "import numpy as np\n",
    "import os\n",
    "import pandas as pd\n",
    "import scipy\n",
    "import tensorflow as tf\n",
    "import time\n",
    "import uproot\n",
    "import zfit"
   ]
  },
  {
   "cell_type": "code",
   "execution_count": 65,
   "id": "1c97d91b",
   "metadata": {},
   "outputs": [],
   "source": [
    "def partition_helper(slice_entries, file_entries, file_curr, entry_curr):\n",
    "    if slice_entries <= file_entries[file_curr] - entry_curr:\n",
    "        return [file_curr, slice_entries + entry_curr]\n",
    "    elif file_curr == len(file_entries) - 1:\n",
    "        return [file_curr, file_entries[-1]]\n",
    "    else:\n",
    "        return partition_helper(slice_entries - file_entries[file_curr] + entry_curr, file_entries, file_curr + 1, 0)\n",
    "\n",
    "def partition(files, n_processes):\n",
    "    file_entries = [file.num_entries for file in files]\n",
    "    slice_entries = math.ceil(sum(file_entries) / n_processes)\n",
    "    slices = []\n",
    "    file_start = 0\n",
    "    entry_start = 0\n",
    "    for i in range(n_processes):\n",
    "        slices.append([file_start, entry_start] + partition_helper(slice_entries, file_entries, file_start, entry_start))\n",
    "        file_start = slices[-1][-2]\n",
    "        entry_start = slices[-1][-1]\n",
    "    return slices\n",
    "\n",
    "def read_slice(files, slices, index, expressions, cut, data):\n",
    "    data_slice = []\n",
    "    for i in range(slices[index][0], slices[index][2] + 1):\n",
    "        data_slice.append(files[i].arrays(expressions=expressions, \n",
    "                              cut=cut,\n",
    "                              entry_start=slices[index][1] if i == slices[index][0] else None,\n",
    "                              entry_stop=slices[index][3] if i == slices[index][2] else None,\n",
    "                              library=\"pd\"))\n",
    "    data.append(pd.concat(data_slice))\n",
    "\n",
    "def to_pandas(path, tree, n_files, n_processes, expressions, cut=None):\n",
    "    files = [uproot.open(path=path + filename + \":\" + tree) for filename in sorted(os.listdir(path))[:n_files]]\n",
    "    slices = partition(files, n_processes)\n",
    "    data = multiprocessing.Manager().list()\n",
    "    processes = []\n",
    "    for i in range(n_processes):\n",
    "        p = multiprocessing.Process(target=read_slice, args=[files, slices, i, expressions, cut, data])\n",
    "        p.start()\n",
    "        processes.append(p)\n",
    "\n",
    "    for p in processes:\n",
    "        p.join()\n",
    "    \n",
    "    return pd.concat(data)"
   ]
  },
  {
   "cell_type": "code",
   "execution_count": 66,
   "id": "97b213db",
   "metadata": {},
   "outputs": [],
   "source": [
    "path = \"../data/128_files/\""
   ]
  },
  {
   "cell_type": "code",
   "execution_count": 85,
   "id": "ab650f78",
   "metadata": {},
   "outputs": [
    {
     "data": {
      "text/plain": [
       "21.147677183151245"
      ]
     },
     "execution_count": 85,
     "metadata": {},
     "output_type": "execute_result"
    }
   ],
   "source": [
    "start = time.time()\n",
    "data = to_pandas(path, \"rootuple/CandidateTree\", 128, 64, \n",
    "                \"candidate_vMass\",\n",
    "                \"(candidate_charge == 0)\\\n",
    "                & (candidate_cosAlpha > 0.99)\\\n",
    "                & (candidate_lxy / candidate_lxyErr > 3.0)\\\n",
    "                & (candidate_vProb > 0.05)\\\n",
    "                & (ditrack_mass > 1.014) & (ditrack_mass < 1.024)\\\n",
    "                & (candidate_vMass > 5.33) & (candidate_vMass < 5.4)\")\n",
    "time.time() - start"
   ]
  },
  {
   "cell_type": "code",
   "execution_count": 5,
   "id": "bbdbad96",
   "metadata": {},
   "outputs": [
    {
     "data": {
      "image/png": "[encoded data removed]",
      "text/plain": [
       "<Figure size 1080x360 with 1 Axes>"
      ]
     },
     "metadata": {
      "needs_background": "light"
     },
     "output_type": "display_data"
    }
   ],
   "source": [
    "plt.figure(figsize=(15, 5))\n",
    "plt.hist(data[\"candidate_vMass\"], bins=200)\n",
    "plt.show()"
   ]
  },
  {
   "cell_type": "code",
   "execution_count": 69,
   "id": "e7972a18",
   "metadata": {},
   "outputs": [],
   "source": [
    "def parameter(name, value, lower=None, upper=None):\n",
    "    try:\n",
    "        return zfit.Parameter(name, value, lower, upper)\n",
    "    except zfit.exception.NameAlreadyTakenError:\n",
    "        del zfit.Parameter._existing_params[name]\n",
    "        return zfit.Parameter(name, value, lower, upper)"
   ]
  },
  {
   "cell_type": "code",
   "execution_count": 81,
   "id": "4566e119",
   "metadata": {},
   "outputs": [],
   "source": [
    "mass = zfit.Space('candidate_vMass', limits=(5.33, 5.4))\n",
    "\n",
    "mu = parameter(\"mu\", 5.37, 5.33, 5.4)\n",
    "sigma = parameter(\"sigma\", 0.01, 0.001, 0.2)\n",
    "signal = zfit.pdf.Gauss(obs=mass, mu=mu, sigma=sigma)\n",
    "\n",
    "a0 = parameter(\"a0\", 0.5, 0.0, 1.0)\n",
    "a1 = parameter(\"a1\", -0.3, -0.5, 1.0)\n",
    "bkg = zfit.pdf.Chebyshev(obs=mass, coeffs=[a0, a1])\n",
    "\n",
    "fraction = parameter(\"fraction\", 0.5, 0, 1)\n",
    "\n",
    "model = zfit.pdf.SumPDF([signal, bkg], fraction)"
   ]
  },
  {
   "cell_type": "code",
   "execution_count": 82,
   "id": "2f8475d4",
   "metadata": {},
   "outputs": [
    {
     "name": "stdout",
     "output_type": "stream",
     "text": [
      "FitResult of\n",
      "<UnbinnedNLL model=[<zfit.<class 'zfit.models.functor.SumPDF'>  params=[Composed_autoparam_13, fraction]] data=[<zfit.core.data.Data object at 0x7efb3ef3b940>] constraints=[]> \n",
      "with\n",
      "<Minuit Minuit tol=0.001>\n",
      "\n",
      "╒═════════╤═════════════╤══════════════════╤═════════╤═════════════╕\n",
      "│ valid   │ converged   │ param at limit   │ edm     │ min value   │\n",
      "╞═════════╪═════════════╪══════════════════╪═════════╪═════════════╡\n",
      "│ True    │ True        │ False            │ 2.3e-06 │ -7740       │\n",
      "╘═════════╧═════════════╧══════════════════╧═════════╧═════════════╛\n",
      "\n",
      "Parameters\n",
      "name         value    at limit\n",
      "--------  --------  ----------\n",
      "fraction    0.4156       False\n",
      "mu           5.367       False\n",
      "sigma     0.008588       False\n",
      "a0         0.02811       False\n",
      "a1         -0.3602       False\n"
     ]
    }
   ],
   "source": [
    "nll = zfit.loss.UnbinnedNLL(model=model, data=zfit.Data.from_pandas(data))  # loss\n",
    "\n",
    "minimizer = zfit.minimize.Minuit()\n",
    "minimum = minimizer.minimize(loss=nll)\n",
    "\n",
    "print(minimum)"
   ]
  },
  {
   "cell_type": "code",
   "execution_count": 84,
   "id": "fa8c68f6",
   "metadata": {},
   "outputs": [
    {
     "data": {
      "text/plain": [
       "<matplotlib.legend.Legend at 0x7efb3ec58400>"
      ]
     },
     "execution_count": 84,
     "metadata": {},
     "output_type": "execute_result"
    },
    {
     "data": {
      "image/png": "[encoded data removed]",
      "text/plain": [
       "<Figure size 1080x360 with 1 Axes>"
      ]
     },
     "metadata": {
      "needs_background": "light"
     },
     "output_type": "display_data"
    }
   ],
   "source": [
    "mass_range = (5.33, 5.4)\n",
    "n_bins = 200\n",
    "\n",
    "plt.figure(figsize=(15, 5))\n",
    "plt.hist(data[\"candidate_vMass\"], bins=n_bins, color=\"navajowhite\")\n",
    "\n",
    "mass = np.linspace(*mass_range, num=1000)\n",
    "\n",
    "pdf = zfit.run(model.pdf(mass))\n",
    "gauss = (signal.pdf(mass) * fraction).numpy()\n",
    "chebyshev = (bkg.pdf(mass) * (1 - fraction)).numpy()\n",
    "\n",
    "scale = len(data[\"candidate_vMass\"]) / n_bins * (mass_range[1] - mass_range[0])\n",
    "\n",
    "plt.plot(mass, pdf * scale, label=\"Sum\")\n",
    "plt.plot(mass, gauss * scale, label=\"Signal\")\n",
    "plt.plot(mass, chebyshev * scale, label=\"Background\")\n",
    "plt.legend()"
   ]
  },
  {
   "cell_type": "code",
   "execution_count": null,
   "id": "e55beff4",
   "metadata": {},
   "outputs": [],
   "source": []
  },
  {
   "cell_type": "code",
   "execution_count": null,
   "id": "f8a05222",
   "metadata": {},
   "outputs": [],
   "source": []
  }
 ],
 "metadata": {
  "kernelspec": {
   "display_name": "Python 3 (ipykernel)",
   "language": "python",
   "name": "python3"
  },
  "language_info": {
   "codemirror_mode": {
    "name": "ipython",
    "version": 3
   },
   "file_extension": ".py",
   "mimetype": "text/x-python",
   "name": "python",
   "nbconvert_exporter": "python",
   "pygments_lexer": "ipython3",
   "version": "3.9.13"
  }
 },
 "nbformat": 4,
 "nbformat_minor": 5
}
