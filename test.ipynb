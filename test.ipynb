{
 "cells": [
  {
   "cell_type": "code",
   "execution_count": 1,
   "id": "65550205",
   "metadata": {},
   "outputs": [],
   "source": [
    "import uproot\n",
    "import pandas as pd\n",
    "import matplotlib.pyplot as plt\n",
    "import numpy as np\n",
    "import os\n",
    "import time\n",
    "\n",
    "path = \"../merged/\"\n",
    "filenames = sorted(os.listdir(path))\n",
    "files_to_read = []\n",
    "for i in range(10):\n",
    "    files_to_read.append(path + filenames[i] + \":rootuple/CandidateTree\")"
   ]
  },
  {
   "cell_type": "code",
   "execution_count": 4,
   "id": "a316d416",
   "metadata": {},
   "outputs": [],
   "source": [
    "from concurrent.futures import ThreadPoolExecutor\n",
    "# executor = ThreadPoolExecutor(1)\n"
   ]
  },
  {
   "cell_type": "code",
   "execution_count": 5,
   "id": "26ceb823",
   "metadata": {},
   "outputs": [],
   "source": [
    "# start_time = time.time()\n",
    "# array = uproot.concatenate(\n",
    "#     files_to_read, \n",
    "#     \"candidate_vMass\",\n",
    "#     \"(candidate_charge == 0)\\\n",
    "#     & (candidate_cosAlpha > 0.99)\\\n",
    "#     & (candidate_lxy / candidate_lxyErr > 3.0)\\\n",
    "#     & (candidate_vProb > 0.05)\\\n",
    "#     & (ditrack_mass > 1.014) & (ditrack_mass < 1.024)\\\n",
    "#     & (candidate_vMass > 5.33) & (candidate_vMass < 5.4)\",\n",
    "#     library=\"np\",\n",
    "#     decompression_executor=executor,\n",
    "#     interpretation_executor=executor\n",
    "# )\n",
    "# time.time() - start_time"
   ]
  },
  {
   "cell_type": "code",
   "execution_count": 6,
   "id": "9542c2ad",
   "metadata": {},
   "outputs": [
    {
     "data": {
      "text/plain": [
       "141.7834906578064"
      ]
     },
     "execution_count": 6,
     "metadata": {},
     "output_type": "execute_result"
    }
   ],
   "source": [
    "start_time = time.time()\n",
    "data = np.concatenate(tuple(uproot.open(file).arrays(\n",
    "    \"candidate_vMass\", \n",
    "    \"(candidate_charge == 0)\\\n",
    "    & (candidate_cosAlpha > 0.99)\\\n",
    "    & (candidate_lxy / candidate_lxyErr > 3.0)\\\n",
    "    & (candidate_vProb > 0.05)\\\n",
    "    & (ditrack_mass > 1.014) & (ditrack_mass < 1.024)\\\n",
    "    & (candidate_vMass > 5.33) & (candidate_vMass < 5.4)\",\n",
    "    library=\"np\",\n",
    "    array_cache=None,\n",
    "    #decompression_executor=executor,\n",
    ")[\"candidate_vMass\"] for file in files_to_read))\n",
    "time.time() - start_time"
   ]
  },
  {
   "cell_type": "code",
   "execution_count": 8,
   "id": "5d116b35",
   "metadata": {},
   "outputs": [
    {
     "data": {
      "text/plain": [
       "19737"
      ]
     },
     "execution_count": 8,
     "metadata": {},
     "output_type": "execute_result"
    }
   ],
   "source": [
    "len(data)"
   ]
  },
  {
   "cell_type": "code",
   "execution_count": null,
   "id": "ca319ee9",
   "metadata": {},
   "outputs": [],
   "source": []
  }
 ],
 "metadata": {
  "kernelspec": {
   "display_name": "Python 3 (ipykernel)",
   "language": "python",
   "name": "python3"
  },
  "language_info": {
   "codemirror_mode": {
    "name": "ipython",
    "version": 3
   },
   "file_extension": ".py",
   "mimetype": "text/x-python",
   "name": "python",
   "nbconvert_exporter": "python",
   "pygments_lexer": "ipython3",
   "version": "3.9.13"
  }
 },
 "nbformat": 4,
 "nbformat_minor": 5
}
