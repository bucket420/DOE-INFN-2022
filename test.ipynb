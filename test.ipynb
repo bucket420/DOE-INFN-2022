{
 "cells": [
  {
   "cell_type": "code",
   "execution_count": 1,
   "metadata": {},
   "outputs": [],
   "source": [
    "import uproot\n",
    "import pandas\n",
    "import matplotlib.pyplot as plt"
   ]
  },
  {
   "cell_type": "code",
   "execution_count": 2,
   "metadata": {},
   "outputs": [
    {
     "name": "stdout",
     "output_type": "stream",
     "text": [
      "{'rootuple;1': 'TDirectory', 'rootuple/CandidateTree;1': 'TTree', 'rootuple/UpsTree;1': 'TTree'}\n"
     ]
    }
   ],
   "source": [
    "file = uproot.open(\"/lustre/cms/store/user/adiflori/jpsikk_DataRunII_UltraLegacy_miniAODv2_v1_m4To6/Charmonium/crab_Charmonium_Run2018D-UL2018_MiniAODv2-v1_MINIAOD__1SKK_20220512_114449/220512_094551/0000/rootuple.root\")\n",
    "print(file.classnames())"
   ]
  },
  {
   "cell_type": "code",
   "execution_count": 3,
   "metadata": {},
   "outputs": [],
   "source": [
    "rootuples = file[\"rootuple\"]"
   ]
  },
  {
   "cell_type": "code",
   "execution_count": 4,
   "metadata": {},
   "outputs": [
    {
     "name": "stdout",
     "output_type": "stream",
     "text": [
      "name                 | typename                 | interpretation                \n",
      "---------------------+--------------------------+-------------------------------\n",
      "run                  | int32_t                  | AsDtype('>i4')\n",
      "event                | int32_t                  | AsDtype('>i4')\n",
      "numPrimaryVertices   | int32_t                  | AsDtype('>i4')\n",
      "trigger              | int32_t                  | AsDtype('>i4')\n",
      "ups_p4               | TLorentzVector           | AsStridedObjects(Model_TLor...\n",
      "muonP_p4             | TLorentzVector           | AsStridedObjects(Model_TLor...\n",
      "muonN_p4             | TLorentzVector           | AsStridedObjects(Model_TLor...\n",
      "iPVwithmuons_ups     | int32_t                  | AsDtype('>i4')\n",
      "ups_vertexWeight     | double                   | AsDtype('>f8')\n",
      "ups_vProb            | double                   | AsDtype('>f8')\n",
      "ups_vMass            | double                   | AsDtype('>f8')\n",
      "ups_vNChi2           | double                   | AsDtype('>f8')\n",
      "ups_DCA              | double                   | AsDtype('>f8')\n",
      "ups_ctauPV           | double                   | AsDtype('>f8')\n",
      "ups_ctauErrPV        | double                   | AsDtype('>f8')\n",
      "ups_lxyPV            | double                   | AsDtype('>f8')\n",
      "ups_lxyErrPV         | double                   | AsDtype('>f8')\n",
      "ups_cosAlpha         | double                   | AsDtype('>f8')\n",
      "ups_ctauBS           | double                   | AsDtype('>f8')\n",
      "ups_ctauErrBS        | double                   | AsDtype('>f8')\n",
      "ups_lxyBS            | double                   | AsDtype('>f8')\n",
      "ups_lxyErrBS         | double                   | AsDtype('>f8')\n",
      "mu1_pt               | double                   | AsDtype('>f8')\n",
      "mu1_ptErr            | double                   | AsDtype('>f8')\n",
      "mu1_d0               | double                   | AsDtype('>f8')\n",
      "mu1_d0Err            | double                   | AsDtype('>f8')\n",
      "mu1_dz               | double                   | AsDtype('>f8')\n",
      "mu1_dzErr            | double                   | AsDtype('>f8')\n",
      "mu1_dxy              | double                   | AsDtype('>f8')\n",
      "mu1_dxyErr           | double                   | AsDtype('>f8')\n",
      "mu1_nvsh             | int32_t                  | AsDtype('>i4')\n",
      "mu1_nvph             | int32_t                  | AsDtype('>i4')\n",
      "mu1_charge           | int32_t                  | AsDtype('>i4')\n",
      "mu2_pt               | double                   | AsDtype('>f8')\n",
      "mu2_ptErr            | double                   | AsDtype('>f8')\n",
      "mu2_d0               | double                   | AsDtype('>f8')\n",
      "mu2_d0Err            | double                   | AsDtype('>f8')\n",
      "mu2_dz               | double                   | AsDtype('>f8')\n",
      "mu2_dzErr            | double                   | AsDtype('>f8')\n",
      "mu2_dxy              | double                   | AsDtype('>f8')\n",
      "mu2_dxyErr           | double                   | AsDtype('>f8')\n",
      "mu2_nvsh             | int32_t                  | AsDtype('>i4')\n",
      "mu2_nvph             | int32_t                  | AsDtype('>i4')\n",
      "mu2_charge           | int32_t                  | AsDtype('>i4')\n"
     ]
    }
   ],
   "source": [
    "rootuples[\"UpsTree\"].show()"
   ]
  },
  {
   "cell_type": "code",
   "execution_count": 25,
   "metadata": {},
   "outputs": [
    {
     "name": "stderr",
     "output_type": "stream",
     "text": [
      "/lustrehome/hdhoang2001/.conda/envs/new/lib/python3.10/site-packages/uproot/interpretation/library.py:811: PerformanceWarning: DataFrame is highly fragmented.  This is usually the result of calling `frame.insert` many times, which has poor performance.  Consider joining all columns at once using pd.concat(axis=1) instead. To get a de-fragmented frame, use `newframe = frame.copy()`\n",
      "  out[name] = series[name]\n",
      "/lustrehome/hdhoang2001/.conda/envs/new/lib/python3.10/site-packages/uproot/interpretation/library.py:811: PerformanceWarning: DataFrame is highly fragmented.  This is usually the result of calling `frame.insert` many times, which has poor performance.  Consider joining all columns at once using pd.concat(axis=1) instead. To get a de-fragmented frame, use `newframe = frame.copy()`\n",
      "  out[name] = series[name]\n",
      "/lustrehome/hdhoang2001/.conda/envs/new/lib/python3.10/site-packages/uproot/interpretation/library.py:811: PerformanceWarning: DataFrame is highly fragmented.  This is usually the result of calling `frame.insert` many times, which has poor performance.  Consider joining all columns at once using pd.concat(axis=1) instead. To get a de-fragmented frame, use `newframe = frame.copy()`\n",
      "  out[name] = series[name]\n",
      "/lustrehome/hdhoang2001/.conda/envs/new/lib/python3.10/site-packages/uproot/interpretation/library.py:811: PerformanceWarning: DataFrame is highly fragmented.  This is usually the result of calling `frame.insert` many times, which has poor performance.  Consider joining all columns at once using pd.concat(axis=1) instead. To get a de-fragmented frame, use `newframe = frame.copy()`\n",
      "  out[name] = series[name]\n",
      "/lustrehome/hdhoang2001/.conda/envs/new/lib/python3.10/site-packages/uproot/interpretation/library.py:811: PerformanceWarning: DataFrame is highly fragmented.  This is usually the result of calling `frame.insert` many times, which has poor performance.  Consider joining all columns at once using pd.concat(axis=1) instead. To get a de-fragmented frame, use `newframe = frame.copy()`\n",
      "  out[name] = series[name]\n",
      "/lustrehome/hdhoang2001/.conda/envs/new/lib/python3.10/site-packages/uproot/interpretation/library.py:811: PerformanceWarning: DataFrame is highly fragmented.  This is usually the result of calling `frame.insert` many times, which has poor performance.  Consider joining all columns at once using pd.concat(axis=1) instead. To get a de-fragmented frame, use `newframe = frame.copy()`\n",
      "  out[name] = series[name]\n",
      "/lustrehome/hdhoang2001/.conda/envs/new/lib/python3.10/site-packages/uproot/interpretation/library.py:811: PerformanceWarning: DataFrame is highly fragmented.  This is usually the result of calling `frame.insert` many times, which has poor performance.  Consider joining all columns at once using pd.concat(axis=1) instead. To get a de-fragmented frame, use `newframe = frame.copy()`\n",
      "  out[name] = series[name]\n",
      "/lustrehome/hdhoang2001/.conda/envs/new/lib/python3.10/site-packages/uproot/interpretation/library.py:811: PerformanceWarning: DataFrame is highly fragmented.  This is usually the result of calling `frame.insert` many times, which has poor performance.  Consider joining all columns at once using pd.concat(axis=1) instead. To get a de-fragmented frame, use `newframe = frame.copy()`\n",
      "  out[name] = series[name]\n",
      "/lustrehome/hdhoang2001/.conda/envs/new/lib/python3.10/site-packages/uproot/interpretation/library.py:811: PerformanceWarning: DataFrame is highly fragmented.  This is usually the result of calling `frame.insert` many times, which has poor performance.  Consider joining all columns at once using pd.concat(axis=1) instead. To get a de-fragmented frame, use `newframe = frame.copy()`\n",
      "  out[name] = series[name]\n",
      "/lustrehome/hdhoang2001/.conda/envs/new/lib/python3.10/site-packages/uproot/interpretation/library.py:811: PerformanceWarning: DataFrame is highly fragmented.  This is usually the result of calling `frame.insert` many times, which has poor performance.  Consider joining all columns at once using pd.concat(axis=1) instead. To get a de-fragmented frame, use `newframe = frame.copy()`\n",
      "  out[name] = series[name]\n",
      "/lustrehome/hdhoang2001/.conda/envs/new/lib/python3.10/site-packages/uproot/interpretation/library.py:811: PerformanceWarning: DataFrame is highly fragmented.  This is usually the result of calling `frame.insert` many times, which has poor performance.  Consider joining all columns at once using pd.concat(axis=1) instead. To get a de-fragmented frame, use `newframe = frame.copy()`\n",
      "  out[name] = series[name]\n",
      "/lustrehome/hdhoang2001/.conda/envs/new/lib/python3.10/site-packages/uproot/interpretation/library.py:811: PerformanceWarning: DataFrame is highly fragmented.  This is usually the result of calling `frame.insert` many times, which has poor performance.  Consider joining all columns at once using pd.concat(axis=1) instead. To get a de-fragmented frame, use `newframe = frame.copy()`\n",
      "  out[name] = series[name]\n",
      "/lustrehome/hdhoang2001/.conda/envs/new/lib/python3.10/site-packages/uproot/interpretation/library.py:811: PerformanceWarning: DataFrame is highly fragmented.  This is usually the result of calling `frame.insert` many times, which has poor performance.  Consider joining all columns at once using pd.concat(axis=1) instead. To get a de-fragmented frame, use `newframe = frame.copy()`\n",
      "  out[name] = series[name]\n",
      "/lustrehome/hdhoang2001/.conda/envs/new/lib/python3.10/site-packages/uproot/interpretation/library.py:811: PerformanceWarning: DataFrame is highly fragmented.  This is usually the result of calling `frame.insert` many times, which has poor performance.  Consider joining all columns at once using pd.concat(axis=1) instead. To get a de-fragmented frame, use `newframe = frame.copy()`\n",
      "  out[name] = series[name]\n",
      "/lustrehome/hdhoang2001/.conda/envs/new/lib/python3.10/site-packages/uproot/interpretation/library.py:811: PerformanceWarning: DataFrame is highly fragmented.  This is usually the result of calling `frame.insert` many times, which has poor performance.  Consider joining all columns at once using pd.concat(axis=1) instead. To get a de-fragmented frame, use `newframe = frame.copy()`\n",
      "  out[name] = series[name]\n",
      "/lustrehome/hdhoang2001/.conda/envs/new/lib/python3.10/site-packages/uproot/interpretation/library.py:811: PerformanceWarning: DataFrame is highly fragmented.  This is usually the result of calling `frame.insert` many times, which has poor performance.  Consider joining all columns at once using pd.concat(axis=1) instead. To get a de-fragmented frame, use `newframe = frame.copy()`\n",
      "  out[name] = series[name]\n",
      "/lustrehome/hdhoang2001/.conda/envs/new/lib/python3.10/site-packages/uproot/interpretation/library.py:811: PerformanceWarning: DataFrame is highly fragmented.  This is usually the result of calling `frame.insert` many times, which has poor performance.  Consider joining all columns at once using pd.concat(axis=1) instead. To get a de-fragmented frame, use `newframe = frame.copy()`\n",
      "  out[name] = series[name]\n",
      "/lustrehome/hdhoang2001/.conda/envs/new/lib/python3.10/site-packages/uproot/interpretation/library.py:811: PerformanceWarning: DataFrame is highly fragmented.  This is usually the result of calling `frame.insert` many times, which has poor performance.  Consider joining all columns at once using pd.concat(axis=1) instead. To get a de-fragmented frame, use `newframe = frame.copy()`\n",
      "  out[name] = series[name]\n",
      "/lustrehome/hdhoang2001/.conda/envs/new/lib/python3.10/site-packages/uproot/interpretation/library.py:811: PerformanceWarning: DataFrame is highly fragmented.  This is usually the result of calling `frame.insert` many times, which has poor performance.  Consider joining all columns at once using pd.concat(axis=1) instead. To get a de-fragmented frame, use `newframe = frame.copy()`\n",
      "  out[name] = series[name]\n",
      "/lustrehome/hdhoang2001/.conda/envs/new/lib/python3.10/site-packages/uproot/interpretation/library.py:811: PerformanceWarning: DataFrame is highly fragmented.  This is usually the result of calling `frame.insert` many times, which has poor performance.  Consider joining all columns at once using pd.concat(axis=1) instead. To get a de-fragmented frame, use `newframe = frame.copy()`\n",
      "  out[name] = series[name]\n"
     ]
    },
    {
     "name": "stderr",
     "output_type": "stream",
     "text": [
      "/lustrehome/hdhoang2001/.conda/envs/new/lib/python3.10/site-packages/uproot/interpretation/library.py:811: PerformanceWarning: DataFrame is highly fragmented.  This is usually the result of calling `frame.insert` many times, which has poor performance.  Consider joining all columns at once using pd.concat(axis=1) instead. To get a de-fragmented frame, use `newframe = frame.copy()`\n",
      "  out[name] = series[name]\n",
      "/lustrehome/hdhoang2001/.conda/envs/new/lib/python3.10/site-packages/uproot/interpretation/library.py:811: PerformanceWarning: DataFrame is highly fragmented.  This is usually the result of calling `frame.insert` many times, which has poor performance.  Consider joining all columns at once using pd.concat(axis=1) instead. To get a de-fragmented frame, use `newframe = frame.copy()`\n",
      "  out[name] = series[name]\n",
      "/lustrehome/hdhoang2001/.conda/envs/new/lib/python3.10/site-packages/uproot/interpretation/library.py:811: PerformanceWarning: DataFrame is highly fragmented.  This is usually the result of calling `frame.insert` many times, which has poor performance.  Consider joining all columns at once using pd.concat(axis=1) instead. To get a de-fragmented frame, use `newframe = frame.copy()`\n",
      "  out[name] = series[name]\n",
      "/lustrehome/hdhoang2001/.conda/envs/new/lib/python3.10/site-packages/uproot/interpretation/library.py:811: PerformanceWarning: DataFrame is highly fragmented.  This is usually the result of calling `frame.insert` many times, which has poor performance.  Consider joining all columns at once using pd.concat(axis=1) instead. To get a de-fragmented frame, use `newframe = frame.copy()`\n",
      "  out[name] = series[name]\n",
      "/lustrehome/hdhoang2001/.conda/envs/new/lib/python3.10/site-packages/uproot/interpretation/library.py:811: PerformanceWarning: DataFrame is highly fragmented.  This is usually the result of calling `frame.insert` many times, which has poor performance.  Consider joining all columns at once using pd.concat(axis=1) instead. To get a de-fragmented frame, use `newframe = frame.copy()`\n",
      "  out[name] = series[name]\n",
      "/lustrehome/hdhoang2001/.conda/envs/new/lib/python3.10/site-packages/uproot/interpretation/library.py:811: PerformanceWarning: DataFrame is highly fragmented.  This is usually the result of calling `frame.insert` many times, which has poor performance.  Consider joining all columns at once using pd.concat(axis=1) instead. To get a de-fragmented frame, use `newframe = frame.copy()`\n",
      "  out[name] = series[name]\n",
      "/lustrehome/hdhoang2001/.conda/envs/new/lib/python3.10/site-packages/uproot/interpretation/library.py:811: PerformanceWarning: DataFrame is highly fragmented.  This is usually the result of calling `frame.insert` many times, which has poor performance.  Consider joining all columns at once using pd.concat(axis=1) instead. To get a de-fragmented frame, use `newframe = frame.copy()`\n",
      "  out[name] = series[name]\n",
      "/lustrehome/hdhoang2001/.conda/envs/new/lib/python3.10/site-packages/uproot/interpretation/library.py:811: PerformanceWarning: DataFrame is highly fragmented.  This is usually the result of calling `frame.insert` many times, which has poor performance.  Consider joining all columns at once using pd.concat(axis=1) instead. To get a de-fragmented frame, use `newframe = frame.copy()`\n",
      "  out[name] = series[name]\n",
      "/lustrehome/hdhoang2001/.conda/envs/new/lib/python3.10/site-packages/uproot/interpretation/library.py:811: PerformanceWarning: DataFrame is highly fragmented.  This is usually the result of calling `frame.insert` many times, which has poor performance.  Consider joining all columns at once using pd.concat(axis=1) instead. To get a de-fragmented frame, use `newframe = frame.copy()`\n",
      "  out[name] = series[name]\n",
      "/lustrehome/hdhoang2001/.conda/envs/new/lib/python3.10/site-packages/uproot/interpretation/library.py:811: PerformanceWarning: DataFrame is highly fragmented.  This is usually the result of calling `frame.insert` many times, which has poor performance.  Consider joining all columns at once using pd.concat(axis=1) instead. To get a de-fragmented frame, use `newframe = frame.copy()`\n",
      "  out[name] = series[name]\n",
      "/lustrehome/hdhoang2001/.conda/envs/new/lib/python3.10/site-packages/uproot/interpretation/library.py:811: PerformanceWarning: DataFrame is highly fragmented.  This is usually the result of calling `frame.insert` many times, which has poor performance.  Consider joining all columns at once using pd.concat(axis=1) instead. To get a de-fragmented frame, use `newframe = frame.copy()`\n",
      "  out[name] = series[name]\n",
      "/lustrehome/hdhoang2001/.conda/envs/new/lib/python3.10/site-packages/uproot/interpretation/library.py:811: PerformanceWarning: DataFrame is highly fragmented.  This is usually the result of calling `frame.insert` many times, which has poor performance.  Consider joining all columns at once using pd.concat(axis=1) instead. To get a de-fragmented frame, use `newframe = frame.copy()`\n",
      "  out[name] = series[name]\n",
      "/lustrehome/hdhoang2001/.conda/envs/new/lib/python3.10/site-packages/uproot/interpretation/library.py:811: PerformanceWarning: DataFrame is highly fragmented.  This is usually the result of calling `frame.insert` many times, which has poor performance.  Consider joining all columns at once using pd.concat(axis=1) instead. To get a de-fragmented frame, use `newframe = frame.copy()`\n",
      "  out[name] = series[name]\n",
      "/lustrehome/hdhoang2001/.conda/envs/new/lib/python3.10/site-packages/uproot/interpretation/library.py:811: PerformanceWarning: DataFrame is highly fragmented.  This is usually the result of calling `frame.insert` many times, which has poor performance.  Consider joining all columns at once using pd.concat(axis=1) instead. To get a de-fragmented frame, use `newframe = frame.copy()`\n",
      "  out[name] = series[name]\n",
      "/lustrehome/hdhoang2001/.conda/envs/new/lib/python3.10/site-packages/uproot/interpretation/library.py:811: PerformanceWarning: DataFrame is highly fragmented.  This is usually the result of calling `frame.insert` many times, which has poor performance.  Consider joining all columns at once using pd.concat(axis=1) instead. To get a de-fragmented frame, use `newframe = frame.copy()`\n",
      "  out[name] = series[name]\n"
     ]
    }
   ],
   "source": [
    "rootuples[\"CandidateTree\"].arrays(library=\"pd\")"
   ]
  },
  {
   "cell_type": "code",
   "execution_count": 12,
   "metadata": {},
   "outputs": [],
   "source": [
    "dataframe.to_hdf(\"candidate_tree.h5\", key=\"sdf\")"
   ]
  },
  {
   "cell_type": "code",
   "execution_count": 4,
   "metadata": {},
   "outputs": [],
   "source": [
    "ups_tree = pandas.read_hdf(\"raw/ups_tree.h5\")\n",
    "candidate_tree = pandas.read_hdf(\"raw/candidate_tree.h5\")"
   ]
  },
  {
   "cell_type": "code",
   "execution_count": 30,
   "metadata": {},
   "outputs": [
    {
     "name": "stdout",
     "output_type": "stream",
     "text": [
      "name                 | typename                 | interpretation                \n",
      "---------------------+--------------------------+-------------------------------\n",
      "run                  | int32_t                  | AsDtype('>i4')\n",
      "event                | int32_t                  | AsDtype('>i4')\n",
      "nCandPerEvent        | int32_t                  | AsDtype('>i4')\n",
      "numPrimaryVertices   | int32_t                  | AsDtype('>i4')\n",
      "trigger              | int32_t                  | AsDtype('>i4')\n",
      "candidate_p4         | TLorentzVector           | AsStridedObjects(Model_TLor...\n",
      "track1_p4            | TLorentzVector           | AsStridedObjects(Model_TLor...\n",
      "track2_p4            | TLorentzVector           | AsStridedObjects(Model_TLor...\n",
      "ditrack_p4           | TLorentzVector           | AsStridedObjects(Model_TLor...\n",
      "dimuon_p4            | TLorentzVector           | AsStridedObjects(Model_TLor...\n",
      "muonp_p4             | TLorentzVector           | AsStridedObjects(Model_TLor...\n",
      "muonn_p4             | TLorentzVector           | AsStridedObjects(Model_TLor...\n",
      "invm1Skk             | double                   | AsDtype('>f8')\n",
      "invm2Skk             | double                   | AsDtype('>f8')\n",
      "iPVwithmuons         | int32_t                  | AsDtype('>i4')\n",
      "dimuon_vertexWeight  | int32_t                  | AsDtype('>i4')\n",
      "dimuon_vProb         | double                   | AsDtype('>f8')\n",
      "dimuon_vNChi2        | double                   | AsDtype('>f8')\n",
      "dimuon_DCA           | double                   | AsDtype('>f8')\n",
      "dimuon_ctauPV        | double                   | AsDtype('>f8')\n",
      "dimuon_ctauErrPV     | double                   | AsDtype('>f8')\n",
      "dimuon_cosAlpha      | double                   | AsDtype('>f8')\n",
      "dimuon_nSigma        | double                   | AsDtype('>f8')\n",
      "candidate_vMass      | double                   | AsDtype('>f8')\n",
      "candidate_vProb      | double                   | AsDtype('>f8')\n",
      "candidate_vChi2      | double                   | AsDtype('>f8')\n",
      "candidate_cosAlpha   | double                   | AsDtype('>f8')\n",
      "candidate_ctauPV     | double                   | AsDtype('>f8')\n",
      "candidate_ctauErrPV  | double                   | AsDtype('>f8')\n",
      "candidate_charge     | int32_t                  | AsDtype('>i4')\n",
      "candidate_lxy        | double                   | AsDtype('>f8')\n",
      "candidate_lxyErr     | double                   | AsDtype('>f8')\n",
      "candidate_lxyz       | double                   | AsDtype('>f8')\n",
      "candidate_lxyzErr    | double                   | AsDtype('>f8')\n",
      "ditrack_mass         | double                   | AsDtype('>f8')\n",
      "thePrimaryV_X        | double                   | AsDtype('>f8')\n",
      "thePrimaryV_Y        | double                   | AsDtype('>f8')\n",
      "thePrimaryV_Z        | double                   | AsDtype('>f8')\n",
      "TheDecayVertex_X     | double                   | AsDtype('>f8')\n",
      "TheDecayVertex_Y     | double                   | AsDtype('>f8')\n",
      "TheDecayVertex_Z     | double                   | AsDtype('>f8')\n",
      "thePrimaryV_2D_po... | double                   | AsDtype('>f8')\n",
      "thePrimaryV_3D_po... | double                   | AsDtype('>f8')\n",
      "TheDecayVertex_2D... | double                   | AsDtype('>f8')\n",
      "TheDecayVertex_3D... | double                   | AsDtype('>f8')\n",
      "TheVertexDistance_2D | double                   | AsDtype('>f8')\n",
      "TheVertexDistance_3D | double                   | AsDtype('>f8')\n",
      "track1_d0            | double                   | AsDtype('>f8')\n",
      "track1_d0Err         | double                   | AsDtype('>f8')\n",
      "track1_dz            | double                   | AsDtype('>f8')\n",
      "track1_dzErr         | double                   | AsDtype('>f8')\n",
      "track1_dxy           | double                   | AsDtype('>f8')\n",
      "track1_dxyErr        | double                   | AsDtype('>f8')\n",
      "track1_nvsh          | int32_t                  | AsDtype('>i4')\n",
      "track1_nvph          | int32_t                  | AsDtype('>i4')\n",
      "track1_dRdimuon      | double                   | AsDtype('>f8')\n",
      "track1_charge        | double                   | AsDtype('>f8')\n",
      "track1_PV            | int32_t                  | AsDtype('>i4')\n",
      "track1_refVtx        | int32_t                  | AsDtype('>i4')\n",
      "track1_pvAssocQ      | int32_t                  | AsDtype('>i4')\n",
      "track1_dzAssocPV     | double                   | AsDtype('>f8')\n",
      "track2_d0            | double                   | AsDtype('>f8')\n",
      "track2_d0Err         | double                   | AsDtype('>f8')\n",
      "track2_dz            | double                   | AsDtype('>f8')\n",
      "track2_dzErr         | double                   | AsDtype('>f8')\n",
      "track2_dxy           | double                   | AsDtype('>f8')\n",
      "track2_dxyErr        | double                   | AsDtype('>f8')\n",
      "track2_nvsh          | int32_t                  | AsDtype('>i4')\n",
      "track2_nvph          | int32_t                  | AsDtype('>i4')\n",
      "track2_dRdimuon      | double                   | AsDtype('>f8')\n",
      "track2_charge        | double                   | AsDtype('>f8')\n",
      "track2_PV            | int32_t                  | AsDtype('>i4')\n",
      "track2_refVtx        | int32_t                  | AsDtype('>i4')\n",
      "track2_pvAssocQ      | int32_t                  | AsDtype('>i4')\n",
      "track2_dzAssocPV     | double                   | AsDtype('>f8')\n",
      "ditrack_dRdimuon     | double                   | AsDtype('>f8')\n",
      "track1_SQopQop       | double                   | AsDtype('>f8')\n",
      "track1_SQopLam       | double                   | AsDtype('>f8')\n",
      "track1_SQopPhi       | double                   | AsDtype('>f8')\n",
      "track1_SQopDxy       | double                   | AsDtype('>f8')\n",
      "track1_SQopDsz       | double                   | AsDtype('>f8')\n",
      "track1_SLamLam       | double                   | AsDtype('>f8')\n",
      "track1_SLamPhi       | double                   | AsDtype('>f8')\n",
      "track1_SLamDxy       | double                   | AsDtype('>f8')\n",
      "track1_SLamDsz       | double                   | AsDtype('>f8')\n",
      "track1_SPhiPhi       | double                   | AsDtype('>f8')\n",
      "track1_SPhiDxy       | double                   | AsDtype('>f8')\n",
      "track1_SPhiDsz       | double                   | AsDtype('>f8')\n",
      "track1_SDxyDxy       | double                   | AsDtype('>f8')\n",
      "track1_SDxyDsz       | double                   | AsDtype('>f8')\n",
      "track1_SDszDsz       | double                   | AsDtype('>f8')\n",
      "track2_SQopQop       | double                   | AsDtype('>f8')\n",
      "track2_SQopLam       | double                   | AsDtype('>f8')\n",
      "track2_SQopPhi       | double                   | AsDtype('>f8')\n",
      "track2_SQopDxy       | double                   | AsDtype('>f8')\n",
      "track2_SQopDsz       | double                   | AsDtype('>f8')\n",
      "track2_SLamLam       | double                   | AsDtype('>f8')\n",
      "track2_SLamPhi       | double                   | AsDtype('>f8')\n",
      "track2_SLamDxy       | double                   | AsDtype('>f8')\n",
      "track2_SLamDsz       | double                   | AsDtype('>f8')\n",
      "track2_SPhiPhi       | double                   | AsDtype('>f8')\n",
      "track2_SPhiDxy       | double                   | AsDtype('>f8')\n",
      "track2_SPhiDsz       | double                   | AsDtype('>f8')\n",
      "track2_SDxyDxy       | double                   | AsDtype('>f8')\n",
      "track2_SDxyDsz       | double                   | AsDtype('>f8')\n",
      "track2_SDszDsz       | double                   | AsDtype('>f8')\n",
      "vChi2KalmanKK        | double                   | AsDtype('>f8')\n",
      "vNDFKalmanKK         | double                   | AsDtype('>f8')\n",
      "vProbKalmanKK        | double                   | AsDtype('>f8')\n",
      "vChi2KinematicKK     | double                   | AsDtype('>f8')\n",
      "vNDFKinematicKK      | double                   | AsDtype('>f8')\n",
      "vProbKinematicKK     | double                   | AsDtype('>f8')\n",
      "track1_minEigen      | double                   | AsDtype('>f8')\n",
      "track2_minEigen      | double                   | AsDtype('>f8')\n"
     ]
    }
   ],
   "source": [
    "rootuples[\"CandidateTree\"].show()"
   ]
  },
  {
   "cell_type": "code",
   "execution_count": 22,
   "metadata": {},
   "outputs": [
    {
     "data": {
      "text/html": [
       "<div>\n",
       "<style scoped>\n",
       "    .dataframe tbody tr th:only-of-type {\n",
       "        vertical-align: middle;\n",
       "    }\n",
       "\n",
       "    .dataframe tbody tr th {\n",
       "        vertical-align: top;\n",
       "    }\n",
       "\n",
       "    .dataframe thead th {\n",
       "        text-align: right;\n",
       "    }\n",
       "</style>\n",
       "<table border=\"1\" class=\"dataframe\">\n",
       "  <thead>\n",
       "    <tr style=\"text-align: right;\">\n",
       "      <th></th>\n",
       "      <th>fX</th>\n",
       "      <th>fY</th>\n",
       "      <th>fZ</th>\n",
       "    </tr>\n",
       "  </thead>\n",
       "  <tbody>\n",
       "    <tr>\n",
       "      <th>0</th>\n",
       "      <td>-12.896234</td>\n",
       "      <td>13.289232</td>\n",
       "      <td>34.000256</td>\n",
       "    </tr>\n",
       "    <tr>\n",
       "      <th>1</th>\n",
       "      <td>-12.772388</td>\n",
       "      <td>13.479754</td>\n",
       "      <td>33.044973</td>\n",
       "    </tr>\n",
       "    <tr>\n",
       "      <th>2</th>\n",
       "      <td>-13.169571</td>\n",
       "      <td>13.749406</td>\n",
       "      <td>32.852437</td>\n",
       "    </tr>\n",
       "    <tr>\n",
       "      <th>3</th>\n",
       "      <td>-12.566837</td>\n",
       "      <td>13.877199</td>\n",
       "      <td>32.822862</td>\n",
       "    </tr>\n",
       "    <tr>\n",
       "      <th>4</th>\n",
       "      <td>-12.983646</td>\n",
       "      <td>13.571666</td>\n",
       "      <td>35.334902</td>\n",
       "    </tr>\n",
       "    <tr>\n",
       "      <th>...</th>\n",
       "      <td>...</td>\n",
       "      <td>...</td>\n",
       "      <td>...</td>\n",
       "    </tr>\n",
       "    <tr>\n",
       "      <th>2877341</th>\n",
       "      <td>11.095191</td>\n",
       "      <td>-11.903943</td>\n",
       "      <td>3.114333</td>\n",
       "    </tr>\n",
       "    <tr>\n",
       "      <th>2877342</th>\n",
       "      <td>11.259276</td>\n",
       "      <td>-11.981278</td>\n",
       "      <td>3.325361</td>\n",
       "    </tr>\n",
       "    <tr>\n",
       "      <th>2877343</th>\n",
       "      <td>11.155286</td>\n",
       "      <td>-12.059712</td>\n",
       "      <td>3.203376</td>\n",
       "    </tr>\n",
       "    <tr>\n",
       "      <th>2877344</th>\n",
       "      <td>11.087811</td>\n",
       "      <td>-11.568732</td>\n",
       "      <td>3.103587</td>\n",
       "    </tr>\n",
       "    <tr>\n",
       "      <th>2877345</th>\n",
       "      <td>12.038861</td>\n",
       "      <td>-13.379467</td>\n",
       "      <td>2.848839</td>\n",
       "    </tr>\n",
       "  </tbody>\n",
       "</table>\n",
       "<p>2877346 rows × 3 columns</p>\n",
       "</div>"
      ],
      "text/plain": [
       "                fX         fY         fZ\n",
       "0       -12.896234  13.289232  34.000256\n",
       "1       -12.772388  13.479754  33.044973\n",
       "2       -13.169571  13.749406  32.852437\n",
       "3       -12.566837  13.877199  32.822862\n",
       "4       -12.983646  13.571666  35.334902\n",
       "...            ...        ...        ...\n",
       "2877341  11.095191 -11.903943   3.114333\n",
       "2877342  11.259276 -11.981278   3.325361\n",
       "2877343  11.155286 -12.059712   3.203376\n",
       "2877344  11.087811 -11.568732   3.103587\n",
       "2877345  12.038861 -13.379467   2.848839\n",
       "\n",
       "[2877346 rows x 3 columns]"
      ]
     },
     "execution_count": 22,
     "metadata": {},
     "output_type": "execute_result"
    }
   ],
   "source": [
    "candidate_tree['candidate_p4']['fP']"
   ]
  },
  {
   "cell_type": "code",
   "execution_count": null,
   "metadata": {},
   "outputs": [],
   "source": [
    "candidate_tree = candidate_tree.drop(candidate_tree[candidate_tree.candidate_vProb < 0.1].index)"
   ]
  },
  {
   "cell_type": "code",
   "execution_count": 13,
   "metadata": {},
   "outputs": [],
   "source": [
    "candidate_tree.insert(1, \"candidate_fP\", (candidate_tree['candidate_p4']['fP']['fX']**2 + candidate_tree['candidate_p4']['fP']['fY']**2 + candidate_tree['candidate_p4']['fP']['fZ']**2) ** 0.5)"
   ]
  },
  {
   "cell_type": "code",
   "execution_count": 28,
   "metadata": {},
   "outputs": [
    {
     "name": "stderr",
     "output_type": "stream",
     "text": [
      "/tmp/ipykernel_16688/2319003831.py:1: PerformanceWarning: dropping on a non-lexsorted multi-index without a level parameter may impact performance.\n",
      "  candidate_tree = candidate_tree.drop(columns=\"fP\")\n"
     ]
    }
   ],
   "source": [
    "candidate_tree = candidate_tree.drop(columns=\"fP\")"
   ]
  },
  {
   "cell_type": "code",
   "execution_count": 43,
   "metadata": {},
   "outputs": [
    {
     "data": {
      "text/plain": [
       "0          38.716068\n",
       "1          37.905249\n",
       "2          37.970599\n",
       "3          37.786801\n",
       "4          40.016503\n",
       "             ...    \n",
       "2877341    16.568228\n",
       "2877342    16.774396\n",
       "2877343    16.737344\n",
       "2877344    16.321990\n",
       "2877345    18.222519\n",
       "Name: candidate_fP, Length: 2877346, dtype: float64"
      ]
     },
     "execution_count": 43,
     "metadata": {},
     "output_type": "execute_result"
    }
   ],
   "source": [
    "candidate_tree[\"candidate_fP\"]"
   ]
  },
  {
   "cell_type": "code",
   "execution_count": 14,
   "metadata": {},
   "outputs": [
    {
     "data": {
      "text/plain": [
       "<AxesSubplot:>"
      ]
     },
     "execution_count": 14,
     "metadata": {},
     "output_type": "execute_result"
    },
    {
     "data": {
      "image/png": "[encoded data removed]",
      "text/plain": [
       "<Figure size 1080x360 with 1 Axes>"
      ]
     },
     "metadata": {
      "needs_background": "light"
     },
     "output_type": "display_data"
    }
   ],
   "source": [
    "candidate_tree.insert(1, \"candidate_m\", (candidate_tree['candidate_p4']['fE']**2 - candidate_tree['candidate_fP']**2) ** 0.5)\n",
    "candidate_tree[\"candidate_m\"].hist(bins=200, figsize=(15, 5))"
   ]
  },
  {
   "cell_type": "code",
   "execution_count": 15,
   "metadata": {},
   "outputs": [
    {
     "data": {
      "text/plain": [
       "<AxesSubplot:>"
      ]
     },
     "execution_count": 15,
     "metadata": {},
     "output_type": "execute_result"
    },
    {
     "data": {
      "image/png": "[encoded data removed]",
      "text/plain": [
       "<Figure size 1080x360 with 1 Axes>"
      ]
     },
     "metadata": {
      "needs_background": "light"
     },
     "output_type": "display_data"
    }
   ],
   "source": [
    "candidate_tree['candidate_vMass'].hist(bins=200, figsize=(15, 5))"
   ]
  },
  {
   "cell_type": "code",
   "execution_count": 1,
   "metadata": {},
   "outputs": [
    {
     "ename": "NameError",
     "evalue": "name 'candidate_tree' is not defined",
     "output_type": "error",
     "traceback": [
      "\u001b[0;31m---------------------------------------------------------------------------\u001b[0m",
      "\u001b[0;31mNameError\u001b[0m                                 Traceback (most recent call last)",
      "Input \u001b[0;32mIn [1]\u001b[0m, in \u001b[0;36m<cell line: 1>\u001b[0;34m()\u001b[0m\n\u001b[0;32m----> 1\u001b[0m \u001b[43mcandidate_tree\u001b[49m[\u001b[38;5;124m'\u001b[39m\u001b[38;5;124mcandidate_cosAlpha \u001b[39m\u001b[38;5;124m'\u001b[39m]\u001b[38;5;241m.\u001b[39mhist(bins\u001b[38;5;241m=\u001b[39m\u001b[38;5;241m10\u001b[39m, figsize\u001b[38;5;241m=\u001b[39m(\u001b[38;5;241m15\u001b[39m, \u001b[38;5;241m5\u001b[39m))\n",
      "\u001b[0;31mNameError\u001b[0m: name 'candidate_tree' is not defined"
     ]
    }
   ],
   "source": [
    "candidate_tree['candidate_cosAlpha '].hist(bins=10, figsize=(15, 5))"
   ]
  },
  {
   "cell_type": "code",
   "execution_count": 91,
   "metadata": {},
   "outputs": [],
   "source": [
    "candidate_tree = candidate_tree.drop(candidate_tree[candidate_tree.candidate_cosAlpha < 0.99].index)"
   ]
  },
  {
   "cell_type": "code",
   "execution_count": 92,
   "metadata": {},
   "outputs": [
    {
     "data": {
      "text/plain": [
       "<AxesSubplot:>"
      ]
     },
     "execution_count": 92,
     "metadata": {},
     "output_type": "execute_result"
    },
    {
     "data": {
      "image/png": "[encoded data removed]",
      "text/plain": [
       "<Figure size 1080x360 with 1 Axes>"
      ]
     },
     "metadata": {
      "needs_background": "light"
     },
     "output_type": "display_data"
    }
   ],
   "source": [
    "abs(candidate_tree['candidate_cosAlpha']).hist(bins=20, figsize=(15, 5))"
   ]
  },
  {
   "cell_type": "code",
   "execution_count": 93,
   "metadata": {},
   "outputs": [
    {
     "data": {
      "text/html": [
       "<div>\n",
       "<style scoped>\n",
       "    .dataframe tbody tr th:only-of-type {\n",
       "        vertical-align: middle;\n",
       "    }\n",
       "\n",
       "    .dataframe tbody tr th {\n",
       "        vertical-align: top;\n",
       "    }\n",
       "\n",
       "    .dataframe thead tr th {\n",
       "        text-align: left;\n",
       "    }\n",
       "</style>\n",
       "<table border=\"1\" class=\"dataframe\">\n",
       "  <thead>\n",
       "    <tr>\n",
       "      <th></th>\n",
       "      <th>run</th>\n",
       "      <th>event</th>\n",
       "      <th>nCandPerEvent</th>\n",
       "      <th>numPrimaryVertices</th>\n",
       "      <th>trigger</th>\n",
       "      <th colspan=\"4\" halign=\"left\">candidate_p4</th>\n",
       "      <th>track1_p4</th>\n",
       "      <th>...</th>\n",
       "      <th>track2_SDxyDsz</th>\n",
       "      <th>track2_SDszDsz</th>\n",
       "      <th>vChi2KalmanKK</th>\n",
       "      <th>vNDFKalmanKK</th>\n",
       "      <th>vProbKalmanKK</th>\n",
       "      <th>vChi2KinematicKK</th>\n",
       "      <th>vNDFKinematicKK</th>\n",
       "      <th>vProbKinematicKK</th>\n",
       "      <th>track1_minEigen</th>\n",
       "      <th>track2_minEigen</th>\n",
       "    </tr>\n",
       "    <tr>\n",
       "      <th></th>\n",
       "      <th></th>\n",
       "      <th></th>\n",
       "      <th></th>\n",
       "      <th></th>\n",
       "      <th></th>\n",
       "      <th colspan=\"3\" halign=\"left\">fP</th>\n",
       "      <th>fE</th>\n",
       "      <th>fP</th>\n",
       "      <th>...</th>\n",
       "      <th></th>\n",
       "      <th></th>\n",
       "      <th></th>\n",
       "      <th></th>\n",
       "      <th></th>\n",
       "      <th></th>\n",
       "      <th></th>\n",
       "      <th></th>\n",
       "      <th></th>\n",
       "      <th></th>\n",
       "    </tr>\n",
       "    <tr>\n",
       "      <th></th>\n",
       "      <th></th>\n",
       "      <th></th>\n",
       "      <th></th>\n",
       "      <th></th>\n",
       "      <th></th>\n",
       "      <th>fX</th>\n",
       "      <th>fY</th>\n",
       "      <th>fZ</th>\n",
       "      <th></th>\n",
       "      <th>fX</th>\n",
       "      <th>...</th>\n",
       "      <th></th>\n",
       "      <th></th>\n",
       "      <th></th>\n",
       "      <th></th>\n",
       "      <th></th>\n",
       "      <th></th>\n",
       "      <th></th>\n",
       "      <th></th>\n",
       "      <th></th>\n",
       "      <th></th>\n",
       "    </tr>\n",
       "  </thead>\n",
       "  <tbody>\n",
       "    <tr>\n",
       "      <th>0</th>\n",
       "      <td>323841</td>\n",
       "      <td>552354231</td>\n",
       "      <td>29</td>\n",
       "      <td>31</td>\n",
       "      <td>0</td>\n",
       "      <td>-12.896234</td>\n",
       "      <td>13.289232</td>\n",
       "      <td>34.000256</td>\n",
       "      <td>39.082240</td>\n",
       "      <td>-0.511994</td>\n",
       "      <td>...</td>\n",
       "      <td>4.043407e-06</td>\n",
       "      <td>0.000236</td>\n",
       "      <td>0.069050</td>\n",
       "      <td>1.0</td>\n",
       "      <td>0.792726</td>\n",
       "      <td>0.069050</td>\n",
       "      <td>1.0</td>\n",
       "      <td>0.792726</td>\n",
       "      <td>2.914304e-07</td>\n",
       "      <td>-1.049484e-05</td>\n",
       "    </tr>\n",
       "    <tr>\n",
       "      <th>1</th>\n",
       "      <td>323841</td>\n",
       "      <td>552354231</td>\n",
       "      <td>29</td>\n",
       "      <td>31</td>\n",
       "      <td>0</td>\n",
       "      <td>-12.772388</td>\n",
       "      <td>13.479754</td>\n",
       "      <td>33.044973</td>\n",
       "      <td>38.250056</td>\n",
       "      <td>-0.460510</td>\n",
       "      <td>...</td>\n",
       "      <td>2.727896e-07</td>\n",
       "      <td>0.000154</td>\n",
       "      <td>0.998792</td>\n",
       "      <td>1.0</td>\n",
       "      <td>0.317603</td>\n",
       "      <td>0.998792</td>\n",
       "      <td>1.0</td>\n",
       "      <td>0.317603</td>\n",
       "      <td>-1.049484e-05</td>\n",
       "      <td>-6.740497e-07</td>\n",
       "    </tr>\n",
       "    <tr>\n",
       "      <th>29</th>\n",
       "      <td>323841</td>\n",
       "      <td>551198558</td>\n",
       "      <td>2</td>\n",
       "      <td>30</td>\n",
       "      <td>0</td>\n",
       "      <td>14.102908</td>\n",
       "      <td>-7.387182</td>\n",
       "      <td>13.949071</td>\n",
       "      <td>21.640259</td>\n",
       "      <td>1.580473</td>\n",
       "      <td>...</td>\n",
       "      <td>2.452710e-07</td>\n",
       "      <td>0.000033</td>\n",
       "      <td>0.018591</td>\n",
       "      <td>1.0</td>\n",
       "      <td>0.891546</td>\n",
       "      <td>0.018591</td>\n",
       "      <td>1.0</td>\n",
       "      <td>0.891546</td>\n",
       "      <td>1.241960e-07</td>\n",
       "      <td>1.938872e-07</td>\n",
       "    </tr>\n",
       "    <tr>\n",
       "      <th>181</th>\n",
       "      <td>323841</td>\n",
       "      <td>551272561</td>\n",
       "      <td>17</td>\n",
       "      <td>26</td>\n",
       "      <td>0</td>\n",
       "      <td>18.754642</td>\n",
       "      <td>-7.422967</td>\n",
       "      <td>-49.670005</td>\n",
       "      <td>53.931184</td>\n",
       "      <td>0.587341</td>\n",
       "      <td>...</td>\n",
       "      <td>1.813705e-06</td>\n",
       "      <td>0.000086</td>\n",
       "      <td>0.496986</td>\n",
       "      <td>1.0</td>\n",
       "      <td>0.480828</td>\n",
       "      <td>0.496986</td>\n",
       "      <td>1.0</td>\n",
       "      <td>0.480828</td>\n",
       "      <td>-2.198772e-06</td>\n",
       "      <td>-7.917231e-07</td>\n",
       "    </tr>\n",
       "    <tr>\n",
       "      <th>182</th>\n",
       "      <td>323841</td>\n",
       "      <td>551272561</td>\n",
       "      <td>17</td>\n",
       "      <td>26</td>\n",
       "      <td>0</td>\n",
       "      <td>20.036696</td>\n",
       "      <td>-7.456149</td>\n",
       "      <td>-54.811826</td>\n",
       "      <td>59.020910</td>\n",
       "      <td>1.169277</td>\n",
       "      <td>...</td>\n",
       "      <td>2.354937e-07</td>\n",
       "      <td>0.000038</td>\n",
       "      <td>0.036609</td>\n",
       "      <td>1.0</td>\n",
       "      <td>0.848263</td>\n",
       "      <td>0.036609</td>\n",
       "      <td>1.0</td>\n",
       "      <td>0.848263</td>\n",
       "      <td>1.323121e-08</td>\n",
       "      <td>-2.660625e-09</td>\n",
       "    </tr>\n",
       "    <tr>\n",
       "      <th>...</th>\n",
       "      <td>...</td>\n",
       "      <td>...</td>\n",
       "      <td>...</td>\n",
       "      <td>...</td>\n",
       "      <td>...</td>\n",
       "      <td>...</td>\n",
       "      <td>...</td>\n",
       "      <td>...</td>\n",
       "      <td>...</td>\n",
       "      <td>...</td>\n",
       "      <td>...</td>\n",
       "      <td>...</td>\n",
       "      <td>...</td>\n",
       "      <td>...</td>\n",
       "      <td>...</td>\n",
       "      <td>...</td>\n",
       "      <td>...</td>\n",
       "      <td>...</td>\n",
       "      <td>...</td>\n",
       "      <td>...</td>\n",
       "      <td>...</td>\n",
       "    </tr>\n",
       "    <tr>\n",
       "      <th>2877331</th>\n",
       "      <td>323778</td>\n",
       "      <td>1170446164</td>\n",
       "      <td>5</td>\n",
       "      <td>20</td>\n",
       "      <td>0</td>\n",
       "      <td>-7.253327</td>\n",
       "      <td>-13.439889</td>\n",
       "      <td>0.748807</td>\n",
       "      <td>16.234796</td>\n",
       "      <td>-0.717270</td>\n",
       "      <td>...</td>\n",
       "      <td>1.149443e-07</td>\n",
       "      <td>0.000113</td>\n",
       "      <td>0.020143</td>\n",
       "      <td>1.0</td>\n",
       "      <td>0.887139</td>\n",
       "      <td>0.020143</td>\n",
       "      <td>1.0</td>\n",
       "      <td>0.887139</td>\n",
       "      <td>-8.369069e-07</td>\n",
       "      <td>-5.452707e-08</td>\n",
       "    </tr>\n",
       "    <tr>\n",
       "      <th>2877332</th>\n",
       "      <td>323778</td>\n",
       "      <td>1170446164</td>\n",
       "      <td>5</td>\n",
       "      <td>20</td>\n",
       "      <td>0</td>\n",
       "      <td>-6.929379</td>\n",
       "      <td>-13.684290</td>\n",
       "      <td>0.518145</td>\n",
       "      <td>16.306924</td>\n",
       "      <td>-0.393322</td>\n",
       "      <td>...</td>\n",
       "      <td>1.149443e-07</td>\n",
       "      <td>0.000113</td>\n",
       "      <td>0.001968</td>\n",
       "      <td>1.0</td>\n",
       "      <td>0.964613</td>\n",
       "      <td>0.001968</td>\n",
       "      <td>1.0</td>\n",
       "      <td>0.964613</td>\n",
       "      <td>1.819607e-06</td>\n",
       "      <td>-5.452707e-08</td>\n",
       "    </tr>\n",
       "    <tr>\n",
       "      <th>2877333</th>\n",
       "      <td>323778</td>\n",
       "      <td>1170446164</td>\n",
       "      <td>5</td>\n",
       "      <td>20</td>\n",
       "      <td>0</td>\n",
       "      <td>-6.506071</td>\n",
       "      <td>-13.812465</td>\n",
       "      <td>0.265454</td>\n",
       "      <td>16.340456</td>\n",
       "      <td>-0.393322</td>\n",
       "      <td>...</td>\n",
       "      <td>-3.315220e-07</td>\n",
       "      <td>0.000070</td>\n",
       "      <td>0.434184</td>\n",
       "      <td>1.0</td>\n",
       "      <td>0.509943</td>\n",
       "      <td>0.434184</td>\n",
       "      <td>1.0</td>\n",
       "      <td>0.509943</td>\n",
       "      <td>1.819607e-06</td>\n",
       "      <td>-1.491556e-06</td>\n",
       "    </tr>\n",
       "    <tr>\n",
       "      <th>2877334</th>\n",
       "      <td>323778</td>\n",
       "      <td>1170446164</td>\n",
       "      <td>5</td>\n",
       "      <td>20</td>\n",
       "      <td>0</td>\n",
       "      <td>-7.596794</td>\n",
       "      <td>-13.473767</td>\n",
       "      <td>0.588650</td>\n",
       "      <td>16.547322</td>\n",
       "      <td>-1.060738</td>\n",
       "      <td>...</td>\n",
       "      <td>1.149443e-07</td>\n",
       "      <td>0.000113</td>\n",
       "      <td>2.192664</td>\n",
       "      <td>1.0</td>\n",
       "      <td>0.138669</td>\n",
       "      <td>2.192665</td>\n",
       "      <td>1.0</td>\n",
       "      <td>0.138669</td>\n",
       "      <td>-2.675908e-09</td>\n",
       "      <td>-5.452707e-08</td>\n",
       "    </tr>\n",
       "    <tr>\n",
       "      <th>2877335</th>\n",
       "      <td>323778</td>\n",
       "      <td>1170446164</td>\n",
       "      <td>5</td>\n",
       "      <td>20</td>\n",
       "      <td>0</td>\n",
       "      <td>-7.565568</td>\n",
       "      <td>-13.273222</td>\n",
       "      <td>0.825537</td>\n",
       "      <td>16.333914</td>\n",
       "      <td>-0.717270</td>\n",
       "      <td>...</td>\n",
       "      <td>9.885698e-07</td>\n",
       "      <td>0.000058</td>\n",
       "      <td>1.953079</td>\n",
       "      <td>1.0</td>\n",
       "      <td>0.162255</td>\n",
       "      <td>1.953079</td>\n",
       "      <td>1.0</td>\n",
       "      <td>0.162255</td>\n",
       "      <td>-8.369069e-07</td>\n",
       "      <td>-2.675908e-09</td>\n",
       "    </tr>\n",
       "  </tbody>\n",
       "</table>\n",
       "<p>169271 rows × 135 columns</p>\n",
       "</div>"
      ],
      "text/plain": [
       "            run       event nCandPerEvent numPrimaryVertices trigger  \\\n",
       "                                                                       \n",
       "                                                                       \n",
       "0        323841   552354231            29                 31       0   \n",
       "1        323841   552354231            29                 31       0   \n",
       "29       323841   551198558             2                 30       0   \n",
       "181      323841   551272561            17                 26       0   \n",
       "182      323841   551272561            17                 26       0   \n",
       "...         ...         ...           ...                ...     ...   \n",
       "2877331  323778  1170446164             5                 20       0   \n",
       "2877332  323778  1170446164             5                 20       0   \n",
       "2877333  323778  1170446164             5                 20       0   \n",
       "2877334  323778  1170446164             5                 20       0   \n",
       "2877335  323778  1170446164             5                 20       0   \n",
       "\n",
       "        candidate_p4                                  track1_p4  ...  \\\n",
       "                  fP                               fE        fP  ...   \n",
       "                  fX         fY         fZ                   fX  ...   \n",
       "0         -12.896234  13.289232  34.000256  39.082240 -0.511994  ...   \n",
       "1         -12.772388  13.479754  33.044973  38.250056 -0.460510  ...   \n",
       "29         14.102908  -7.387182  13.949071  21.640259  1.580473  ...   \n",
       "181        18.754642  -7.422967 -49.670005  53.931184  0.587341  ...   \n",
       "182        20.036696  -7.456149 -54.811826  59.020910  1.169277  ...   \n",
       "...              ...        ...        ...        ...       ...  ...   \n",
       "2877331    -7.253327 -13.439889   0.748807  16.234796 -0.717270  ...   \n",
       "2877332    -6.929379 -13.684290   0.518145  16.306924 -0.393322  ...   \n",
       "2877333    -6.506071 -13.812465   0.265454  16.340456 -0.393322  ...   \n",
       "2877334    -7.596794 -13.473767   0.588650  16.547322 -1.060738  ...   \n",
       "2877335    -7.565568 -13.273222   0.825537  16.333914 -0.717270  ...   \n",
       "\n",
       "        track2_SDxyDsz track2_SDszDsz vChi2KalmanKK vNDFKalmanKK  \\\n",
       "                                                                   \n",
       "                                                                   \n",
       "0         4.043407e-06       0.000236      0.069050          1.0   \n",
       "1         2.727896e-07       0.000154      0.998792          1.0   \n",
       "29        2.452710e-07       0.000033      0.018591          1.0   \n",
       "181       1.813705e-06       0.000086      0.496986          1.0   \n",
       "182       2.354937e-07       0.000038      0.036609          1.0   \n",
       "...                ...            ...           ...          ...   \n",
       "2877331   1.149443e-07       0.000113      0.020143          1.0   \n",
       "2877332   1.149443e-07       0.000113      0.001968          1.0   \n",
       "2877333  -3.315220e-07       0.000070      0.434184          1.0   \n",
       "2877334   1.149443e-07       0.000113      2.192664          1.0   \n",
       "2877335   9.885698e-07       0.000058      1.953079          1.0   \n",
       "\n",
       "        vProbKalmanKK vChi2KinematicKK vNDFKinematicKK vProbKinematicKK  \\\n",
       "                                                                          \n",
       "                                                                          \n",
       "0            0.792726         0.069050             1.0         0.792726   \n",
       "1            0.317603         0.998792             1.0         0.317603   \n",
       "29           0.891546         0.018591             1.0         0.891546   \n",
       "181          0.480828         0.496986             1.0         0.480828   \n",
       "182          0.848263         0.036609             1.0         0.848263   \n",
       "...               ...              ...             ...              ...   \n",
       "2877331      0.887139         0.020143             1.0         0.887139   \n",
       "2877332      0.964613         0.001968             1.0         0.964613   \n",
       "2877333      0.509943         0.434184             1.0         0.509943   \n",
       "2877334      0.138669         2.192665             1.0         0.138669   \n",
       "2877335      0.162255         1.953079             1.0         0.162255   \n",
       "\n",
       "        track1_minEigen track2_minEigen  \n",
       "                                         \n",
       "                                         \n",
       "0          2.914304e-07   -1.049484e-05  \n",
       "1         -1.049484e-05   -6.740497e-07  \n",
       "29         1.241960e-07    1.938872e-07  \n",
       "181       -2.198772e-06   -7.917231e-07  \n",
       "182        1.323121e-08   -2.660625e-09  \n",
       "...                 ...             ...  \n",
       "2877331   -8.369069e-07   -5.452707e-08  \n",
       "2877332    1.819607e-06   -5.452707e-08  \n",
       "2877333    1.819607e-06   -1.491556e-06  \n",
       "2877334   -2.675908e-09   -5.452707e-08  \n",
       "2877335   -8.369069e-07   -2.675908e-09  \n",
       "\n",
       "[169271 rows x 135 columns]"
      ]
     },
     "execution_count": 93,
     "metadata": {},
     "output_type": "execute_result"
    }
   ],
   "source": [
    "candidate_tree"
   ]
  },
  {
   "cell_type": "code",
   "execution_count": 5,
   "metadata": {},
   "outputs": [],
   "source": [
    "cosalpha_cut = (candidate_tree['candidate_cosAlpha']>0.99)"
   ]
  },
  {
   "cell_type": "code",
   "execution_count": 8,
   "metadata": {},
   "outputs": [
    {
     "data": {
      "text/plain": [
       "<AxesSubplot:>"
      ]
     },
     "execution_count": 8,
     "metadata": {},
     "output_type": "execute_result"
    },
    {
     "data": {
      "image/png": "[encoded data removed]",
      "text/plain": [
       "<Figure size 1080x360 with 1 Axes>"
      ]
     },
     "metadata": {
      "needs_background": "light"
     },
     "output_type": "display_data"
    }
   ],
   "source": [
    "candidate_tree.loc[cosalpha_cut, \"candidate_lxy\"].hist(bins=200, range=(0.0, 0.025), figsize=(15, 5))\n",
    "candidate_tree.loc[-cosalpha_cut, \"candidate_lxy\"].hist(bins=200, range=(0.0, 0.025), figsize=(15, 5)) #inversed cut"
   ]
  },
  {
   "cell_type": "code",
   "execution_count": 21,
   "metadata": {
    "scrolled": true
   },
   "outputs": [
    {
     "data": {
      "text/plain": [
       "<AxesSubplot:>"
      ]
     },
     "execution_count": 21,
     "metadata": {},
     "output_type": "execute_result"
    },
    {
     "data": {
      "image/png": "[encoded data removed]",
      "text/plain": [
       "<Figure size 1080x360 with 1 Axes>"
      ]
     },
     "metadata": {
      "needs_background": "light"
     },
     "output_type": "display_data"
    }
   ],
   "source": [
    "cut = (candidate_tree['candidate_charge'] == 0) & (candidate_tree['candidate_cosAlpha'] > 0.99)\n",
    "\n",
    "candidate_tree[cut]['candidate_vMass'].hist(bins=200, figsize=(15, 5))"
   ]
  },
  {
   "cell_type": "code",
   "execution_count": null,
   "metadata": {},
   "outputs": [],
   "source": [
    "# insert new column\n",
    "# data.loc[:, \"new_column\"] = [new_column]"
   ]
  }
 ],
 "metadata": {
  "kernelspec": {
   "display_name": "Python 3",
   "language": "python",
   "name": "python3"
  },
  "language_info": {
   "codemirror_mode": {
    "name": "ipython",
    "version": 3
   },
   "file_extension": ".py",
   "mimetype": "text/x-python",
   "name": "python",
   "nbconvert_exporter": "python",
   "pygments_lexer": "ipython3",
   "version": "3.8.2"
  }
 },
 "nbformat": 4,
 "nbformat_minor": 5
}
