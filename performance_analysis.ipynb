{
 "cells": [
  {
   "cell_type": "code",
   "execution_count": 2,
   "id": "14f8920c",
   "metadata": {},
   "outputs": [
    {
     "name": "stdout",
     "output_type": "stream",
     "text": [
      "Welcome to JupyROOT 6.24/06\n"
     ]
    }
   ],
   "source": [
    "import ROOT\n",
    "import os\n",
    "import time\n",
    "import matplotlib.pyplot as plt\n",
    "import csv"
   ]
  },
  {
   "cell_type": "code",
   "execution_count": 3,
   "id": "e81ead05",
   "metadata": {},
   "outputs": [],
   "source": [
    "path = \"../merged/\""
   ]
  },
  {
   "cell_type": "code",
   "execution_count": 4,
   "id": "9e23d0fe",
   "metadata": {},
   "outputs": [],
   "source": [
    "def get_total_size(path, num_files):\n",
    "    filenames = sorted(os.listdir(path))\n",
    "    total_size = sum([os.path.getsize(path + filenames[i]) for i in range(num_files)])\n",
    "    return total_size / (2**30)"
   ]
  },
  {
   "cell_type": "code",
   "execution_count": 5,
   "id": "5e954ec2",
   "metadata": {},
   "outputs": [],
   "source": [
    "def col_average(data):\n",
    "    n_rows = len(data)\n",
    "    n_cols = len(data[0])\n",
    "    return [sum([data[i][j] for i in range(1, n_rows)]) / (n_rows - 1) for j in range(n_cols)]"
   ]
  },
  {
   "cell_type": "code",
   "execution_count": 6,
   "id": "f67f421b",
   "metadata": {},
   "outputs": [],
   "source": [
    "def runtime_measure(path, num_files, num_threads):\n",
    "    # Specify the number of threads\n",
    "    ROOT.ROOT.EnableImplicitMT(num_threads)\n",
    "    \n",
    "    # Get paths to all the files to be read \n",
    "    filenames = sorted(os.listdir(path))\n",
    "    files_to_read = ROOT.std.vector('string')()\n",
    "    for i in range(num_files):\n",
    "        files_to_read.push_back(path + filenames[i])\n",
    "    \n",
    "    # Measure runtime\n",
    "    start_time = time.time()\n",
    "    data = ROOT.RDataFrame(\"rootuple/CandidateTree\", files_to_read)\n",
    "    cut = data.Filter(\"candidate_charge == 0\")\\\n",
    "          .Filter(\"candidate_cosAlpha > 0.99\")\\\n",
    "          .Filter(\"candidate_vProb > 0.05\")\\\n",
    "          .Filter(\"candidate_lxy / candidate_lxyErr > 3.0\")\\\n",
    "          .Filter(\"ditrack_mass > 1.014\")\\\n",
    "          .Filter(\"ditrack_mass < 1.024\")\\\n",
    "          .Filter(\"candidate_vMass > 5.33\")\\\n",
    "          .Filter(\"candidate_vMass < 5.40\")\n",
    "    np_array = cut.AsNumpy([\"candidate_vMass\"])\n",
    "    runtime = time.time() - start_time\n",
    "    \n",
    "    return runtime\n",
    "    "
   ]
  },
  {
   "cell_type": "code",
   "execution_count": 7,
   "id": "1ea9bdc8",
   "metadata": {},
   "outputs": [],
   "source": [
    "def runtime_vs_size(path, num_threads, max_files, step, num_loops):\n",
    "    x = [get_total_size(path, a) for a in range(step, max_files + step, step)]\n",
    "    with open(\"runtime_tests/runtime_vs_size_%d_%d_%d_%d.csv\" % (num_threads, max_files, step, num_loops), \"w+\", newline=\"\") as f:\n",
    "        csv.writer(f).writerow(x)\n",
    "    for n in range(num_loops):\n",
    "        y = [runtime_measure(path, i, num_threads) for i in range(step, max_files + step, step)]\n",
    "        with open(\"runtime_tests/runtime_vs_size_%d_%d_%d_%d.csv\" % (num_threads, max_files, step, num_loops), \"a+\", newline=\"\") as f:\n",
    "            csv.writer(f).writerow(y)\n"
   ]
  },
  {
   "cell_type": "code",
   "execution_count": 8,
   "id": "f3bc5991",
   "metadata": {},
   "outputs": [],
   "source": [
    "def runtime_vs_size_plot(path, num_threads, max_files, step, num_loops):\n",
    "    if not os.path.exists(\"runtime_tests/runtime_vs_size_%d_%d_%d_%d.csv\" % (num_threads, max_files, step, num_loops)):\n",
    "        runtime_vs_size(path, num_threads, max_files, step, num_loops)\n",
    "    with open(\"runtime_tests/runtime_vs_size_%d_%d_%d_%d.csv\" % (num_threads, max_files, step, num_loops), \"r\") as f:\n",
    "        data = [[float(a) for a in row] for row in csv.reader(f)]\n",
    "        plt.figure(figsize = (15, 5))\n",
    "        plt.title('Runtime vs Size (%d threads)' % (num_threads))\n",
    "        plt.xlabel('Size (GB)')\n",
    "        plt.ylabel('Runtime (s)')\n",
    "        plt.savefig('figures/runtime_vs_size_%d_%d_%d_%d.png' % (num_threads, max_files, step, num_loops), bbox_inches='tight')\n",
    "        plt.scatter(data[0], col_average(data))"
   ]
  },
  {
   "cell_type": "code",
   "execution_count": 9,
   "id": "9098fcee",
   "metadata": {},
   "outputs": [],
   "source": [
    "def runtime_vs_threads(path, num_files, max_threads, step, num_loops):\n",
    "    x = [a for a in range(step, max_threads + step, step)]\n",
    "    with open(\"runtime_tests/runtime_vs_threads_%d_%d_%d_%d.csv\" % (num_files, max_threads, step, num_loops), \"w+\", newline=\"\") as f:\n",
    "        csv.writer(f).writerow(x)\n",
    "    for n in range(num_loops):\n",
    "        y = [runtime_measure(path, num_files, i) for i in range(step, max_threads + step, step)]\n",
    "        with open(\"runtime_tests/runtime_vs_threads_%d_%d_%d_%d.csv\" % (num_files, max_threads, step, num_loops), \"a+\", newline=\"\") as f:\n",
    "            csv.writer(f).writerow(y)\n",
    "        "
   ]
  },
  {
   "cell_type": "code",
   "execution_count": 10,
   "id": "2c169bd8",
   "metadata": {},
   "outputs": [],
   "source": [
    "def runtime_vs_threads_plot(path, num_files, max_threads, step, num_loops):\n",
    "    if not os.path.exists(\"runtime_tests/runtime_vs_threads_%d_%d_%d_%d.csv\" % (num_files, max_threads, step, num_loops)):\n",
    "        runtime_vs_threads(path, num_files, max_threads, step, num_loops)\n",
    "    with open(\"runtime_tests/runtime_vs_threads_%d_%d_%d_%d.csv\" % (num_files, max_threads, step, num_loops), \"r\") as f:\n",
    "        data = [[float(a) for a in row] for row in csv.reader(f)]\n",
    "        plt.figure(figsize = (15, 5))\n",
    "        plt.title('Runtime vs Threads (%.2f GB)' % (get_total_size(path, num_files)))\n",
    "        plt.xlabel('Threads')\n",
    "        plt.ylabel('Runtime (s)')\n",
    "        plt.savefig('figures/runtime_vs_threads_%d_%d_%d_%d.png' % (num_files, max_threads, step, num_loops), bbox_inches='tight')\n",
    "        plt.scatter(data[0], col_average(data))"
   ]
  },
  {
   "cell_type": "code",
   "execution_count": 12,
   "id": "2ac22178",
   "metadata": {},
   "outputs": [
    {
     "data": {
      "image/png": "[encoded data removed]",
      "text/plain": [
       "<Figure size 1080x360 with 1 Axes>"
      ]
     },
     "metadata": {
      "needs_background": "light"
     },
     "output_type": "display_data"
    }
   ],
   "source": [
    "runtime_vs_size_plot(path, 16, 50, 2, 10)"
   ]
  },
  {
   "cell_type": "code",
   "execution_count": 11,
   "id": "3d07eaf8",
   "metadata": {},
   "outputs": [
    {
     "data": {
      "image/png": "[encoded data removed]",
      "text/plain": [
       "<Figure size 1080x360 with 1 Axes>"
      ]
     },
     "metadata": {
      "needs_background": "light"
     },
     "output_type": "display_data"
    }
   ],
   "source": [
    "runtime_vs_threads_plot(path, 10, 64, 4, 10)"
   ]
  },
  {
   "cell_type": "code",
   "execution_count": 12,
   "id": "38a907bb",
   "metadata": {},
   "outputs": [
    {
     "data": {
      "image/png": "[encoded data removed]",
      "text/plain": [
       "<Figure size 1080x360 with 1 Axes>"
      ]
     },
     "metadata": {
      "needs_background": "light"
     },
     "output_type": "display_data"
    }
   ],
   "source": [
    "runtime_vs_threads_plot(path, 20, 64, 4, 10)"
   ]
  },
  {
   "cell_type": "code",
   "execution_count": null,
   "id": "c7a8dd42",
   "metadata": {},
   "outputs": [],
   "source": []
  }
 ],
 "metadata": {
  "kernelspec": {
   "display_name": "Python 3 (ipykernel)",
   "language": "python",
   "name": "python3"
  },
  "language_info": {
   "codemirror_mode": {
    "name": "ipython",
    "version": 3
   },
   "file_extension": ".py",
   "mimetype": "text/x-python",
   "name": "python",
   "nbconvert_exporter": "python",
   "pygments_lexer": "ipython3",
   "version": "3.9.13"
  }
 },
 "nbformat": 4,
 "nbformat_minor": 5
}
