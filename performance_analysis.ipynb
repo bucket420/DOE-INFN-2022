{
 "cells": [
  {
   "cell_type": "code",
   "execution_count": 65,
   "id": "14f8920c",
   "metadata": {},
   "outputs": [],
   "source": [
    "import ROOT\n",
    "import os\n",
    "import time\n",
    "import matplotlib.pyplot as plt\n",
    "import csv"
   ]
  },
  {
   "cell_type": "code",
   "execution_count": 66,
   "id": "e81ead05",
   "metadata": {},
   "outputs": [],
   "source": [
    "path = \"../merged/\""
   ]
  },
  {
   "cell_type": "code",
   "execution_count": 67,
   "id": "9e23d0fe",
   "metadata": {},
   "outputs": [],
   "source": [
    "def get_total_size(path, n_files):\n",
    "    filenames = sorted(os.listdir(path))\n",
    "    total_size = sum([os.path.getsize(path + filenames[i]) for i in range(n_files)])\n",
    "    return total_size / (2**30)"
   ]
  },
  {
   "cell_type": "code",
   "execution_count": 68,
   "id": "5e954ec2",
   "metadata": {},
   "outputs": [],
   "source": [
    "def col_average(data):\n",
    "    n_rows = len(data)\n",
    "    n_cols = len(data[0])\n",
    "    return [sum([data[i][j] for i in range(1, n_rows)]) / (n_rows - 1) for j in range(n_cols)]"
   ]
  },
  {
   "cell_type": "code",
   "execution_count": 69,
   "id": "398104a1",
   "metadata": {},
   "outputs": [],
   "source": [
    "def col_standard_deviation(data):\n",
    "    n_rows = len(data)\n",
    "    n_cols = len(data[0])\n",
    "    mean = col_average(data)\n",
    "    return [(sum([(data[i][j] - mean[j])**2 for i in range(1, n_rows)]) / (n_rows - 1))**0.5 for j in range(n_cols)]\n",
    "    "
   ]
  },
  {
   "cell_type": "code",
   "execution_count": 178,
   "id": "f67f421b",
   "metadata": {},
   "outputs": [],
   "source": [
    "def runtime_measure(path, n_files, n_threads):\n",
    "    # Specify the number of threads\n",
    "    if n_threads != 0:\n",
    "        ROOT.ROOT.EnableImplicitMT(n_threads)\n",
    "    \n",
    "    # Get paths to all the files to be read \n",
    "    filenames = sorted(os.listdir(path))\n",
    "    files_to_read = ROOT.std.vector('string')()\n",
    "    for i in range(n_files):\n",
    "        files_to_read.push_back(path + filenames[i])\n",
    "    \n",
    "    # Measure runtime\n",
    "    start_time = time.time()\n",
    "    data = ROOT.RDataFrame(\"rootuple/CandidateTree\", files_to_read)\n",
    "    cut = data.Filter(\"candidate_charge == 0\")\\\n",
    "          .Filter(\"candidate_cosAlpha > 0.99\")\\\n",
    "          .Filter(\"candidate_vProb > 0.05\")\\\n",
    "          .Filter(\"candidate_lxy / candidate_lxyErr > 3.0\")\\\n",
    "          .Filter(\"ditrack_mass > 1.014\")\\\n",
    "          .Filter(\"ditrack_mass < 1.024\")\\\n",
    "          .Filter(\"candidate_vMass > 5.33\")\\\n",
    "          .Filter(\"candidate_vMass < 5.40\")\n",
    "    np_array = cut.AsNumpy([\"candidate_vMass\"])\n",
    "    runtime = time.time() - start_time\n",
    "    \n",
    "    return runtime\n",
    "    "
   ]
  },
  {
   "cell_type": "code",
   "execution_count": 180,
   "id": "8150b901",
   "metadata": {},
   "outputs": [],
   "source": [
    "import multiprocessing\n",
    "import numpy as np\n",
    "import concurrent.futures"
   ]
  },
  {
   "cell_type": "code",
   "execution_count": 286,
   "id": "4d99a1d3",
   "metadata": {},
   "outputs": [],
   "source": [
    "def to_numpy(files, result):\n",
    "    if files.empty(): return\n",
    "    data = ROOT.RDataFrame(\"rootuple/CandidateTree\", files)\n",
    "    cut = data.Filter(\"candidate_charge == 0\")\\\n",
    "          .Filter(\"candidate_cosAlpha > 0.99\")\\\n",
    "          .Filter(\"candidate_vProb > 0.05\")\\\n",
    "          .Filter(\"candidate_lxy / candidate_lxyErr > 3.0\")\\\n",
    "          .Filter(\"ditrack_mass > 1.014\")\\\n",
    "          .Filter(\"ditrack_mass < 1.024\")\\\n",
    "          .Filter(\"candidate_vMass > 5.33\")\\\n",
    "          .Filter(\"candidate_vMass < 5.40\")\n",
    "    result.append(cut.AsNumpy([\"candidate_vMass\"])[\"candidate_vMass\"])\n"
   ]
  },
  {
   "cell_type": "code",
   "execution_count": 330,
   "id": "cdf0ca48",
   "metadata": {},
   "outputs": [],
   "source": [
    "def partition_files(path, n_files, n_processes):\n",
    "    filenames = sorted(os.listdir(path))\n",
    "    partitions = []\n",
    "    curr = 0\n",
    "    if n_files <= n_processes:\n",
    "        partition = [1 for _ in range(n_files)]\n",
    "    else:\n",
    "        for i in range(n_processes):\n",
    "            n_files_in_partition = n_files // n_processes if i >= n_files % n_processes else n_files // n_processes + 1\n",
    "            files_to_read = ROOT.std.vector('string')()\n",
    "            for j in range(n_files_in_partition):\n",
    "                files_to_read.push_back(path + filenames[curr + j])\n",
    "            curr += n_files_in_partition\n",
    "            partitions.append(files_to_read)\n",
    "    return partitions"
   ]
  },
  {
   "cell_type": "code",
   "execution_count": 331,
   "id": "de71a099",
   "metadata": {},
   "outputs": [],
   "source": [
    "def runtime_measure_mp(path, n_files, n_processes):\n",
    "    # Measure runtime\n",
    "    partitions = partition_files(path, n_files, n_processes)\n",
    "    start_time = time.time()\n",
    "    processes = []\n",
    "    result = multiprocessing.Manager().list()\n",
    "    for partition in partitions:\n",
    "        p = multiprocessing.Process(target=to_numpy, args=[partition, result])\n",
    "        p.start()\n",
    "        processes.append(p)\n",
    "        \n",
    "    for p in processes:\n",
    "        p.join()\n",
    "     \n",
    "    runtime = time.time() - start_time\n",
    "    \n",
    "    return runtime\n",
    "#, np.concatenate(tuple(result))"
   ]
  },
  {
   "cell_type": "code",
   "execution_count": 332,
   "id": "1ea9bdc8",
   "metadata": {},
   "outputs": [],
   "source": [
    "def runtime_vs_size(path, n_threads, max_files, step, n_loops, target_dir):\n",
    "    result_path = (\"runtime_tests_rdf/%s/runtime_vs_size_%d_%d_%d_%d.csv\" % (target_dir, n_threads, max_files, step, n_loops))\n",
    "    x = [get_total_size(path, a) for a in range(step, max_files + step, step)]\n",
    "    with open(result_path, \"w+\", newline=\"\") as f:\n",
    "        csv.writer(f).writerow(x)\n",
    "    for n in range(n_loops):\n",
    "        y = [runtime_measure(path, i, n_threads) for i in range(step, max_files + step, step)]\n",
    "        with open(result_path, \"a+\", newline=\"\") as f:\n",
    "            csv.writer(f).writerow(y)\n"
   ]
  },
  {
   "cell_type": "code",
   "execution_count": 333,
   "id": "f3bc5991",
   "metadata": {},
   "outputs": [],
   "source": [
    "def runtime_vs_size_plot(path, n_threads, max_files, step, n_loops, target_dir):\n",
    "    if not os.path.exists(\"runtime_tests_rdf/%s\" % (target_dir)):\n",
    "        os.mkdir(\"runtime_tests_rdf/%s\" % (target_dir))\n",
    "    if not os.path.exists(\"figures/%s\" % (target_dir)):\n",
    "        os.mkdir(\"figures/%s\" % (target_dir))\n",
    "    result_path = (\"runtime_tests_rdf/%s/runtime_vs_size_%d_%d_%d_%d.csv\" % (target_dir, n_threads, max_files, step, n_loops))\n",
    "    if not os.path.exists(result_path):\n",
    "        runtime_vs_size(path, n_threads, max_files, step, n_loops, target_dir)\n",
    "    with open(result_path, \"r\") as f:\n",
    "        data = [[float(a) for a in row] for row in csv.reader(f)]\n",
    "        plt.figure(figsize = (15, 5))\n",
    "        plt.title('Runtime vs Size (%d threads)' % (n_threads))\n",
    "        plt.xlabel('Size (GB)')\n",
    "        plt.ylabel('Runtime (s)')\n",
    "        #plt.scatter(data[0], col_average(data))\n",
    "        #for r in range(1, len(data)):\n",
    "            #plt.scatter(data[0], data[r])\n",
    "        plt.errorbar(data[0], col_average(data), yerr=col_standard_deviation(data), fmt=\"o\", ecolor=\"orange\")\n",
    "        plt.savefig('figures/%s/runtime_vs_size_%d_%d_%d_%d.png' % (target_dir, n_threads, max_files, step, n_loops), bbox_inches='tight')\n"
   ]
  },
  {
   "cell_type": "code",
   "execution_count": 334,
   "id": "9098fcee",
   "metadata": {},
   "outputs": [],
   "source": [
    "def runtime_vs_threads(path, n_files, max_threads, step, n_loops, target_dir):\n",
    "    parent_dir = path.split('/')[-2]\n",
    "    result_path = (\"runtime_tests_rdf/%s/runtime_vs_threads_%d_%d_%d_%d.csv\" % (target_dir, n_files, max_threads, step, n_loops))\n",
    "    x = [a for a in range(step, max_threads + step, step)]\n",
    "    with open(result_path, \"w+\", newline=\"\") as f:\n",
    "        csv.writer(f).writerow(x)\n",
    "    for n in range(n_loops):\n",
    "        y = [runtime_measure(path, n_files, i) for i in range(step, max_threads + step, step)]\n",
    "        with open(result_path, \"a+\", newline=\"\") as f:\n",
    "            csv.writer(f).writerow(y)\n",
    "        "
   ]
  },
  {
   "cell_type": "code",
   "execution_count": 335,
   "id": "2c169bd8",
   "metadata": {},
   "outputs": [],
   "source": [
    "def runtime_vs_threads_plot(path, n_files, max_threads, step, n_loops, target_dir):\n",
    "    parent_dir = path.split('/')[-2]\n",
    "    if not os.path.exists(\"runtime_tests_rdf/%s\" % (target_dir)):\n",
    "        os.mkdir(\"runtime_tests_rdf/%s\" % (target_dir))\n",
    "    if not os.path.exists(\"figures/%s\" % (target_dir)):\n",
    "        os.mkdir(\"figures/%s\" % (target_dir))\n",
    "    result_path = (\"runtime_tests_rdf/%s/runtime_vs_threads_%d_%d_%d_%d.csv\" % (target_dir, n_files, max_threads, step, n_loops))\n",
    "    if not os.path.exists(result_path):\n",
    "        runtime_vs_threads(path, n_files, max_threads, step, n_loops, target_dir)\n",
    "    with open(result_path, \"r\") as f:\n",
    "        data = [[float(a) for a in row] for row in csv.reader(f)]\n",
    "        plt.figure(figsize = (15, 5))\n",
    "        plt.title('Runtime vs Threads (%.2f GB)' % (get_total_size(path, n_files)))\n",
    "        plt.xlabel('Threads')\n",
    "        plt.ylabel('Runtime (s)')\n",
    "        #plt.scatter(data[0], col_average(data))\n",
    "        #for r in range(1, len(data)):\n",
    "            #plt.scatter(data[0], data[r])\n",
    "        plt.errorbar(data[0], col_average(data[1:]), yerr=col_standard_deviation(data[1:]), fmt=\"o\", ecolor=\"orange\")\n",
    "        plt.savefig('figures/%s/runtime_vs_threads_%d_%d_%d_%d.png' % (target_dir, n_files, max_threads, step, n_loops), bbox_inches='tight')"
   ]
  },
  {
   "cell_type": "code",
   "execution_count": 336,
   "id": "c7a8dd42",
   "metadata": {},
   "outputs": [],
   "source": [
    "def runtime_vs_processes(path, n_files, step, n_loops, target_dir):\n",
    "    parent_dir = path.split('/')[-2]\n",
    "    result_path = (\"runtime_tests_rdf/%s/runtime_vs_processes_%d_%d_%d.csv\" % (target_dir, n_files, step, n_loops))\n",
    "    x = [a for a in range(step, n_files + step, step)]\n",
    "    with open(result_path, \"w+\", newline=\"\") as f:\n",
    "        csv.writer(f).writerow(x)\n",
    "    for n in range(n_loops):\n",
    "        y = [runtime_measure_mp(path, n_files, i) for i in range(step, n_files + step, step)]\n",
    "        with open(result_path, \"a+\", newline=\"\") as f:\n",
    "            csv.writer(f).writerow(y)"
   ]
  },
  {
   "cell_type": "code",
   "execution_count": 345,
   "id": "ce2dab3a",
   "metadata": {},
   "outputs": [],
   "source": [
    "def runtime_vs_processes_plot(path, n_files, step, n_loops, target_dir):\n",
    "    parent_dir = path.split('/')[-2]\n",
    "    if not os.path.exists(\"runtime_tests_rdf/%s\" % (target_dir)):\n",
    "        os.mkdir(\"runtime_tests_rdf/%s\" % (target_dir))\n",
    "    if not os.path.exists(\"figures/%s\" % (target_dir)):\n",
    "        os.mkdir(\"figures/%s\" % (target_dir))\n",
    "    result_path = (\"runtime_tests_rdf/%s/runtime_vs_processes_%d_%d_%d.csv\" % (target_dir, n_files, step, n_loops))\n",
    "    if not os.path.exists(result_path):\n",
    "        runtime_vs_processes(path, n_files, step, n_loops, target_dir)\n",
    "    with open(result_path, \"r\") as f:\n",
    "        data = [[float(a) for a in row] for row in csv.reader(f)]\n",
    "        plt.figure(figsize = (15, 5))\n",
    "        plt.title('Runtime vs Processes (%.2f GB)' % (get_total_size(path, n_files)))\n",
    "        plt.xlabel('Processes')\n",
    "        plt.ylabel('Runtime (s)')\n",
    "        #plt.scatter(data[0], col_average(data))\n",
    "        #for r in range(1, len(data)):\n",
    "            #plt.scatter(data[0], data[r])\n",
    "        plt.errorbar(data[0], col_average(data[1:]), yerr=col_standard_deviation(data[1:]), fmt=\"o\", ecolor=\"orange\")\n",
    "        plt.savefig('figures/%s/runtime_vs_processes_%d_%d_%d.png' % (target_dir, n_files, step, n_loops), bbox_inches='tight')"
   ]
  },
  {
   "cell_type": "code",
   "execution_count": 341,
   "id": "8140bfbf",
   "metadata": {},
   "outputs": [
    {
     "data": {
      "image/png": "[encoded data removed]",
      "text/plain": [
       "<Figure size 1080x360 with 1 Axes>"
      ]
     },
     "metadata": {
      "needs_background": "light"
     },
     "output_type": "display_data"
    }
   ],
   "source": [
    "runtime_vs_processes_plot(path, 10, 1, 10, \"merged\")"
   ]
  },
  {
   "cell_type": "code",
   "execution_count": 342,
   "id": "46fdee95",
   "metadata": {},
   "outputs": [
    {
     "data": {
      "image/png": "[encoded data removed]",
      "text/plain": [
       "<Figure size 1080x360 with 1 Axes>"
      ]
     },
     "metadata": {
      "needs_background": "light"
     },
     "output_type": "display_data"
    }
   ],
   "source": [
    "runtime_vs_processes_plot(path, 20, 2, 10, \"merged\")"
   ]
  },
  {
   "cell_type": "code",
   "execution_count": 344,
   "id": "a38da882",
   "metadata": {},
   "outputs": [
    {
     "data": {
      "image/png": "[encoded data removed]",
      "text/plain": [
       "<Figure size 1080x360 with 1 Axes>"
      ]
     },
     "metadata": {
      "needs_background": "light"
     },
     "output_type": "display_data"
    }
   ],
   "source": [
    "runtime_vs_processes_plot(path, 60, 4, 10, \"merged\")"
   ]
  },
  {
   "cell_type": "code",
   "execution_count": null,
   "id": "8e4db32a",
   "metadata": {},
   "outputs": [],
   "source": [
    "def runtime_vs_size_mp(path, n_processes, max_files, step, n_loops, target_dir):\n",
    "    result_path = (\"runtime_tests_rdf/%s/runtime_vs_size_%d_%d_%d_%d.csv\" % (target_dir, n_processes, max_files, step, n_loops))\n",
    "    x = [get_total_size(path, a) for a in range(step, max_files + step, step)]\n",
    "    with open(result_path, \"w+\", newline=\"\") as f:\n",
    "        csv.writer(f).writerow(x)\n",
    "    for n in range(n_loops):\n",
    "        y = [runtime_measure(path, i, n_processes) for i in range(step, max_files + step, step)]\n",
    "        with open(result_path, \"a+\", newline=\"\") as f:\n",
    "            csv.writer(f).writerow(y)"
   ]
  },
  {
   "cell_type": "code",
   "execution_count": null,
   "id": "98b28ef9",
   "metadata": {},
   "outputs": [],
   "source": [
    "def runtime_vs_size_plot(path, n_processes, max_files, step, n_loops, target_dir):\n",
    "    if not os.path.exists(\"runtime_tests_rdf/%s\" % (target_dir)):\n",
    "        os.mkdir(\"runtime_tests_rdf/%s\" % (target_dir))\n",
    "    if not os.path.exists(\"figures/%s\" % (target_dir)):\n",
    "        os.mkdir(\"figures/%s\" % (target_dir))\n",
    "    result_path = (\"runtime_tests_rdf/%s/runtime_vs_size_%d_%d_%d_%d.csv\" % (target_dir, n_processes, max_files, step, n_loops))\n",
    "    if not os.path.exists(result_path):\n",
    "        runtime_vs_size_mp(path, n_processes, max_files, step, n_loops, target_dir)\n",
    "    with open(result_path, \"r\") as f:\n",
    "        data = [[float(a) for a in row] for row in csv.reader(f)]\n",
    "        plt.figure(figsize = (15, 5))\n",
    "        plt.title('Runtime vs Size (%d processes)' % (n_processes))\n",
    "        plt.xlabel('Size (GB)')\n",
    "        plt.ylabel('Runtime (s)')\n",
    "        #plt.scatter(data[0], col_average(data))\n",
    "        #for r in range(1, len(data)):\n",
    "            #plt.scatter(data[0], data[r])\n",
    "        plt.errorbar(data[0], col_average(data), yerr=col_standard_deviation(data), fmt=\"o\", ecolor=\"orange\")\n",
    "        plt.savefig('figures/%s/runtime_vs_size_%d_%d_%d_%d.png' % (target_dir, n_threads, max_files, step, n_loops), bbox_inches='tight')"
   ]
  },
  {
   "cell_type": "code",
   "execution_count": null,
   "id": "dae668a5",
   "metadata": {},
   "outputs": [],
   "source": []
  }
 ],
 "metadata": {
  "kernelspec": {
   "display_name": "Python 3 (ipykernel)",
   "language": "python",
   "name": "python3"
  },
  "language_info": {
   "codemirror_mode": {
    "name": "ipython",
    "version": 3
   },
   "file_extension": ".py",
   "mimetype": "text/x-python",
   "name": "python",
   "nbconvert_exporter": "python",
   "pygments_lexer": "ipython3",
   "version": "3.9.13"
  }
 },
 "nbformat": 4,
 "nbformat_minor": 5
}
